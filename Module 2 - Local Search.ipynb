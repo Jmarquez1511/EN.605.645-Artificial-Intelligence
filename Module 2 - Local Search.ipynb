{
 "cells": [
  {
   "cell_type": "markdown",
   "metadata": {},
   "source": [
    "# Module 2 - Programming Assignment\n",
    "\n",
    "## Directions\n",
    "\n",
    "1. Change the name of this file to be your JHED id as in `jsmith299.ipynb`. Because sure you use your JHED ID (it's made out of your name and not your student id which is just letters and numbers).\n",
    "2. Make sure the notebook you submit is cleanly and fully executed. I do not grade unexecuted notebooks.\n",
    "3. Submit your notebook back in Blackboard where you downloaded this file.\n",
    "\n",
    "*Provide the output **exactly** as requested*"
   ]
  },
  {
   "cell_type": "code",
   "execution_count": 1,
   "metadata": {},
   "outputs": [],
   "source": [
    "from pprint import pprint"
   ]
  },
  {
   "cell_type": "markdown",
   "metadata": {},
   "source": [
    "## Local Search - Genetic Algorithm\n",
    "\n",
    "There are some key ideas in the Genetic Algorithm.\n",
    "\n",
    "First, there is a problem of some kind that either *is* an optimization problem or the solution can be expressed in terms of an optimization problem.\n",
    "For example, if we wanted to minimize the function\n",
    "\n",
    "$$f(x) = \\sum (x_i - 0.5)^2$$\n",
    "\n",
    "where $n = 10$.\n",
    "This *is* an optimization problem. Normally, optimization problems are much, much harder.\n",
    "\n",
    "![Eggholder](http://www.sfu.ca/~ssurjano/egg.png)!\n",
    "\n",
    "The function we wish to optimize is often called the **objective function**.\n",
    "The objective function is closely related to the **fitness** function in the GA.\n",
    "If we have a **maximization** problem, then we can use the objective function directly as a fitness function.\n",
    "If we have a **minimization** problem, then we need to convert the objective function into a suitable fitness function, since fitness functions must always mean \"more is better\".\n",
    "\n",
    "Second, we need to *encode* candidate solutions using an \"alphabet\" analogous to G, A, T, C in DNA.\n",
    "This encoding can be quite abstract.\n",
    "You saw this in the Self Check.\n",
    "There a floating point number was encoded as bits, just as in a computer and a sophisticated decoding scheme was then required.\n",
    "\n",
    "Sometimes, the encoding need not be very complicated at all.\n",
    "For example, in the real-valued GA, discussed in the Lectures, we could represent 2.73 as....2.73.\n",
    "This is similarly true for a string matching problem.\n",
    "We *could* encode \"a\" as \"a\", 97, or '01100001'.\n",
    "And then \"hello\" would be:\n",
    "\n",
    "```\n",
    "[\"h\", \"e\", \"l\", \"l\", \"o\"]\n",
    "```\n",
    "\n",
    "or\n",
    "\n",
    "```\n",
    "[104, 101, 108, 108, 111]\n",
    "```\n",
    "\n",
    "or\n",
    "\n",
    "```\n",
    "0, 1, 1, 0, 1, 0, 0, 0, 0, 1, 1, 0, 0, 1, 0, 1, 0, 1, 1, 0, 1, 1, 0, 0, 0, 1, 1, 0, 1, 1, 0, 0, 0, 1, 1, 0, 1, 1, 1, 1\n",
    "```\n",
    "\n",
    "In Genetics terminology, this is the **chromosome** of the individual. And if this individual had the **phenotype** \"h\" for the first character then they would have the **genotype** for \"h\" (either as \"h\", 104, or 01101000).\n",
    "\n",
    "To keep it straight, think **geno**type is **genes** and **pheno**type is **phenomenon**, the actual thing that the genes express.\n",
    "So while we might encode a number as 10110110 (genotype), the number itself, 182, is what goes into the fitness function.\n",
    "The environment operates on zebras, not the genes for stripes."
   ]
  },
  {
   "cell_type": "markdown",
   "metadata": {},
   "source": [
    "## String Matching\n",
    "\n",
    "You are going to write a Genetic Algorithm that will solve the problem of matching a target string (at least at the start).\n",
    "Now, this is kind of silly because in order for this to work, you need to know the target string and if you know the target string, why are you trying to do it?\n",
    "Well, the problem is *pedagogical*.\n",
    "It's a fun way of visualizing the GA at work, because as the GA finds better and better candidates, they make more and more sense.\n",
    "\n",
    "Now, string matching is not *directly* an optimization problem so this falls under the general category of \"if we convert the problem into an optimization problem we can solve it with an optimization algorithm\" approach to problem solving.\n",
    "This happens all the time.\n",
    "We have a problem.\n",
    "We can't solve it.\n",
    "We convert it to a problem we *can* solve.\n",
    "In this case, we're using the GA to solve the optimization part.\n",
    "\n",
    "And all we need is some sort of measure of the difference between two strings.\n",
    "We can use that measure as a **loss function**.\n",
    "A loss function gives us a score tells us how similar two strings are.\n",
    "The loss function becomes our objective function and we use the GA to minimize it by converting the objective function to a fitness function.\n",
    "So that's the first step, come up with the loss/objective function.\n",
    "The only stipulation is that it must calculate the score based on element to element (character to character) comparisons with no global transformations of the candidate or target strings.\n",
    "\n",
    "And since this is a GA, we need a **genotype**.\n",
    "The genotype for this problem is a list of \"characters\" (individual letters aren't special in Python like they are in some other languages):\n",
    "\n",
    "```\n",
    "[\"h\", \"e\", \"l\", \"l\", \"o\"]\n",
    "```\n",
    "\n",
    "and the **phenotype** is the resulting string:\n",
    "\n",
    "```\n",
    "\"hello\"\n",
    "```\n",
    "\n",
    "In addition to the generic code and problem specific loss function, you'll need to pick parameters for the run.\n",
    "These parameters include:\n",
    "\n",
    "1. population size\n",
    "2. number of generations\n",
    "3. probability of crossover\n",
    "4. probability of mutation\n",
    "\n",
    "You will also need to pick a selection algorithm, either roulette wheel or tournament selection.\n",
    "In the later case, you will need a tournament size.\n",
    "This is all part of the problem.\n",
    "\n",
    "Every **ten** (10) generations, you should print out the fitness, genotype, and phenotype of the best individual in the population for the specific generation.\n",
    "The function should return the best individual *of the entire run*, using the same format."
   ]
  },
  {
   "cell_type": "code",
   "execution_count": 2,
   "metadata": {},
   "outputs": [],
   "source": [
    "ALPHABET = \"abcdefghijklmnopqrstuvwxyz \""
   ]
  },
  {
   "cell_type": "markdown",
   "metadata": {},
   "source": [
    "## Begin with some basics"
   ]
  },
  {
   "cell_type": "markdown",
   "metadata": {},
   "source": [
    "### `genotype()`\n",
    "We have a natural mapping in the ALPHABET provided, this is because each character has a position within the ALPHABET; 'a' has the position 0, while ' ' has the position 26. The genotype will therefore be defined as the element wise position of each character of the population member within ALPHABET. Therefore, the string 'abcde' will have the genotype [0,1,2,3,4].\n",
    "\n",
    "In order to implement `genotype()` I will simply loop through the string passed and use the `str.find()` method which returns the position of letter $i$ within ALPHABET. I then append that position to a list. Once the loop is completed, the function returns the list."
   ]
  },
  {
   "cell_type": "code",
   "execution_count": 3,
   "metadata": {},
   "outputs": [],
   "source": [
    "from random import randint, uniform\n",
    "def genotype(string: str, ALPHABET: str) -> list:\n",
    "    string_list = [i for i in string]\n",
    "    genotype = []\n",
    "    for i in string_list:\n",
    "        genotype.append(ALPHABET.find(i))\n",
    "    return genotype"
   ]
  },
  {
   "cell_type": "code",
   "execution_count": 4,
   "metadata": {},
   "outputs": [],
   "source": [
    "assert genotype('abcde', ALPHABET) == [0,1,2,3,4]\n",
    "assert genotype('mynameisjose', ALPHABET) == [12, 24, 13, 0, 12, 4, 8, 18, 9, 14, 18, 4]\n",
    "assert genotype('this is so much fun', ALPHABET) == [19, 7, 8, 18, 26, 8, 18, 26, 18, 14, 26, 12, 20, 2, 7, 26, 5, 20, 13]"
   ]
  },
  {
   "cell_type": "markdown",
   "metadata": {},
   "source": [
    "### `phenotype()`\n",
    "Provided that the genotype is just a mapping from the position to the character within ALPHABET, I will use such mapping to get back the string we are looking for. Therefore the phenotype for [0,1,2,3,4] is 'abcde'.\n",
    "The function `phenotype` below will take in the list `genotype` and the string `ALPHABET` and will loop through the elements of `genotype` using $i$. For each $i$ element of genotype, the function will apend into a list the object in `ALPHABET` in position `i`. Finally, the string elements of the resulting list will be concatenated into a single string to be returned.\n",
    "Two cells below you will find the translations from `genotype` to `phenotype`. "
   ]
  },
  {
   "cell_type": "code",
   "execution_count": 5,
   "metadata": {},
   "outputs": [],
   "source": [
    "def phenotype(genotype: list, ALPHABET: str) -> str:\n",
    "    phenotype = []\n",
    "    for i in genotype:\n",
    "        phenotype.append(ALPHABET[i])\n",
    "    phenotype = ''.join(phenotype)\n",
    "    return phenotype"
   ]
  },
  {
   "cell_type": "code",
   "execution_count": 6,
   "metadata": {},
   "outputs": [],
   "source": [
    "assert phenotype([0,1,2,3,4], ALPHABET) == 'abcde'\n",
    "assert phenotype([12, 24, 13, 0, 12, 4, 8, 18, 9, 14, 18, 4], ALPHABET) == 'mynameisjose'\n",
    "assert phenotype([19, 7, 8, 18, 26, 8, 18, 26, 18, 14, 26, 12, 20, 2, 7, 26, 5, 20, 13], ALPHABET) == 'this is so much fun'"
   ]
  },
  {
   "cell_type": "markdown",
   "metadata": {},
   "source": [
    "### Difference functions\n",
    "#### `difference_fitness()`\n",
    "The most basic representation for the fitness score would be to count how many of the genes match in the genotype and in the goal. The following are important considerations:\n",
    "- Both the  genotype to be evaluated and the genotype of the goal should be of the same length, in the case that they are not of the same length, I have decided to apply the largest penalty. The largest penalty would be that all chracters are different. This would ensure this particular genotype to be unsuitable for selection in the future as it will go down further in the population ranking. \n",
    "- Since we are looking to minimize the difference, we need to apply a couple of transformations to the provided score:\n",
    " 1. I will provide a score that is a ratio of the overall total possible difference. That is, our difference will be expressed as a percentage of the worst case scenario. \n",
    " 2. Once I have a value for the difference as a ratio, I will do the transformation:\n",
    " $$\\text{fitness_value} = \\frac{1}{1+\\text{difference_ratio}}$$\n",
    " Under these two conditions we know that $0.5\\leq\\text{fitness_value}\\leq 1$. This function range should be useful in decreasing the number of generations needed as the ranking should be rather more dramatic than having an unbounded range.\n",
    "\n",
    "The function below therefore computes the `goal_genotype` as the genotype for the goal, creates a `max_difference` as the number of elements in `goal_genotype`. Then it checks if both genotypes are of the same length. If they are not, the function returns the maximum `fitness_value`. Otherwise the function compares element-wise the genotypes and counts how many are different. Then it resutns the value $\\text{fitness_value} = \\frac{1}{1+\\text{difference_ratio}}$"
   ]
  },
  {
   "cell_type": "code",
   "execution_count": 7,
   "metadata": {},
   "outputs": [],
   "source": [
    "def difference_fitness(genotype_,goal,ALPHABET):\n",
    "    goal_genotype = genotype(goal,ALPHABET)\n",
    "    max_difference = len(goal_genotype)\n",
    "    if len(genotype_) != len(goal_genotype):\n",
    "        difference = 1\n",
    "        return 1 / (1+difference)\n",
    "    difference = 0\n",
    "    for i in range(len(genotype_)):\n",
    "        if goal_genotype[i] != genotype_[i]:\n",
    "            difference += 1    \n",
    "    difference_ratio = difference / max_difference\n",
    "    fitness_value = 1 / (1+difference_ratio)\n",
    "    return fitness_value"
   ]
  },
  {
   "cell_type": "code",
   "execution_count": 8,
   "metadata": {},
   "outputs": [],
   "source": [
    "goal = 'this is so much fun'\n",
    "genotype_ = genotype('mynameisjose',ALPHABET)\n",
    "# this result should be 0.5 as the strings have different lengths\n",
    "assert difference_fitness(genotype_,goal,ALPHABET) == 0.5\n",
    "\n",
    "genotype_ = genotype('this is so much fun',ALPHABET)\n",
    "# this result should be 1 as the strings are the same\n",
    "assert difference_fitness(genotype_,goal,ALPHABET) == 1\n",
    "\n",
    "genotype_ = genotype('ahis is so much fub',ALPHABET)\n",
    "# We have two character differences, therefore the result should be 1/(1+(2/19)) = 0.9047619047619049\n",
    "assert difference_fitness(genotype_,goal,ALPHABET) == 0.9047619047619049"
   ]
  },
  {
   "cell_type": "markdown",
   "metadata": {},
   "source": [
    "#### `reverse_fitness()`\n",
    "`reverse_fitness()` uses the exact same logic as `difference_fitness()`, the main difference is that `goal_genotype` to be used corresponds to the reversal of the initial `goal_genotype` as computed in line 2 of the function. This means that we are decoding a string provided in reverse by using the genotype element by element. In order to reverse the initial goal genotype we use a list comprehension using a reverse index. Keep in mind that we are not reversing the string but the genotype corresponding to the goal. Also, there is an element wise comparison on the cost function. This corresponds to the instructions of Problem 2."
   ]
  },
  {
   "cell_type": "code",
   "execution_count": 9,
   "metadata": {},
   "outputs": [],
   "source": [
    "def reverse_fitness(genotype_,goal,ALPHABET):\n",
    "    goal_genotype = genotype(goal,ALPHABET)\n",
    "    goal_genotype = [goal_genotype[i] for i in range(len(goal_genotype)-1,-1,-1)]\n",
    "    max_difference = len(goal_genotype)\n",
    "    if len(genotype_) != len(goal_genotype):\n",
    "        difference = 1\n",
    "        return 1 / (1+difference)\n",
    "    difference = 0\n",
    "    for i in range(len(genotype_)):\n",
    "        if goal_genotype[i] != genotype_[i]:\n",
    "            difference += 1\n",
    "    difference = difference / max_difference\n",
    "    fitness_value = 1 / (1+difference)\n",
    "    return fitness_value"
   ]
  },
  {
   "cell_type": "code",
   "execution_count": 10,
   "metadata": {},
   "outputs": [],
   "source": [
    "goal = 'mynameisjose'\n",
    "reverse_goal = ''.join([goal[i] for i in range(len(goal)-1,-1,-1)])\n",
    "genotype_ = genotype(goal,ALPHABET)\n",
    "# we are checking wether 'mynameisjose' corresponds to its reverse in 'reverse_goal'.\n",
    "# Since they are the same, it should return 1\n",
    "assert reverse_fitness(genotype_,reverse_goal,ALPHABET) == 1\n",
    "\n",
    "goal = \"nuf hcum os si siht\"\n",
    "reverse_goal = ''.join([goal[i] for i in range(len(goal)-1,-1,-1)])\n",
    "genotype_ = genotype(goal,ALPHABET)\n",
    "# we are checking wether \"nuf hcum os si siht\" corresponds to its reverse in 'reverse_goal'.\n",
    "# Since they are the same, it should return 1\n",
    "# This corresponds to a check on problem 2\n",
    "assert reverse_fitness(genotype_,reverse_goal,ALPHABET) == 1\n",
    "\n",
    "goal = \"nuf hcum os si siht\"\n",
    "reverse_goal = ''.join([goal[i] for i in range(len(goal)-1,-1,-1)])\n",
    "goal = \"auf hcum os si siha\"\n",
    "genotype_ = genotype(goal,ALPHABET)\n",
    "# We have two character differences, therefore the result should be 1/(1+(2/19)) = 0.9047619047619049\n",
    "assert reverse_fitness(genotype_,reverse_goal,ALPHABET) == 0.9047619047619049"
   ]
  },
  {
   "cell_type": "markdown",
   "metadata": {},
   "source": [
    "#### `rotate_fitness()`\n",
    "`rotate_fitness()` uses the exact same logic as `difference_fitness()`, the main difference is that `goal_genotype` to be used corresponds to the rotation of the initial `goal_genotype` as computed in line 1 of the function. This means that we are decoding a string provided in a rotation by using the genotype element by element. In order to rotate the initial goal genotype we use a list comprehension which finds the 13th element ahead in the alphabet within the goal phenotype. Keep in mind that we are not rotating the string but the genotype corresponding to the goal. Also, there is an element wise comparison on the cost function. This corresponds to the instructions of Problem 3."
   ]
  },
  {
   "cell_type": "code",
   "execution_count": 11,
   "metadata": {},
   "outputs": [],
   "source": [
    "def rotate_fitness(genotype_,goal,ALPHABET):\n",
    "    goal_genotype = [(ALPHABET.find(x)+13) % len(ALPHABET) for x in goal]\n",
    "    max_difference = len(goal_genotype)\n",
    "    if len(genotype_) != len(goal_genotype):\n",
    "        difference = 1\n",
    "        return 1 / (1+difference)\n",
    "    difference = 0\n",
    "    for i in range(len(genotype_)):\n",
    "        if goal_genotype[i] != genotype_[i]:\n",
    "            difference += 1\n",
    "    difference = difference / max_difference\n",
    "    fitness_value = 1 / (1+difference)\n",
    "    return fitness_value"
   ]
  },
  {
   "cell_type": "code",
   "execution_count": 12,
   "metadata": {},
   "outputs": [],
   "source": [
    "goal = 'thisissomuchfun'\n",
    "alphabet = \"abcdefghijklmnopqrstuvwxyz\"\n",
    "rotated_goal_genotype = [(alphabet.find(x)+13) % len(alphabet) for x in goal]\n",
    "# Created a rotate version of the genotype to test that it works properly. This should return a 1\n",
    "assert rotate_fitness(rotated_goal_genotype,goal,alphabet) == 1\n",
    "\n",
    "goal = 'mynameisjose'\n",
    "alphabet = \"abcdefghijklmnopqrstuvwxyz\"\n",
    "rotated_goal_genotype = [(alphabet.find(x)+13) % len(alphabet) for x in goal]\n",
    "# Created a rotate version of the genotype to test that it works properly. This should return a 1\n",
    "assert rotate_fitness(rotated_goal_genotype,goal,alphabet) == 1"
   ]
  },
  {
   "cell_type": "markdown",
   "metadata": {},
   "source": [
    "## Creating and increasing the population\n",
    "I define a member of the population as a tuple containing that member's (`fitness_value`,`genotype`,`phenotype`). The population is then formed when one or more members are stored in a sorted list of members. The sorting \n",
    " 1. The `create_member()` function takes "
   ]
  },
  {
   "cell_type": "code",
   "execution_count": 13,
   "metadata": {},
   "outputs": [],
   "source": [
    "def create_member(random_genotype, ALPHABET: str, goal: str, fitness_function: object) ->tuple:\n",
    "    genotype_ = random_genotype\n",
    "    phenotype_ = ''.join([ALPHABET[i] for i in genotype_])\n",
    "    fitness_value = fitness_function(genotype_,goal,ALPHABET)\n",
    "    return (fitness_value, genotype_, phenotype_)    \n",
    "\n",
    "def increase_population(member:tuple, population:list):\n",
    "    if len(population)==0:\n",
    "        population.append(member)\n",
    "        return None\n",
    "    for i in range(len(population)):\n",
    "        if member[0] >= population[i][0]:\n",
    "            population.insert(i, member)\n",
    "            return None\n",
    "    population.append(member)\n",
    "    return None    \n",
    "\n",
    "def build_population(random_genotypes, ALPHABET, goal, fitness_function):\n",
    "    population = list()\n",
    "    i = 0\n",
    "    for genotype in random_genotypes:\n",
    "        member = create_member(genotype, ALPHABET, goal, fitness_function)\n",
    "        increase_population(member, population)\n",
    "    return population"
   ]
  },
  {
   "cell_type": "code",
   "execution_count": 14,
   "metadata": {},
   "outputs": [],
   "source": [
    "alphabet = 'abcde'\n",
    "goal = 'abc'\n",
    "random_genotypes =[[2,1,2],[0,1,4],[0,2,1],[3,3,4],[0,1,2]]\n",
    "# Here we force a non-random list of genotypes. We want to see that:\n",
    "# 1. The population is ordered by fitness_value in descending order\n",
    "# 2. The first member should be the perfect match [0,1,2]\n",
    "# 3. The information is stored as needed\n",
    "assert build_population(random_genotypes, alphabet, goal, difference_fitness) == [(1.0, [0, 1, 2], 'abc'),\n",
    "                                                                                  (0.75, [0, 1, 4], 'abe'),\n",
    "                                                                                  (0.75, [2, 1, 2], 'cbc'),\n",
    "                                                                                  (0.6000000000000001, [0, 2, 1], 'acb'),\n",
    "                                                                                  (0.5, [3, 3, 4], 'dde')]"
   ]
  },
  {
   "cell_type": "markdown",
   "metadata": {},
   "source": [
    "## Choosing parents\n",
    "In order to choose parents I implement a tournament. For this purpose I created two particular functions:\n",
    "1. The `pick_parent()` function creates a tournament sub_population. The arguments include `choices` corresponding to a list of random choices from the population, and the `population` from which we are choosing the parents. \n",
    "2. `pick_parents()` is a wrapper function which selects a tuple of parents (`parent_1`,`parent_2`) while using `pick_parent()` from step one above. The function has as arguments the `population` from which the choices are made and the random `choices` to be implemented. "
   ]
  },
  {
   "cell_type": "code",
   "execution_count": 15,
   "metadata": {},
   "outputs": [],
   "source": [
    "def pick_parent(population:list, choices:list)->tuple:\n",
    "    sub_population = []\n",
    "    for choice in choices:\n",
    "        increase_population(population[choice], sub_population)\n",
    "    return sub_population[0]\n",
    "\n",
    "def pick_parents(population:list, choices: list) -> tuple:\n",
    "    parent_1 = pick_parent(population, choices[0])\n",
    "    parent_2 = pick_parent(population, choices[1])\n",
    "    return parent_1, parent_2"
   ]
  },
  {
   "cell_type": "code",
   "execution_count": 16,
   "metadata": {},
   "outputs": [],
   "source": [
    "sample_population = [(1.0, [0, 1, 2], 'abc'),\n",
    "                     (0.75, [0, 1, 4], 'abe'),\n",
    "                     (0.75, [2, 1, 2], 'cbc'),\n",
    "                     (0.6000000000000001, [0, 2, 1], 'acb'),\n",
    "                     (0.5, [3, 3, 4], 'dde')]\n",
    "choices = [[0,1],[3,4]]\n",
    "# Using the previous population, we will force the following choices:\n",
    "# 1. For the first parent choose the perfect matching member, it should be 'abc'\n",
    "# 2. For the second member, it should be the better fitted member between members 3 and 4. It should return 'acb'\n",
    "assert pick_parents(sample_population, choices) == ((1.0, [0, 1, 2], 'abc'), (0.6000000000000001, [0, 2, 1], 'acb'))"
   ]
  },
  {
   "cell_type": "markdown",
   "metadata": {},
   "source": [
    "## Reproduction, crossover, and mutation\n",
    "1. The function `crossover()` produces a tuple of genotypes for the children. It takes the parents and based on a random integer `gen_location` selects for `genotype_c1` = `genotype_p1[:gen_location]`+`genotype_p2[gen_location:]` and for `genotype_c2` = `parent_2[:genotype_p2]`+`parent_1[genotype_p1:]`. `genotype_p1` and `genotype_p2` correspond to the genotype locations for the member parents, respectively. \n",
    "2. `mutate()` performs the mutation operation. It uses the `randint()` method from the `random` library to generate a `random_location` and a `random_symbol`. With these two, `mutate()` changes the `random_location` of `genotype` for the `random_symbol`. The changes are executed in place.\n",
    "3. `reproduce` is a wrapper function which reproduces the parents based on `prob_reproduction`,`prob_mutation`, `parent_1`,`parent_2`, `ALPHABET`, `goal`, `fitness_function`. The last three parameters are used to generate a child tuple. Using the `uniform()` method of the `random` package, we generate a uniformly distributed probability. In the case that the probability is less than `prob_reproduction` then the function returns the tuple 0,0. This indicates that there will not be reproduction. In the case that the probability is greater than `prob_reproduction`, the function continues and invokes `crossover()` which returns a tuple of genotypes. A second test is created to see if a uniform probability is greater than `prob_mutation`. If so, `mutate()` is called on both genotypes. Finally, `child_1` and `child_2` are generated by calling the rest of the parameters along with their invocations. `child_1` and `child_2` are returned as a tuple. "
   ]
  },
  {
   "cell_type": "code",
   "execution_count": 17,
   "metadata": {},
   "outputs": [],
   "source": [
    "def cross_over(parent_1, parent_2):\n",
    "    gen_location = randint(0,len(parent_1)-1)\n",
    "    genotype_p1 = parent_1[1]\n",
    "    genotype_p2 = parent_2[1]\n",
    "    genotype_c1 = genotype_p1[:gen_location]\n",
    "    genotype_c1.extend(genotype_p2[gen_location:])\n",
    "    genotype_c2 = genotype_p2[:gen_location]\n",
    "    genotype_c2.extend(genotype_p1[gen_location:])\n",
    "    return genotype_c1,genotype_c2\n",
    "\n",
    "def mutate(genotype_,ALPHABET):    \n",
    "    random_location = randint(0,len(genotype_)-1)\n",
    "    random_symbol = randint(0,len(ALPHABET)-1)\n",
    "    genotype_[random_location] = random_symbol\n",
    "\n",
    "def reproduce(prob_reproduction, prob_mutation, parent_1, parent_2, ALPHABET, goal, fitness_function):\n",
    "    if uniform(0,1) < prob_reproduction:\n",
    "        return 0,0\n",
    "    genotype_c1, genotype_c2 = cross_over(parent_1, parent_2)\n",
    "    if uniform(0,1) > prob_mutation:\n",
    "        mutate(genotype_c1, ALPHABET)\n",
    "        mutate(genotype_c2, ALPHABET)\n",
    "    child_1 = (fitness_function(genotype_c1,goal,ALPHABET), genotype_c1, ''.join([ALPHABET[i] for i in genotype_c1]))\n",
    "    child_2 = (fitness_function(genotype_c2,goal,ALPHABET), genotype_c2, ''.join([ALPHABET[i] for i in genotype_c2]))\n",
    "    return child_1, child_2   "
   ]
  },
  {
   "cell_type": "code",
   "execution_count": 43,
   "metadata": {},
   "outputs": [],
   "source": [
    "parent_1,parent_2 = (1.0, [0, 1, 2], 'abc'), (0.6000000000000001, [0, 2, 1], 'acb')\n",
    "# these tests will not try to produce a certain value or values, since there is randomness included in the functions.\n",
    "# instead we would like to make sure that certain properties are maintained.\n",
    "\n",
    "# does crossover generate valid genotypes? \n",
    "genotype_c1,genotype_c2 = cross_over(parent_1,parent_2)\n",
    "# 1. a genotype should have the same length of the parents.\n",
    "assert len(genotype_c1) == len(parent_1[1]) == len(parent_2[1])\n",
    "\n",
    "# does mutate create a valid mutation?\n",
    "# a mutation should have no more than one difference\n",
    "genotype_c1_copy = genotype_c1.copy()\n",
    "mutate(genotype_c1_copy,alphabet)\n",
    "differences = 0\n",
    "assert sum([genotype_c1[i]!=genotype_c1_copy[i] for i in range(len(genotype_c1_copy))])<= 1\n",
    "\n",
    "# reproduce produce a valid couple of children?\n",
    "child_1, child_2 = reproduce(0.5, 0.5, parent_1, parent_2, alphabet, goal, difference_fitness)\n",
    "# child 1 is a tuple\n",
    "assert isinstance(child_1,tuple)\n",
    "# child_1[0] is the fitness value and should be a float\n",
    "assert isinstance(child_1[0],float)\n",
    "# child_1[1] is the genotype and should be a list\n",
    "assert isinstance(child_1[1],list)\n",
    "# child_1[2] is the phenotype and should be a string\n",
    "assert isinstance(child_1[2],str)\n",
    "# the phenotype should be contained in the alphabet\n",
    "for i in child_1[2]:\n",
    "    assert i in alphabet"
   ]
  },
  {
   "cell_type": "markdown",
   "metadata": {},
   "source": [
    "## `genetic_algorithm()`\n",
    "The function `genetic_algorithm()` follows very closely the pseudocode provided in the lectures. There are two differences:\n",
    "1. I evaluate the fitness of the population when the population is created instead of in a single step.\n",
    "2. I keep the population sorted by ascending fitness and any new member added to the population is inserted according to that hierarchy.\n",
    "3. I use a tournament in which I utilize the functions I created to create and maintain populations.\n",
    "\n",
    "The code will be tested in problems 1,2, and 3."
   ]
  },
  {
   "cell_type": "code",
   "execution_count": 19,
   "metadata": {},
   "outputs": [],
   "source": [
    "\n",
    "def genetic_algorithm(N,\n",
    "                      generations,\n",
    "                      prob_reproduction,\n",
    "                      prob_mutation,\n",
    "                      ALPHABET,\n",
    "                      goal,\n",
    "                      fitness_function):\n",
    "    random_genotypes = [[randint(0,len(ALPHABET)-1) for i in goal] for i in range(N)]\n",
    "    population = build_population(random_genotypes, ALPHABET, goal, fitness_function)\n",
    "    g = 1\n",
    "    while g < generations:\n",
    "        next_population = list()\n",
    "        for n in range(N//2):\n",
    "            choices = [[randint(0,len(population)-1) for i in range(7)] for i in range(2)]\n",
    "            parent_1, parent_2 = pick_parents(population, choices)\n",
    "            child_1, child_2 = reproduce(prob_reproduction,\n",
    "                                         prob_mutation,\n",
    "                                         parent_1, parent_2,\n",
    "                                         ALPHABET,\n",
    "                                         goal,\n",
    "                                         fitness_function)\n",
    "            increase_population(child_1, next_population) if child_1 != 0 else increase_population(parent_1, next_population)\n",
    "            increase_population(child_2, next_population) if child_2 != 0 else increase_population(parent_2, next_population)\n",
    "                \n",
    "        population = next_population\n",
    "        if g%10 == 0:\n",
    "            print(f'Generation:{g}, {population[0][2]}')  \n",
    "        g += 1\n",
    "        if population[0][0] == 1:\n",
    "            print(f'Generation:{g}, {population[0][2]}')\n",
    "            return population[0]\n",
    "                      \n",
    "    return population[0]"
   ]
  },
  {
   "cell_type": "markdown",
   "metadata": {},
   "source": [
    "## Problem 1\n",
    "\n",
    "The target is the string \"this is so much fun\".\n",
    "The challenge, aside from implementing the basic algorithm, is deriving a fitness function based on \"b\" - \"p\" (for example).\n",
    "The fitness function should come up with a fitness score based on element to element comparisons between target v. phenotype."
   ]
  },
  {
   "cell_type": "code",
   "execution_count": 20,
   "metadata": {},
   "outputs": [],
   "source": [
    "target1 = \"this is so much fun\""
   ]
  },
  {
   "cell_type": "code",
   "execution_count": 21,
   "metadata": {},
   "outputs": [],
   "source": [
    "# set up if you need it."
   ]
  },
  {
   "cell_type": "code",
   "execution_count": 22,
   "metadata": {},
   "outputs": [
    {
     "name": "stdout",
     "output_type": "stream",
     "text": [
      "Generation:10, this ikxsovglchbdud\n",
      "Generation:20, this ig so glch fud\n",
      "Generation:30, this ig so mlch fun\n",
      "Generation:40, this is so much fun\n",
      "Generation:41, this is so much fun\n"
     ]
    }
   ],
   "source": [
    "result1 = genetic_algorithm(N=1000,\n",
    "                            generations=100,\n",
    "                            prob_reproduction=0.5,\n",
    "                            prob_mutation=0.5,\n",
    "                            ALPHABET=ALPHABET,\n",
    "                            goal=target1,\n",
    "                            fitness_function=difference_fitness)"
   ]
  },
  {
   "cell_type": "code",
   "execution_count": 23,
   "metadata": {},
   "outputs": [
    {
     "name": "stdout",
     "output_type": "stream",
     "text": [
      "(1.0, [19, 7, 8, 18, 26, 8, 18, 26, 18, 14, 26, 12, 20, 2, 7, 26, 5, 20, 13],\n",
      " 'this is so much fun')\n"
     ]
    }
   ],
   "source": [
    "pprint(result1, compact=True)"
   ]
  },
  {
   "cell_type": "markdown",
   "metadata": {},
   "source": [
    "## Problem 2\n",
    "\n",
    "You should have working code now.\n",
    "The goal here is to think a bit more about fitness functions.\n",
    "The target string is now, 'nuf hcum os si siht'.\n",
    "This is obviously target #1 but reversed.\n",
    "If we just wanted to match the string, this would be trivial.\n",
    "Instead, this problem, we want to \"decode\" the string so that the best individual displays the target forwards.\n",
    "In order to do this, you'll need to come up with a fitness function that measures how successful candidates are towards this goal.\n",
    "The constraint is that you may not perform any global operations on the target or individuals.\n",
    "Your fitness function must still compare a single gene against a single gene.\n",
    "Your solution will likely not be Pythonic but use indexing.\n",
    "That's ok.\n",
    "<div style=\"background: lemonchiffon; margin:20px; padding: 20px;\">\n",
    "    <strong>Important</strong>\n",
    "    <p>\n",
    "        You may not reverse an entire string (either target or candidate) at any time.\n",
    "        Everything must be a computation of one gene against one gene (one letter against one letter).\n",
    "        Failure to follow these directions will result in 0 points for the problem.\n",
    "    </p>\n",
    "</div>\n",
    "\n",
    "The best individual in the population is the one who expresses this string *forwards*."
   ]
  },
  {
   "cell_type": "code",
   "execution_count": 24,
   "metadata": {},
   "outputs": [],
   "source": [
    "target2 = \"nuf hcum os si siht\""
   ]
  },
  {
   "cell_type": "code",
   "execution_count": 25,
   "metadata": {},
   "outputs": [],
   "source": [
    "# set up if you need it."
   ]
  },
  {
   "cell_type": "code",
   "execution_count": 26,
   "metadata": {},
   "outputs": [
    {
     "name": "stdout",
     "output_type": "stream",
     "text": [
      "Generation:10, thmsssbrsoumach viv\n",
      "Generation:20, thmssib soumuchhvin\n",
      "Generation:30, this ib soumuch yin\n",
      "Generation:40, thisois soxmuch fun\n",
      "Generation:48, this is so much fun\n"
     ]
    }
   ],
   "source": [
    "result2 = genetic_algorithm(N=1000,\n",
    "                            generations=100,\n",
    "                            prob_reproduction=0.5,\n",
    "                            prob_mutation=0.5,\n",
    "                            ALPHABET=ALPHABET,\n",
    "                            goal=target2,\n",
    "                            fitness_function=reverse_fitness)"
   ]
  },
  {
   "cell_type": "code",
   "execution_count": 27,
   "metadata": {},
   "outputs": [
    {
     "name": "stdout",
     "output_type": "stream",
     "text": [
      "(1.0, [19, 7, 8, 18, 26, 8, 18, 26, 18, 14, 26, 12, 20, 2, 7, 26, 5, 20, 13],\n",
      " 'this is so much fun')\n"
     ]
    }
   ],
   "source": [
    "pprint(result2, compact=True)"
   ]
  },
  {
   "cell_type": "markdown",
   "metadata": {},
   "source": [
    "## Problem 3\n",
    "\n",
    "This is a variation on the theme of Problem 2.\n",
    "The Caeser Cypher replaces each letter of a string with the letter 13 characters down alphabet (rotating from \"z\" back to \"a\" as needed).\n",
    "This is also known as ROT13 (for \"rotate 13\").\n",
    "Latin did not have spaces (and the space is not continguous with the letters a-z) so we'll remove them from our alphabet.\n",
    "Again, the goal is to derive a fitness function that compares a single gene against a single gene, without global transformations.\n",
    "This fitness function assigns higher scores to individuals that correctly decode the target.\n",
    "\n",
    "<div style=\"background: lemonchiffon; margin:20px; padding: 20px;\">\n",
    "    <strong>Important</strong>\n",
    "    <p>\n",
    "        You may not apply ROT13 to an entire string (either target or candidate) at any time.\n",
    "        Everything must be a computation of one gene against one gene.\n",
    "        Failure to follow these directions will result in 0 points for the problem.\n",
    "    </p>\n",
    "</div>\n",
    "\n",
    "The best individual will express the target *decoded*."
   ]
  },
  {
   "cell_type": "code",
   "execution_count": 28,
   "metadata": {},
   "outputs": [],
   "source": [
    "ALPHABET3 = \"abcdefghijklmnopqrstuvwxyz\""
   ]
  },
  {
   "cell_type": "code",
   "execution_count": 29,
   "metadata": {},
   "outputs": [],
   "source": [
    "target3 = \"guvfvffbzhpusha\""
   ]
  },
  {
   "cell_type": "code",
   "execution_count": 30,
   "metadata": {},
   "outputs": [],
   "source": [
    "# set up if you need it"
   ]
  },
  {
   "cell_type": "code",
   "execution_count": 31,
   "metadata": {},
   "outputs": [
    {
     "name": "stdout",
     "output_type": "stream",
     "text": [
      "Generation:10, thgsiqtlmkchcun\n",
      "Generation:20, thgsiqsamuchfun\n",
      "Generation:30, thgsissomuchfon\n",
      "Generation:34, thisissomuchfun\n"
     ]
    }
   ],
   "source": [
    "result3 = genetic_algorithm(N=1000,\n",
    "                            generations=100,\n",
    "                            prob_reproduction=0.5,\n",
    "                            prob_mutation=0.5,\n",
    "                            ALPHABET=ALPHABET3,\n",
    "                            goal=target3,\n",
    "                            fitness_function=rotate_fitness)"
   ]
  },
  {
   "cell_type": "code",
   "execution_count": 32,
   "metadata": {},
   "outputs": [
    {
     "name": "stdout",
     "output_type": "stream",
     "text": [
      "(1.0, [19, 7, 8, 18, 8, 18, 18, 14, 12, 20, 2, 7, 5, 20, 13], 'thisissomuchfun')\n"
     ]
    }
   ],
   "source": [
    "pprint(result3, compact=True)"
   ]
  },
  {
   "cell_type": "markdown",
   "metadata": {},
   "source": [
    "## Problem 4\n",
    "\n",
    "There is no code for this problem.\n",
    "\n",
    "In Problem 3, we assumed we knew what the shift was in ROT-13.\n",
    "What if we didn't?\n",
    "Describe how you might solve that problem including a description of the solution encoding (chromosome and interpretation) and fitness function. Assume we can add spaces into the message."
   ]
  },
  {
   "cell_type": "markdown",
   "metadata": {},
   "source": [
    "**answer here**\n",
    "Suppose we do not know the actual shift as we did in this case. However we do know that there is a level of rotation and we also know that there is a particular string that it should decode to. We can therefore create a fitness function that searches for the level of shift within the alphabet that correspond to the decryption. This can be implemented by some of the local search methods we have learned through this course or simply by brute force (provided the alphabet is small). This would probably be an intermediate step within the fitness function. After, we can proceed with the genetic algorithm. This new fitness function would however be able to handle all different types of rotations within the alphabet. "
   ]
  },
  {
   "cell_type": "markdown",
   "metadata": {},
   "source": [
    "## Challenge\n",
    "\n",
    "**You do not need to do this problem and it won't be graded if you do. It's just here if you want to push your understanding.**\n",
    "\n",
    "The original GA used binary encodings for everything.\n",
    "We're basically using a Base 27 encoding.\n",
    "You could, however, write a version of the algorithm that uses an 8 bit encoding for each letter (ignore spaces as they're a bit of a bother).\n",
    "That is, a 4 letter candidate looks like this:\n",
    "\n",
    "```\n",
    "0, 1, 1, 0, 1, 0, 0, 0, 0, 1, 1, 0, 0, 1, 0, 1, 0, 1, 1, 0, 1, 1, 0, 0, 0, 1, 1, 0, 1, 1, 0, 0, 0, 1, 1, 0, 1, 1, 1, 1\n",
    "```\n",
    "\n",
    "If you wrote your `genetic_algorithm` code general enough, with higher order functions, you should be able to implement it using bit strings instead of latin strings."
   ]
  },
  {
   "cell_type": "markdown",
   "metadata": {},
   "source": [
    "## Before You Submit...\n",
    "\n",
    "1. Did you provide output exactly as requested?\n",
    "2. Did you re-execute the entire notebook? (\"Restart Kernel and Rull All Cells...\")\n",
    "3. If you did not complete the assignment or had difficulty please explain what gave you the most difficulty in the Markdown cell below.\n",
    "4. Did you change the name of the file to `jhed_id.ipynb`?\n",
    "\n",
    "Do not submit any other files."
   ]
  }
 ],
 "metadata": {
  "kernelspec": {
   "display_name": "Python 3 (ipykernel)",
   "language": "python",
   "name": "python3"
  },
  "language_info": {
   "codemirror_mode": {
    "name": "ipython",
    "version": 3
   },
   "file_extension": ".py",
   "mimetype": "text/x-python",
   "name": "python",
   "nbconvert_exporter": "python",
   "pygments_lexer": "ipython3",
   "version": "3.9.7"
  },
  "toc": {
   "colors": {
    "hover_highlight": "#DAA520",
    "navigate_num": "#000000",
    "navigate_text": "#333333",
    "running_highlight": "#FF0000",
    "selected_highlight": "#FFD700",
    "sidebar_border": "#EEEEEE",
    "wrapper_background": "#FFFFFF"
   },
   "moveMenuLeft": true,
   "nav_menu": {
    "height": "120px",
    "width": "252px"
   },
   "navigate_menu": true,
   "number_sections": true,
   "sideBar": true,
   "threshold": 4,
   "toc_cell": false,
   "toc_section_display": "block",
   "toc_window_display": false,
   "widenNotebook": false
  }
 },
 "nbformat": 4,
 "nbformat_minor": 4
}
