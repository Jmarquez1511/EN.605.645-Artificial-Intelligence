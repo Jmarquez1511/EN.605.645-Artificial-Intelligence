{
 "cells": [
  {
   "cell_type": "markdown",
   "metadata": {},
   "source": [
    "# Module 9 - Programming Assignment\n",
    "\n",
    "## Directions\n",
    "\n",
    "1. Change the name of this file to be your JHED id as in `jsmith299.ipynb`. Because sure you use your JHED ID (it's made out of your name and not your student id which is just letters and numbers).\n",
    "2. Make sure the notebook you submit is cleanly and fully executed. I do not grade unexecuted notebooks.\n",
    "3. Submit your notebook back in Blackboard where you downloaded this file.\n",
    "\n",
    "*Provide the output **exactly** as requested*"
   ]
  },
  {
   "cell_type": "markdown",
   "metadata": {},
   "source": [
    "## Naive Bayes Classifier\n",
    "\n",
    "For this assignment you will be implementing and evaluating a Naive Bayes Classifier with the same data from last week:\n",
    "\n",
    "http://archive.ics.uci.edu/ml/datasets/Mushroom\n",
    "\n",
    "(You should have downloaded it).\n",
    "\n",
    "<div style=\"background: lemonchiffon; margin:20px; padding: 20px;\">\n",
    "    <strong>Important</strong>\n",
    "    <p>\n",
    "        No Pandas. The only acceptable libraries in this class are those contained in the `environment.yml`. No OOP, either. You can used Dicts, NamedTuples, etc. as your abstract data type (ADT) for the the tree and nodes.\n",
    "    </p>\n",
    "</div>\n",
    "\n",
    "\n",
    "You'll first need to calculate all of the necessary probabilities using a `train` function. A flag will control whether or not you use \"+1 Smoothing\" or not. You'll then need to have a `classify` function that takes your probabilities, a List of instances (possibly a list of 1) and returns a List of Tuples. Each Tuple has the best class in the first position and a dict with a key for every possible class label and the associated *normalized* probability. For example, if we have given the `classify` function a list of 2 observations, we would get the following back:\n",
    "\n",
    "```\n",
    "[(\"e\", {\"e\": 0.98, \"p\": 0.02}), (\"p\", {\"e\": 0.34, \"p\": 0.66})]\n",
    "```\n",
    "\n",
    "when calculating the error rate of your classifier, you should pick the class label with the highest probability; you can write a simple function that takes the Dict and returns that class label.\n",
    "\n",
    "As a reminder, the Naive Bayes Classifier generates the *unnormalized* probabilities from the numerator of Bayes Rule:\n",
    "\n",
    "$$P(C|A) \\propto P(A|C)P(C)$$\n",
    "\n",
    "where C is the class and A are the attributes (data). Since the normalizer of Bayes Rule is the *sum* of all possible numerators and you have to calculate them all, the normalizer is just the sum of the probabilities.\n",
    "\n",
    "You will have the same basic functions as the last module's assignment and some of them can be reused or at least repurposed.\n",
    "\n",
    "`train` takes training_data and returns a Naive Bayes Classifier (NBC) as a data structure. There are many options including namedtuples and just plain old nested dictionaries. **No OOP**.\n",
    "\n",
    "```\n",
    "def train(training_data, smoothing=True):\n",
    "   # returns the Decision Tree.\n",
    "```\n",
    "\n",
    "The `smoothing` value defaults to True. You should handle both cases.\n",
    "\n",
    "`classify` takes a NBC produced from the function above and applies it to labeled data (like the test set) or unlabeled data (like some new data). (This is not the same `classify` as the pseudocode which classifies only one instance at a time; it can call it though).\n",
    "\n",
    "```\n",
    "def classify(nbc, observations, labeled=True):\n",
    "    # returns a list of tuples, the argmax and the raw data as per the pseudocode.\n",
    "```\n",
    "\n",
    "`evaluate` takes a data set with labels (like the training set or test set) and the classification result and calculates the classification error rate:\n",
    "\n",
    "$$error\\_rate=\\frac{errors}{n}$$\n",
    "\n",
    "Do not use anything else as evaluation metric or the submission will be deemed incomplete, ie, an \"F\". (Hint: accuracy rate is not the error rate!).\n",
    "\n",
    "`cross_validate` takes the data and uses 10 fold cross validation (from Module 3!) to `train`, `classify`, and `evaluate`. **Remember to shuffle your data before you create your folds**. I leave the exact signature of `cross_validate` to you but you should write it so that you can use it with *any* `classify` function of the same form (using higher order functions and partial application). If you did so last time, you can reuse it for this assignment.\n",
    "\n",
    "Following Module 3's discussion, `cross_validate` should print out the fold number and the evaluation metric (error rate) for each fold and then the average value (and the variance). What you are looking for here is a consistent evaluation metric cross the folds. You should print the error rates in terms of percents (ie, multiply the error rate by 100 and add \"%\" to the end).\n",
    "\n",
    "To summarize...\n",
    "\n",
    "Apply the Naive Bayes Classifier algorithm to the Mushroom data set using 10 fold cross validation and the error rate as the evaluation metric. You will do this *twice*. Once with smoothing=True and once with smoothing=False. You should follow up with a brief explanation for the similarities or differences in the results."
   ]
  },
  {
   "cell_type": "markdown",
   "metadata": {},
   "source": [
    "### Begin with data parsing functions\n",
    "The functions `parse_data(file_name: str, shuffle_ = False)`, `create_folds(xs: List, n: int)`, and `create_train_test(folds: List[List[List]], index: int)` are fetched directly from the functions provided in Module 3's prgramming assignment and will be used to parse and process the data."
   ]
  },
  {
   "cell_type": "code",
   "execution_count": 1,
   "metadata": {},
   "outputs": [],
   "source": [
    "from typing import List, Dict, Tuple, Callable\n",
    "from copy import deepcopy\n",
    "from random import shuffle\n",
    "from matplotlib import pyplot as plt"
   ]
  },
  {
   "cell_type": "code",
   "execution_count": 2,
   "metadata": {},
   "outputs": [],
   "source": [
    "def parse_data(file_name: str, shuffle_ = False) -> []:\n",
    "    data = []\n",
    "    file = open(file_name, \"r\", encoding='utf-8-sig')\n",
    "    for line in file:\n",
    "        datum = [value for value in line.rstrip().split(\",\")]\n",
    "        data.append(datum)\n",
    "    if shuffle_:\n",
    "        shuffle(data)\n",
    "    return data\n",
    "\n",
    "def create_folds(xs: List, n: int) -> List[List[List]]:\n",
    "    k, m = divmod(len(xs), n)\n",
    "    # be careful of generators...\n",
    "    return list(xs[i * k + min(i, m):(i + 1) * k + min(i + 1, m)] for i in range(n))\n",
    "\n",
    "def create_train_test(folds: List[List[List]], index: int) -> Tuple[List[List], List[List]]:\n",
    "    training = []\n",
    "    test = []\n",
    "    for i, fold in enumerate(folds):\n",
    "        if i == index:\n",
    "            test = fold\n",
    "        else:\n",
    "            training = training + fold\n",
    "    return training, test\n",
    "\n",
    "def mean(list_: list) -> float:\n",
    "    mean_value = sum([val for val in list_])/len(list_)\n",
    "    return mean_value\n",
    "\n",
    "def variance(values: list):\n",
    "    mean_value = mean(values)\n",
    "    variance = sum([(val-mean_value)**2 for val in values])/(len(values)-1)\n",
    "    return variance"
   ]
  },
  {
   "cell_type": "code",
   "execution_count": 3,
   "metadata": {},
   "outputs": [
    {
     "data": {
      "text/plain": [
       "[['round', 'large', 'blue', 'no'],\n",
       " ['square', 'large', 'green', 'yes'],\n",
       " ['square', 'small', 'red', 'no'],\n",
       " ['round', 'large', 'red', 'yes'],\n",
       " ['square', 'small', 'blue', 'no'],\n",
       " ['round', 'small', 'blue', 'no'],\n",
       " ['round', 'small', 'red', 'yes'],\n",
       " ['square', 'small', 'green', 'no'],\n",
       " ['round', 'large', 'green', 'yes'],\n",
       " ['square', 'large', 'green', 'yes'],\n",
       " ['square', 'large', 'red', 'no'],\n",
       " ['square', 'large', 'green', 'yes'],\n",
       " ['round', 'large', 'red', 'yes'],\n",
       " ['square', 'small', 'red', 'no'],\n",
       " ['round', 'small', 'green', 'no']]"
      ]
     },
     "execution_count": 3,
     "metadata": {},
     "output_type": "execute_result"
    }
   ],
   "source": [
    "sc_data = parse_data('SelfCheckData.csv')\n",
    "sc_data"
   ]
  },
  {
   "cell_type": "markdown",
   "metadata": {},
   "source": [
    "### `train(data, target_variable, normalize=True)`\n",
    "`train(data, target_variable, normalize=True)` uses `data` and the index `target_variable` to construct:\n",
    "1. A frequency dictionary with all the features and the labels associated with them. The objective is to count for a give feature and label, the number of appearances in `data`. \n",
    "2. A frequency dictionary for the different labels on the target variable. \n",
    "3. From steps 1 and 2 above we can construct probability tables. `normalize` implements +1 normalization on observations in which a given feature may not have any label appearances. This avoids having division by zero erros.\n",
    "\n",
    "The function returns a tuple. The first element of said tuple corresponds to the conditional probability dictionary which has all the feature and label wise conditional probabilities. The second element of the tuple is an overall label probability dictionary. We will later on use these two dictionaries to compute a Naive Bayes Probability estimate. "
   ]
  },
  {
   "cell_type": "code",
   "execution_count": 4,
   "metadata": {},
   "outputs": [],
   "source": [
    "def train(data, target_variable, smooth=True):\n",
    "    \n",
    "    feature_variables = [feature for feature in range(len(data[0])) if feature != target_variable]\n",
    "    n = len(data)\n",
    "    \n",
    "    frequency_table = {}\n",
    "    target_variable_fequency = {}\n",
    "    for row in range(len(data)):\n",
    "        if data[row][target_variable] not in target_variable_fequency:\n",
    "            target_variable_fequency[data[row][target_variable]] = 1\n",
    "        else:\n",
    "            target_variable_fequency[data[row][target_variable]] += 1\n",
    "        for feature in feature_variables:\n",
    "            if feature not in frequency_table:\n",
    "                frequency_table[feature] = {}\n",
    "            if data[row][feature] not in frequency_table[feature]:\n",
    "                frequency_table[feature][data[row][feature]] = {}\n",
    "            if data[row][target_variable] not in frequency_table[feature][data[row][feature]]:\n",
    "                frequency_table[feature][data[row][feature]][data[row][target_variable]] = 1\n",
    "                continue\n",
    "            frequency_table[feature][data[row][feature]][data[row][target_variable]] += 1\n",
    "            \n",
    "    probability_table = deepcopy(frequency_table)\n",
    "    for feature in probability_table:\n",
    "        for label in probability_table[feature]:\n",
    "            for frequency in probability_table[feature][label]:\n",
    "                numerator = deepcopy(probability_table[feature][label][frequency])\n",
    "                numerator = numerator + 1 if smooth else numerator\n",
    "                denominator = deepcopy(target_variable_fequency[frequency])\n",
    "                denominator = denominator + 1 if smooth else denominator            \n",
    "                probability_table[feature][label][frequency] = numerator / denominator \n",
    "\n",
    "            for target_label in target_variable_fequency:\n",
    "                if target_label not in probability_table[feature][label]:\n",
    "                    numerator = 1 if smooth else 0 \n",
    "                    denominator = deepcopy(target_variable_fequency[target_label])\n",
    "                    denominator = denominator + 1 if smooth else denominator\n",
    "                    probability_table[feature][label][target_label] = numerator / denominator\n",
    "                    \n",
    "    target_variable_probability = {label:target_variable_fequency[label]/n for label in target_variable_fequency}\n",
    "    \n",
    "    return probability_table, target_variable_probability"
   ]
  },
  {
   "cell_type": "code",
   "execution_count": 5,
   "metadata": {},
   "outputs": [],
   "source": [
    "probability_table, target_variable_probability = train(sc_data, 3, smooth=True)"
   ]
  },
  {
   "cell_type": "code",
   "execution_count": 6,
   "metadata": {},
   "outputs": [],
   "source": [
    "# This example follows from this week's Self Check.\n",
    "assert probability_table == {0: {'round': {'no': 0.4444444444444444, 'yes': 0.625},\n",
    "                                 'square': {'yes': 0.5, 'no': 0.6666666666666666}},\n",
    "                             1: {'large': {'no': 0.3333333333333333, 'yes': 0.875},\n",
    "                                 'small': {'no': 0.7777777777777778, 'yes': 0.25}},\n",
    "                             2: {'blue': {'no': 0.4444444444444444, 'yes': 0.125},\n",
    "                                 'green': {'yes': 0.625, 'no': 0.3333333333333333},\n",
    "                                 'red': {'no': 0.4444444444444444, 'yes': 0.5}}}\n",
    "\n",
    "assert target_variable_probability == {'no': 0.5333333333333333, 'yes': 0.4666666666666667}"
   ]
  },
  {
   "cell_type": "markdown",
   "metadata": {},
   "source": [
    "### `classify_instance(probability_table, target_variable_probability, instance, target_variable)`\n",
    "Up to now we have a function which produces the estimated conditional probabilities and the probabilities of the labels.The function `classify_instance` takes in those two elements, a single `instance` in the form of a list, and the index as an integer of the `target_variable` to classify such instance provided the individual features of the `instance`.\n",
    "The function implements the formula given in this week's pseudocode:\n",
    "\n",
    "$$\n",
    "label = \\text{argmax}_{c \\in C} \\mathbb{P}(c) \\Pi_{i,j} \\mathbb{P}(a_i=v_j|c)\n",
    "$$\n",
    "\n",
    "For this to occur, we need to generate estimates for the different labels and the return the one `label` for which the estimated value is higher. In order to do so, we look through the keys in `target_variable_probability` and then traverse through the values of `instance`, fetching the corresponding conditional probability from `probability_table`given the value of `label`. Store these estimates in a list and then sort the list in ascending order. The returned value is a tuple including the argmax label, and then the list of the values estimated along with its corresponding probabilities. \n",
    "\n",
    "The function returns a tuple which contains in its first place the best label and in its second place a dictionary of the normalized probabilities. The probabilities are normalized by adding the individual label probabilities and using that value as a denominator. Then the individual probabilities are divided by the value of the total probabilities. "
   ]
  },
  {
   "cell_type": "code",
   "execution_count": 7,
   "metadata": {},
   "outputs": [],
   "source": [
    "def classify_instance(probability_table, target_variable_probability, instance, target_variable):\n",
    "    results = []\n",
    "    total_probability = 0 \n",
    "    for label in target_variable_probability:\n",
    "        cond_prob = target_variable_probability[label]\n",
    "        attributes = [f for f in range(len(instance)) if f != target_variable]\n",
    "        for feature in attributes:\n",
    "            cond_prob *= probability_table[feature][instance[feature]][label]\n",
    "        results.append((label, cond_prob))\n",
    "        total_probability += cond_prob\n",
    "    results.sort(key=lambda x: x[1],reverse=True)\n",
    "    results_dict = {r[0]:r[1]/total_probability for r in results}\n",
    "    return (results[0][0], results_dict)"
   ]
  },
  {
   "cell_type": "code",
   "execution_count": 8,
   "metadata": {},
   "outputs": [],
   "source": [
    "# This example follows from this week's Self Check.\n",
    "instance = ['square', 'large', 'red',]\n",
    "assert classify_instance(probability_table, target_variable_probability, instance, 3) == \\\n",
    "                                                ('yes', {'yes': 0.6596310453714476, 'no': 0.3403689546285523})"
   ]
  },
  {
   "cell_type": "markdown",
   "metadata": {},
   "source": [
    "### classify(probability_table, target_variable_probability, observations, target_variable)\n",
    "`classify(probability_table, target_variable_probability, observations, target_variable)` is a wrapper function for `classify_instance()` in which the we loop through a list of instance `observations`. The function returns a list of `results` instead of a single result as in the case of `classify_instance()`."
   ]
  },
  {
   "cell_type": "code",
   "execution_count": 9,
   "metadata": {},
   "outputs": [],
   "source": [
    "def classify(probability_table, target_variable_probability, observations, target_variable):\n",
    "    results = []\n",
    "    for ob in range(len(observations)):\n",
    "        results.append(classify_instance(probability_table, target_variable_probability, observations[ob],target_variable))\n",
    "    return results"
   ]
  },
  {
   "cell_type": "code",
   "execution_count": 10,
   "metadata": {},
   "outputs": [],
   "source": [
    "# This example follows from this week's Self Check.\n",
    "# I have added the second observation for completeness.\n",
    "observations = [['square', 'large', 'red'],['round', 'small', 'blue']]\n",
    "classify(probability_table, target_variable_probability, observations,3)\n",
    "assert classify(probability_table, target_variable_probability, observations,3) == \\\n",
    "[('yes', {'yes': 0.6596310453714476, 'no': 0.3403689546285523}),\n",
    " ('no', {'no': 0.8998983879383737, 'yes': 0.10010161206162636})]"
   ]
  },
  {
   "cell_type": "markdown",
   "metadata": {},
   "source": [
    "### `evaluate(probability_table, target_variable_probability, evaluation_data, target_variable)`\n",
    "`evaluate()` uses the functions and methods defined and implemented up to now to produce an error rate of the form \n",
    "$$\n",
    "\\text{error rate} = \\frac{errors}{n}\n",
    "$$\n",
    "Where $errors$ corresponds to the total number of classifications in which the classified value is different from the actually observed target value. $n$ corresponds to the number of elements in `evaluation_data`.\n",
    "\n",
    "The function uses the classification elements of the NBC `probability_table` and `target_variable_probability` to call the `classify()` function and produce a list of classifications. This estimates are the compared to the actual observed values and the **error rate** is finally computed and returned."
   ]
  },
  {
   "cell_type": "code",
   "execution_count": 11,
   "metadata": {},
   "outputs": [],
   "source": [
    "def evaluate(probability_table, target_variable_probability, evaluation_data, target_variable):    \n",
    "    attributes = [attr for attr in range(len(evaluation_data[0])) if attr != target_variable]    \n",
    "    evaluation_target = [row[target_variable] for row in evaluation_data]    \n",
    "    evaluation_features = [[row[atr] for atr in attributes] for row in evaluation_data]    \n",
    "    evaluation_classification = classify(probability_table, target_variable_probability, evaluation_data, target_variable)\n",
    "    evaluation_classification = [row[0] for row in evaluation_classification]\n",
    "    n = len(evaluation_target)\n",
    "    error = sum([evaluation_target[i]!=evaluation_classification[i] for i in range(n)])\n",
    "    return error/n"
   ]
  },
  {
   "cell_type": "code",
   "execution_count": 12,
   "metadata": {},
   "outputs": [],
   "source": [
    "# This example follows from this week's Self Check.\n",
    "evaluation_data = deepcopy(sc_data)\n",
    "assert evaluate(probability_table, target_variable_probability, evaluation_data, 3) == 0.13333333333333333"
   ]
  },
  {
   "cell_type": "markdown",
   "metadata": {},
   "source": [
    "### `cross_validate(data, target_attribute)`\n",
    "`cross_validate(data, target_attribute)` follows the same procedures implemented in modules 3 and 8. As a summary, the function follows the following steps:\n",
    "1. Use the already shuffled `data` source to\n",
    "2. split the dataset into `k-folds` using the `create_folds()` function.\n",
    "3. For each unique fold:\n",
    "    - Split the fold into a `training` and `test` set using the `create_train_test()` function.\n",
    "    - Use a base model to compare against a trivial guess. In this case, we will choose arbitrarily the first label on the test set across the entire set as the baseline model. Then store an evaluation metric for the base model. \n",
    "    - Fit a model on the `training` set and evaluate it on the `test` set.\n",
    "    - Retain the evaluation score and discard the model.\n",
    "4. Summarize the skill of the model using the sample of the evaluation scores. We will also compare the summary statistics of the model agains the base model.\n",
    "\n",
    "The function produces a table with the error rates for all `k-folds` in both the NBC classifier and the Base model. Then we print out the mean and variance of the estimates. Finally a graph is printed for a visual representation of the data."
   ]
  },
  {
   "cell_type": "code",
   "execution_count": 13,
   "metadata": {},
   "outputs": [],
   "source": [
    "def cross_validate(data, target_attribute, k_folds = 10, smooth=True):\n",
    "    fold_label = 'Fold'\n",
    "    knn_mse_label = 'NBC(%)'\n",
    "    base_mse_label = 'Base(%)'\n",
    "    mean_label = \"Mean\"\n",
    "    variance_label = 'Var.'\n",
    "\n",
    "    folds = create_folds(data, k_folds)\n",
    "    base_errors = []\n",
    "    model_errors = []\n",
    "    tree = None\n",
    "    print(f'Error Rate by Fold: {\"Smoothed\" if smooth else \"\"} NBC Vs. Base')\n",
    "    print(f\"\"\"{fold_label : <5}{knn_mse_label : ^15}{base_mse_label : >10}\"\"\")\n",
    "    for i in range(len(folds)):\n",
    "        training, test = create_train_test(folds, i)    \n",
    "        y = [sample[target_attribute] for sample in test]       \n",
    "\n",
    "        base_y_hat = [test[0][target_attribute] for sample in test]\n",
    "        base_error = sum([y[i] != base_y_hat[i] for i in range(len(test))])\n",
    "        base_error_rate = base_error/len(test)\n",
    "        base_errors.append(base_error_rate)   \n",
    "\n",
    "        probability_table, target_variable_probability = train(training, target_attribute, smooth=smooth)\n",
    "        error_rate = evaluate(probability_table, target_variable_probability, training, target_attribute)\n",
    "        model_errors.append(error_rate)\n",
    "\n",
    "        print(f\"\"\"{i+1 : <5}{error_rate*100 : ^15.2f}{base_error_rate*100 : >10.2f}\"\"\")\n",
    "\n",
    "    base_mean = mean(base_errors)\n",
    "    model_mean = mean(model_errors)\n",
    "    print(f\"\"\"{mean_label : <5}{model_mean*100 : ^15.2f}\\\n",
    "    {base_mean*100 : >6.2f}\"\"\")\n",
    "\n",
    "    base_variance = variance([error*100 for error in base_errors])\n",
    "    model_variance = variance([error*100 for error in model_errors])\n",
    "\n",
    "    print(f\"\"\"{variance_label : <5}{model_variance : ^15.2f}\\\n",
    "    {base_variance : >6.2f}\"\"\")\n",
    "        \n",
    "    fig = plt.figure(figsize=(10, 7))\n",
    "    plt.plot(range(1,len(model_errors)+1),model_errors, label='Model Error Rates')\n",
    "    plt.plot(range(1,len(base_errors)+1),base_errors, label = 'Base Error Rates')\n",
    "    plt.xlabel(\"Fold\")\n",
    "    plt.ylabel(\"Error Rate\")\n",
    "    plt.legend(fontsize=12)\n",
    "    plt.title(f'{\"Smoothed\" if smooth else \"\"} NBC Error Rates vs. Base Error Rates')\n",
    "    plt.show()"
   ]
  },
  {
   "cell_type": "code",
   "execution_count": 14,
   "metadata": {},
   "outputs": [
    {
     "name": "stdout",
     "output_type": "stream",
     "text": [
      "Error Rate by Fold: Smoothed NBC Vs. Base\n",
      "Fold     NBC(%)        Base(%)\n",
      "1         4.58           47.11\n",
      "2         4.45           47.60\n",
      "3         4.43           48.59\n",
      "4         4.64           49.69\n",
      "5         4.27           54.43\n",
      "6         4.50           47.78\n",
      "7         4.60           47.41\n",
      "8         4.21           49.14\n",
      "9         4.43           48.15\n",
      "10        4.50           53.82\n",
      "Mean      4.46           49.37\n",
      "Var.      0.02            6.92\n"
     ]
    },
    {
     "data": {
      "image/png": "[encoded data removed]",
      "text/plain": [
       "<Figure size 720x504 with 1 Axes>"
      ]
     },
     "metadata": {
      "needs_background": "light"
     },
     "output_type": "display_data"
    }
   ],
   "source": [
    "mushroom_data = parse_data('agaricus-lepiota.data', True)\n",
    "cross_validate(mushroom_data, 0, 10, True)"
   ]
  },
  {
   "cell_type": "code",
   "execution_count": 15,
   "metadata": {},
   "outputs": [
    {
     "name": "stdout",
     "output_type": "stream",
     "text": [
      "Error Rate by Fold:  NBC Vs. Base\n",
      "Fold     NBC(%)        Base(%)\n",
      "1         0.33           47.11\n",
      "2         0.27           47.60\n",
      "3         0.29           48.59\n",
      "4         0.34           49.69\n",
      "5         0.29           54.43\n",
      "6         0.30           47.78\n",
      "7         0.31           47.41\n",
      "8         0.19           49.14\n",
      "9         0.27           48.15\n",
      "10        0.30           53.82\n",
      "Mean      0.29           49.37\n",
      "Var.      0.00            6.92\n"
     ]
    },
    {
     "data": {
      "image/png": "[encoded data removed]",
      "text/plain": [
       "<Figure size 720x504 with 1 Axes>"
      ]
     },
     "metadata": {
      "needs_background": "light"
     },
     "output_type": "display_data"
    }
   ],
   "source": [
    "cross_validate(mushroom_data, 0, 10, False)"
   ]
  },
  {
   "cell_type": "markdown",
   "metadata": {},
   "source": [
    "## Before You Submit...\n",
    "\n",
    "1. Did you provide output exactly as requested?\n",
    "2. Did you re-execute the entire notebook? (\"Restart Kernel and Rull All Cells...\")\n",
    "3. If you did not complete the assignment or had difficulty please explain what gave you the most difficulty in the Markdown cell below.\n",
    "4. Did you change the name of the file to `jhed_id.ipynb`?\n",
    "\n",
    "Do not submit any other files."
   ]
  },
  {
   "cell_type": "markdown",
   "metadata": {},
   "source": []
  }
 ],
 "metadata": {
  "kernelspec": {
   "display_name": "Python 3 (ipykernel)",
   "language": "python",
   "name": "python3"
  },
  "language_info": {
   "codemirror_mode": {
    "name": "ipython",
    "version": 3
   },
   "file_extension": ".py",
   "mimetype": "text/x-python",
   "name": "python",
   "nbconvert_exporter": "python",
   "pygments_lexer": "ipython3",
   "version": "3.9.7"
  },
  "toc": {
   "colors": {
    "hover_highlight": "#DAA520",
    "navigate_num": "#000000",
    "navigate_text": "#333333",
    "running_highlight": "#FF0000",
    "selected_highlight": "#FFD700",
    "sidebar_border": "#EEEEEE",
    "wrapper_background": "#FFFFFF"
   },
   "moveMenuLeft": true,
   "nav_menu": {
    "height": "81px",
    "width": "252px"
   },
   "navigate_menu": true,
   "number_sections": true,
   "sideBar": true,
   "threshold": 4,
   "toc_cell": false,
   "toc_section_display": "block",
   "toc_window_display": false,
   "widenNotebook": false
  }
 },
 "nbformat": 4,
 "nbformat_minor": 4
}
