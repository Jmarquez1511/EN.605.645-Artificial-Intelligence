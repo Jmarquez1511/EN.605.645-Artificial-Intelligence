{
 "cells": [
  {
   "cell_type": "markdown",
   "metadata": {},
   "source": [
    "# Module 5 - Programming Assignment\n",
    "\n",
    "## Directions\n",
    "\n",
    "1. Change the name of this file to be your JHED id as in `jsmith299.ipynb`. Because sure you use your JHED ID (it's made out of your name and not your student id which is just letters and numbers).\n",
    "2. Make sure the notebook you submit is cleanly and fully executed. I do not grade unexecuted notebooks.\n",
    "3. Submit your notebook back in Blackboard where you downloaded this file.\n",
    "\n",
    "*Provide the output **exactly** as requested*"
   ]
  },
  {
   "cell_type": "markdown",
   "metadata": {},
   "source": [
    "## Solving Normal Form Games"
   ]
  },
  {
   "cell_type": "code",
   "execution_count": 1,
   "metadata": {},
   "outputs": [],
   "source": [
    "from typing import List, Tuple, Dict, Callable"
   ]
  },
  {
   "cell_type": "markdown",
   "metadata": {},
   "source": [
    "In the lecture we talked about the Prisoner's Dilemma game, shown here in Normal Form:\n",
    "\n",
    "Player 1 / Player 2  | Defect | Cooperate\n",
    "------------- | ------------- | -------------\n",
    "Defect  | -5, -5 | -1, -10\n",
    "Cooperate  | -10, -1 | -2, -2\n",
    "\n",
    "where the payoff to Player 1 is the left number and the payoff to Player 2 is the right number. We can represent each payoff cell as a Tuple: `(-5, -5)`, for example. We can represent each row as a List of Tuples: `[(-5, -5), (-1, -10)]` would be the first row and the entire table as a List of Lists:"
   ]
  },
  {
   "cell_type": "code",
   "execution_count": 2,
   "metadata": {},
   "outputs": [
    {
     "data": {
      "text/plain": [
       "[[(-5, -5), (-1, -10)], [(-10, -1), (-2, -2)]]"
      ]
     },
     "execution_count": 2,
     "metadata": {},
     "output_type": "execute_result"
    }
   ],
   "source": [
    "prisoners_dilemma = [\n",
    " [( -5, -5), (-1,-10)],\n",
    " [(-10, -1), (-2, -2)]]\n",
    "\n",
    "prisoners_dilemma"
   ]
  },
  {
   "cell_type": "markdown",
   "metadata": {},
   "source": [
    "in which case the strategies are represented by indices into the List of Lists. For example, `(Defect, Cooperate)` for the above game becomes `prisoners_dilemma[ 0][ 1]` and returns the payoff `(-1, -10)` because 0 is the first row of the table (\"Defect\" for Player 1) and 1 is the 2nd column of the row (\"Cooperate\" for Player 2).\n",
    "\n",
    "For this assignment, you are going write a function that uses Successive Elimination of Dominated Strategies (SEDS) to find the **pure strategy** Nash Equilibrium of a Normal Form Game. The function is called `solve_game`:\n",
    "\n",
    "```python\n",
    "def solve_game( game: List[List[Tuple]], weak=False) -> Tuple:\n",
    "    pass # returns strategy indices of Nash equilibrium or None.\n",
    "```\n",
    "\n",
    "and it takes two parameters: the game, in a format that we described earlier and an optional boolean flag that controls whether the algorithm considers only **strongly dominated strategies** (the default will be false) or whether it should consider **weakly dominated strategies** as well.\n",
    "\n",
    "It should work with game matrices of any size and it will return the **strategy indices** of the Nash Equilibrium. If there is no **pure strategy** equilibrium that can be found using SEDS, return `None`.\n",
    "\n",
    "\n",
    "<div style=\"background: mistyrose; color: firebrick; border: 2px solid darkred; padding: 5px; margin: 10px;\">\n",
    "Do not return the payoff. That's not useful. Return the strategy indices, any other output is incorrect.\n",
    "</div>\n",
    "\n",
    "As before, you must provide your implementation in the space below, one Markdown cell for documentation and one Code cell for implementation, one function and assertations per Codecell.\n",
    "\n",
    "\n",
    "---"
   ]
  },
  {
   "cell_type": "markdown",
   "metadata": {},
   "source": [
    "## solve_game\n",
    "\n",
    "In order to solve the game, we will use the `solve_game` function. In order to process the information and find stronly and weakly dominate strategies, I have written a series of functions. I have provided below documentation and unit tests for all of them. In order to test the strategies, we will use the following example:\n",
    "\n",
    "| Player 1 / Player 2  | 0 | 1 |\n",
    "|----|----|----|\n",
    "|0  | -6,-6 | 0,-10 |\n",
    "|1  | -10,0 | -1,-1 | \n",
    "\n",
    "The overall strategy to solve the problem is the following. For each iteration of the game:\n",
    "1. Define the strategies for each player in a format that is easily parsed. This is handled by `find_strategies`.\n",
    "2. Find any dominated strategies (weakly or strongly) from those available for a given player. This is handeled by the  `find_weak_strategy()` function.\n",
    "3. If found, remove any weak strategies from the game. This action is performed by the `remove_weak_strategy()` function.\n",
    "\n",
    "The function `solve_game()` is a wrapper function which iterates over different states of the game performing these three actions until a single position is found or until the game is found to be stuck."
   ]
  },
  {
   "cell_type": "code",
   "execution_count": 3,
   "metadata": {},
   "outputs": [],
   "source": [
    "example = [[(-6,-6),(0,-10)],[(-10,0),(-1,-1)]]\n",
    "from copy import deepcopy"
   ]
  },
  {
   "cell_type": "markdown",
   "metadata": {},
   "source": [
    "### Finding strategies\n",
    "`find_strategies()` is a function used to parse the available strategies for each player. The function takes in the current version of the game and stores the available sets of strategies in nested distionaries."
   ]
  },
  {
   "cell_type": "code",
   "execution_count": 4,
   "metadata": {},
   "outputs": [],
   "source": [
    "def find_strategies(game: list[list[tuple]]):\n",
    "    game_shape = len(game),len(game[0])\n",
    "    strategies = {}\n",
    "    p0_strategies = {i:[] for i in range(len(game))}\n",
    "    p1_strategies = {i:[] for i in range(len(game[0]))}\n",
    "    #return p0_strategies, p1_strategies\n",
    "    for i in range(len(game)):\n",
    "        p0_strategy = []\n",
    "        p1_strategy = []\n",
    "        for j in range(len(game[i])):\n",
    "            p0_strategies[i].append(game[i][j][0])\n",
    "            p1_strategies[j].append(game[i][j][1])      \n",
    "    strategies[0] = p0_strategies\n",
    "    strategies[1] = p1_strategies\n",
    "    return strategies          "
   ]
  },
  {
   "cell_type": "code",
   "execution_count": 5,
   "metadata": {},
   "outputs": [],
   "source": [
    "assert find_strategies(example) == {0: {0: [-6, 0], 1: [-10, -1]}, 1: {0: [-6, 0], 1: [-10, -1]}}\n",
    "assert find_strategies(prisoners_dilemma) == {0: {0: [-5, -1], 1: [-10, -2]}, 1: {0: [-5, -1], 1: [-10, -2]}}"
   ]
  },
  {
   "cell_type": "markdown",
   "metadata": {},
   "source": [
    "### Finding weak strategies\n",
    "The creationg of a more friendly data structure allows us to easily compare the available actions component wise, this while keeping track of the number of actions within a choice that is stronger. We also pass an indicator for us of weak or strong dominance, the differences between the two are:\n",
    "1. Strong dominance requires the use of '>' and it must be the case that all the elements of a particular choice must be stronger than those of the weaker choice.\n",
    "2. Weak dominance requires the use of '>=', where one of the strategies is strictly greater ('>') while the rest can be greater than or equal ('>='). This means that the player has the ability to improve but not to reduce its utility. \n",
    "\n",
    "The function `find_weak_strategy()` performs this actions for a particular player. `find_weak_strategy()` the loops over all the available actions, comparing each one agains each other action available. Whenever an action is found to be weaker than the one it is compared against, the function returns a tuple of the player and the weaker action index."
   ]
  },
  {
   "cell_type": "code",
   "execution_count": 6,
   "metadata": {},
   "outputs": [],
   "source": [
    "def find_weak_strategy(strategies: dict, weak_dominance:bool, player:int):\n",
    "    player_strategies = deepcopy(strategies[player])\n",
    "    number_components = len(player_strategies[0])\n",
    "    \n",
    "    for i in range(len(player_strategies)):\n",
    "        strategies = list(player_strategies.keys())\n",
    "        strategies_to_evaluate = [strat for strat in strategies if strat != i]\n",
    "        for j in strategies_to_evaluate:\n",
    "            valid_components = 0\n",
    "            strict_valid_components = 0\n",
    "            non_strict_valid_components = 0\n",
    "            for x in range(len(player_strategies[i])):\n",
    "                if weak_dominance:\n",
    "                    if player_strategies[i][x] > player_strategies[j][x]:\n",
    "                        strict_valid_components += 1\n",
    "                    elif player_strategies[i][x] >= player_strategies[j][x]:\n",
    "                        non_strict_valid_components += 1\n",
    "                    if strict_valid_components>=1 and (strict_valid_components+non_strict_valid_components) == number_components:\n",
    "                        # print(f\"\"\"Player {player} found a weakly dominated strategy\"\"\")\n",
    "                        return player, j                    \n",
    "                else:\n",
    "                    if player_strategies[i][x] > player_strategies[j][x]:\n",
    "                        valid_components += 1\n",
    "                    if valid_components == number_components:\n",
    "                        # print(f\"\"\"Player {player} found a strongly dominated strategy\"\"\")\n",
    "                        return player, j                    \n",
    "    # print(f\"\"\"Player {player} did not find a {'weakly' if weak_dominance else 'strongly'} dominated strategy\"\"\")\n",
    "    return None"
   ]
  },
  {
   "cell_type": "code",
   "execution_count": 7,
   "metadata": {},
   "outputs": [],
   "source": [
    "strategies = find_strategies(example)\n",
    "assert find_weak_strategy(strategies, False, 0) == (0,1)\n",
    "assert find_weak_strategy(strategies, False, 1) == (1,1)"
   ]
  },
  {
   "cell_type": "markdown",
   "metadata": {},
   "source": [
    "### Removing weak strategies\n",
    "Up to here we have a mechanism to detect weak strategies. The function `remove_weak_strategy()` takes the current state of the game and returns a modified version of it. The function also takes as parameter a tuple of a strategy to remove containing the player and strategy. This is important because given the structure of the game, for player 0 we need to remove rows and for player 1 we would need to remove columns of the game. "
   ]
  },
  {
   "cell_type": "code",
   "execution_count": 8,
   "metadata": {},
   "outputs": [],
   "source": [
    "def remove_weak_strategy(game: list, strategy_to_remove: tuple) -> list:\n",
    "    new_game = deepcopy(game)\n",
    "    player = strategy_to_remove[0]\n",
    "    weak_strategy = strategy_to_remove[1]\n",
    "    if player == 0:\n",
    "        new_game.pop(weak_strategy)\n",
    "    else:\n",
    "        for row in new_game:\n",
    "            row.pop(weak_strategy)\n",
    "    # print(f\"\"\"Player {strategy_to_remove[0]} removed a strategy from them game\"\"\")\n",
    "    return new_game"
   ]
  },
  {
   "cell_type": "code",
   "execution_count": 9,
   "metadata": {},
   "outputs": [],
   "source": [
    "to_remove = find_weak_strategy(strategies, False, 0) #(0,1)\n",
    "to_remove2 = find_weak_strategy(strategies, False, 1) #(1,1)\n",
    "# We should take the game and return a version of it in which for player 0 we remove strategy 1. This means we should get\n",
    "# [[(-6, -6), (0, -10)]]\n",
    "assert remove_weak_strategy(example, to_remove) == [[(-6, -6), (0, -10)]]\n",
    "# In the second example we remove strategy 1 the selected strategy for player 1. This means we should get \n",
    "# [[(-6, -6)], [(-10, 0)]]\n",
    "assert remove_weak_strategy(example, to_remove2) == [[(-6, -6)], [(-10, 0)]]"
   ]
  },
  {
   "cell_type": "markdown",
   "metadata": {},
   "source": [
    "### Putting it all together\n",
    "With all of the recipes in place to solve the problem, the function `solve_game()` iterates through the game implementing the 3 steps previously mentioned. In the implementation, we define a nested list with the available strategies/actions available to both players. As we loop trough the three functions sequentially, we keep track of the left over available strategies. The while loop is broken whenever:\n",
    "1. there is only one strategy left available per player, or \n",
    "2. another way in which we brake off the loop is by letting is player go twice after the other and finding that there was no resulting improvement in the number of strategies available. When this happens, we say that the game is stuck and return None. \n",
    "\n",
    "In the case that a winning strategy is found for both players, the function returns a tuple with the coordinates of such strategies in the game. Notice that these coordinates corresponds to the nested lists we have been keeping track of. "
   ]
  },
  {
   "cell_type": "code",
   "execution_count": 10,
   "metadata": {},
   "outputs": [],
   "source": [
    "def solve_game(game: list[list[tuple]], weak:bool=False) -> tuple:\n",
    "    # print(f\"\"\"\\033[1mGame with {'weak' if weak else 'strong'} dominance\\033[0;0m\"\"\")\n",
    "    player0_strategies = [i for i in range(len(game))]\n",
    "    player1_strategies = [i for i in range(len(game[0]))]\n",
    "    countdown = [player0_strategies,player1_strategies]\n",
    "    \n",
    "    while len(countdown[0])>1 or len(countdown[1])>1:\n",
    "        original_countdown = deepcopy(countdown)\n",
    "        strategies = find_strategies(game)\n",
    "        for i in [0,1,0,1]:\n",
    "            # print(f\"\"\"\\nPlayer {i}'s Turn:'\"\"\")\n",
    "            weak_strategy = find_weak_strategy(strategies, weak, i)\n",
    "            if weak_strategy is None:\n",
    "                continue\n",
    "            else:\n",
    "                countdown[i].pop(weak_strategy[1])\n",
    "                game = remove_weak_strategy(game, weak_strategy)\n",
    "                # print(weak_strategy)\n",
    "                strategies = find_strategies(game)\n",
    "        if countdown == original_countdown:\n",
    "            # print(f'The game is stuck\\n')\n",
    "            return None\n",
    "    \n",
    "    winning_strategy = (countdown[0][0],countdown[1][0])\n",
    "    # print(f\"\"\"\\nThe winning strategy is {winning_strategy}\"\"\")    \n",
    "    \n",
    "    return winning_strategy"
   ]
  },
  {
   "cell_type": "code",
   "execution_count": 11,
   "metadata": {},
   "outputs": [],
   "source": [
    "# In the previous example we found that player 0 eliminates their strategy 1 and that player 1 also eliminates their strategy 1.\n",
    "# Since this is a 2x2 game, the only strategy left would be for both player to play strategy 0.\n",
    "assert solve_game(example, False) == (0,0)"
   ]
  },
  {
   "cell_type": "markdown",
   "metadata": {},
   "source": [
    "## Additional Directions\n",
    "\n",
    "Create three games as described and according to the following:\n",
    "\n",
    "1. Your games must be created and solved \"by hand\".\n",
    "2. The strategy pairs must **not** be on the main diagonal (0, 0), (1, 1), or (2, 2). And the solution cannot be the same for both Game 1 and Game 2.\n",
    "3. Make sure you fill out the Markdown (\"?\") with your game as well as the solution (\"?\").\n",
    "4. Remember, **do not return the payoff**, return the strategy indices.\n",
    "\n",
    "For games that can be solved with *weak* SEDS, there may be more than one solution. You only need to return the first solution found. However, if you would like to return all solutions, you can implement `solve_game` as state space search."
   ]
  },
  {
   "cell_type": "markdown",
   "metadata": {},
   "source": [
    "### Test Game 1. Create a 3x3 two player game\n",
    "\n",
    "**that can only be solved using the Successive Elimintation of Strongly Dominated Strategies**\n",
    "\n",
    "| Player 1 / Player 2  | 0 | 1 | 2 |\n",
    "|----|----|----|----|\n",
    "|0  | 3,0 | 2,1 | 1,0 |\n",
    "|1  | 2,1 | 1,1 | 1,0 |\n",
    "|2  | 0,1 | 0,1 | 0,0 |\n",
    "\n",
    "**Solution:**? (strategy indices)\n",
    "\n",
    "1. For player 1, strategy 0 has strong strict dominance over strategy 2. This means that we should eliminate strategy 2 from the game\n",
    "\n",
    "| Player 1 / Player 2  | 0 | 1 | 2 |\n",
    "|----|----|----|----|\n",
    "|0  | 3,0 | 2,1 | 1,0 |\n",
    "|1  | 2,1 | 1,1 | 1,0 |\n",
    "|2  | ~~0,1~~ | ~~0,1~~ | ~~0,0~~ |\n",
    "\n",
    "2. Next, player 2 goes. For player 2, strategy 1 is strongly dominant over strategy 2. This means that player 2 will not play strategy 2 and it should be eliminated.\n",
    "\n",
    "| Player 1 / Player 2  | 0 | 1 | 2 |\n",
    "|----|----|----|----|\n",
    "|0  | 3,0 | 2,1 | ~~1,0~~ |\n",
    "|1  | 2,1 | 1,1 | ~~1,0~~ |\n",
    "|2  | ~~0,1~~ | ~~0,1~~ | ~~0,0~~ |\n",
    "\n",
    "3. Next, pleayer 1 goes. For player 1, strategy 0 is strongly dominante over strategy 1, therefore strategy 1 is eliminated.\n",
    "| Player 1 / Player 2  | 0 | 1 | 2 |\n",
    "|----|----|----|----|\n",
    "|0  | 3,0 | ~~2,1~~ | ~~1,0~~ |\n",
    "|1  | 2,1 | ~~1,1~~ | ~~1,0~~ |\n",
    "|2  | ~~0,1~~ | ~~0,1~~ | ~~0,0~~ |\n",
    "\n",
    "4. Next, player 2 goes. Since 1 > 0, player 2 chooses strategy 1. Therefore strategy 0 is eliminated.\n",
    "| Player 1 / Player 2  | 0 | 1 | 2 |\n",
    "|----|----|----|----|\n",
    "|0  | ~~3,0~~ | ~~2,1~~ | ~~1,0~~ |\n",
    "|1  | 2,1 | ~~1,1~~ | ~~1,0~~ |\n",
    "|2  | ~~0,1~~ | ~~0,1~~ | ~~0,0~~ |\n",
    "\n",
    "At this point we can identify strategy (0,1) as the winning strategy."
   ]
  },
  {
   "cell_type": "code",
   "execution_count": 12,
   "metadata": {},
   "outputs": [
    {
     "name": "stdout",
     "output_type": "stream",
     "text": [
      "(0, 1)\n"
     ]
    }
   ],
   "source": [
    "test_game_1 = [[(3,0),(2,1),(1,0)],[(2,1),(1,1),(1,0)],[(0,1),(0,1),(0,0)]]\n",
    "solution = solve_game(test_game_1, False)\n",
    "print(solution)"
   ]
  },
  {
   "cell_type": "code",
   "execution_count": 13,
   "metadata": {},
   "outputs": [],
   "source": [
    "assert solution == (0,1) # insert your solution from above."
   ]
  },
  {
   "cell_type": "markdown",
   "metadata": {},
   "source": [
    "### Test Game 2. Create a 3x3 two player game\n",
    "\n",
    "**that can only be solved using the Successive Elimintation of Weakly Dominated Strategies**\n",
    "\n",
    "| Player 1 / Player 2  | 0 | 1 | 2 |\n",
    "|----|----|----|----|\n",
    "|0  | 2,2 | 3,2 | 3,2.5 |\n",
    "|1  | 2.5,3 | 2.5,6 | 5,5 |\n",
    "|2  | 2,3 | 4,4 | 6,2.5 |\n",
    "\n",
    "**Solution:**? \n",
    "\n",
    "1. For player 1, strategy 2 has weak dominance over strategy 0. This means that we should eliminate strategy 0 from the game\n",
    "\n",
    "| Player 1 / Player 2  | 0 | 1 | 2 |\n",
    "|----|----|----|----|\n",
    "|0  | ~~2,2~~ | ~~3,2~~ | ~~3,2.5~~ |\n",
    "|1  | 2.5,3 | 2.5,6 | 5,5 |\n",
    "|2  | 2,3 | 4,4 | 6,2.5 |\n",
    "\n",
    "2. Next, player 2 goes. For player 2, strategy 1 has weak dominance over strategy 0. This means that we should eliminate strategy 0 from the game\n",
    "\n",
    "| Player 1 / Player 2  | 0 | 1 | 2 |\n",
    "|----|----|----|----|\n",
    "|0  | ~~2,2~~ | ~~3,2~~ | ~~3,2.5~~ |\n",
    "|1  | ~~2.5,3~~ | 2.5,6 | 5,5 |\n",
    "|2  | ~~2,3~~ | 4,4 | 6,2.5 |\n",
    "\n",
    "3. Next, pleayer 1 goes. For player 1, strategy 2 is weakly dominant over strategy 1, therefore strategy 1 is eliminated.\n",
    "| Player 1 / Player 2  | 0 | 1 | 2 |\n",
    "|----|----|----|----|\n",
    "|0  | ~~2,2~~ | ~~3,2~~ | ~~3,2.5~~ |\n",
    "|1  | ~~2.5,3~~ | ~~2.5,6~~ | ~~5,5~~ |\n",
    "|2  | ~~2,3~~ | 4,4 | 6,2.5 |\n",
    "\n",
    "4. Next, pleayer 2 goes. For player 1, strategy 1 is weakly dominant over strategy 2, therefore strategy 2 is eliminated.\n",
    "| Player 1 / Player 2  | 0 | 1 | 2 |\n",
    "|----|----|----|----|\n",
    "|0  | ~~2,2~~ | ~~3,2~~ | ~~3,2.5~~ |\n",
    "|1  | ~~2.5,3~~ | ~~2.5,6~~ | ~~5,5~~ |\n",
    "|2  | ~~2,3~~ | 4,4 | ~~6,2.5~~ |\n",
    "\n",
    "At this point we can identify strategy (2,1) as the winning strategy."
   ]
  },
  {
   "cell_type": "code",
   "execution_count": 14,
   "metadata": {},
   "outputs": [],
   "source": [
    "test_game_2 = [[(2,2),(3,2),(3,2.5)],[(2.5,3),(2.5,6),(5,5)],[(2,3),(4,4),(6,2.5)]]\n",
    "\n",
    "strong_solution = solve_game( test_game_2)\n",
    "weak_solution = solve_game(test_game_2, weak=True)"
   ]
  },
  {
   "cell_type": "code",
   "execution_count": 15,
   "metadata": {},
   "outputs": [],
   "source": [
    "assert strong_solution == None\n",
    "# assert weak_solution == (0,1) # insert your solution from above."
   ]
  },
  {
   "cell_type": "code",
   "execution_count": 16,
   "metadata": {},
   "outputs": [
    {
     "data": {
      "text/plain": [
       "(2, 1)"
      ]
     },
     "execution_count": 16,
     "metadata": {},
     "output_type": "execute_result"
    }
   ],
   "source": [
    "solve_game( test_game_2, weak=True)"
   ]
  },
  {
   "cell_type": "markdown",
   "metadata": {},
   "source": [
    "### Test Game 3. Create a 3x3 two player game\n",
    "\n",
    "**that cannot be solved using the Successive Elimintation of Dominated Strategies at all**\n",
    "\n",
    "The following example is a variation of example 2, what I have done is change a value to ensure that player 1 is worse off at least in a scenario by eliminating strategy 0.\n",
    "\n",
    "| Player 1 / Player 2  | 0 | 1 | 2 |\n",
    "|----|----|----|----|\n",
    "|0  | 2,2 | 5,2 | 3,2.5 |\n",
    "|1  | 2.5,3 | 2.5,6 | 5,6 |\n",
    "|2  | 2,3 | 4,4 | 6,2.5 |\n",
    "\n",
    "**Solution:** \n",
    "1. Begin by considering player 1 and focus on the second entry of each strategy:\n",
    "    * Look at the second entry of each strategy:\n",
    "   - Strategy 1 is not weakly dominant over Strategy 0 because 5>2.5.\n",
    "   - Strategy 2 is not weakly dominant over Strategy 0 because 5>4.\n",
    "   * Let's see now if Strategy 0 can be weakly dominant:\n",
    "   - Strategy 0 is not weakly dominant over Strategy 1 because 2.5>2.\n",
    "   - Strategy 0 is not weakly dominant over Strategy 2 because 6>3.\n",
    "   Because not weakly dominant strategy is found, the game carries on as is\n",
    "   \n",
    "| Player 1 / Player 2  | 0 | 1 | 2 |\n",
    "|----|----|----|----|\n",
    "|0  | 2,2 | 5,2 | 3,2.5 |\n",
    "|1  | 2.5,3 | 2.5,6 | 5,6 |\n",
    "|2  | 2,3 | 4,4 | 6,2.5 |\n",
    "\n",
    "2. It order to un-stuck the game, we would need then for palyer 2 to be able to eliminate a strategy. We see that Strategy 1 is weakly dominant over Stategy 0. Therefore Strategy 0 is eliminated:\n",
    "\n",
    "| Player 1 / Player 2  | 0 | 1 | 2 |\n",
    "|----|----|----|----|\n",
    "|0  | ~~2,2~~ | 5,2 | 3,2.5 |\n",
    "|1  | ~~2.5,3~~ | 2.5,6 | 5,6 |\n",
    "|2  | ~~2,3~~ | 4,4 | 6,2.5 |\n",
    "\n",
    "3. Next, player 1 goes. We can see that Strategy 2 weakly dominates Stategy 1, therefore we eliminate Stategy 1:\n",
    "\n",
    "| Player 1 / Player 2  | 0 | 1 | 2 |\n",
    "|----|----|----|----|\n",
    "|0  | ~~2,2~~ | 5,2 | 3,2.5 |\n",
    "|1  | ~~2.5,3~~ | ~~2.5,6~~ | ~~5,6~~|\n",
    "|2  | ~~2,3~~ | 4,4 | 6,2.5 |\n",
    "\n",
    "At this point we come into a stand still, this is because no Strategy is weakly dominant for either player. The game therefore becomes stuck.  "
   ]
  },
  {
   "cell_type": "code",
   "execution_count": 17,
   "metadata": {},
   "outputs": [],
   "source": [
    "test_game_3 = [[(2,2),(5,2),(3,2.5)],[(2.5,3),(2.5,6),(5,5)],[(2,3),(4,4),(6,2.5)]]\n",
    "strong_solution = solve_game(test_game_3)\n",
    "weak_solution = solve_game(test_game_3, weak=True)"
   ]
  },
  {
   "cell_type": "code",
   "execution_count": 18,
   "metadata": {},
   "outputs": [],
   "source": [
    "assert strong_solution == None\n",
    "assert weak_solution == None"
   ]
  },
  {
   "cell_type": "markdown",
   "metadata": {},
   "source": [
    "## Before You Submit...\n",
    "\n",
    "1. Did you provide output exactly as requested? **Don't forget to fill out the Markdown tables with your games**.\n",
    "2. Did you re-execute the entire notebook? (\"Restart Kernel and Rull All Cells...\")\n",
    "3. If you did not complete the assignment or had difficulty please explain what gave you the most difficulty in the Markdown cell below.\n",
    "4. Did you change the name of the file to `jhed_id.ipynb`?\n",
    "\n",
    "Do not submit any other files."
   ]
  },
  {
   "cell_type": "markdown",
   "metadata": {},
   "source": []
  }
 ],
 "metadata": {
  "kernelspec": {
   "display_name": "Python 3 (ipykernel)",
   "language": "python",
   "name": "python3"
  },
  "language_info": {
   "codemirror_mode": {
    "name": "ipython",
    "version": 3
   },
   "file_extension": ".py",
   "mimetype": "text/x-python",
   "name": "python",
   "nbconvert_exporter": "python",
   "pygments_lexer": "ipython3",
   "version": "3.9.7"
  },
  "toc": {
   "colors": {
    "hover_highlight": "#DAA520",
    "navigate_num": "#000000",
    "navigate_text": "#333333",
    "running_highlight": "#FF0000",
    "selected_highlight": "#FFD700",
    "sidebar_border": "#EEEEEE",
    "wrapper_background": "#FFFFFF"
   },
   "moveMenuLeft": true,
   "nav_menu": {
    "height": "135px",
    "width": "252px"
   },
   "navigate_menu": true,
   "number_sections": true,
   "sideBar": true,
   "threshold": 4,
   "toc_cell": false,
   "toc_section_display": "block",
   "toc_window_display": false,
   "widenNotebook": false
  }
 },
 "nbformat": 4,
 "nbformat_minor": 4
}
