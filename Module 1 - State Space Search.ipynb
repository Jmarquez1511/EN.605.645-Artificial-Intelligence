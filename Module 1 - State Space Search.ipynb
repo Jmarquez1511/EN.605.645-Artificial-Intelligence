{
 "cells": [
  {
   "cell_type": "markdown",
   "metadata": {},
   "source": [
    "# Module 1 - Programming Assignment\n",
    "\n",
    "## General Directions\n",
    "\n",
    "1. You must follow the Programming Requirements outlined on Canvas.\n",
    "2. The Notebook should be cleanly and fully executed before submission.\n",
    "3. You should change the name of this file to be your JHED id. For example, `jsmith299.ipynb` although Canvas will change it to something else... :/\n",
    "\n",
    "<div style=\"background: lemonchiffon; margin:20px; padding: 20px;\">\n",
    "    <strong>Important</strong>\n",
    "    <p>\n",
    "        You should always read the entire assignment before beginning your work, so that you know in advance what the requested output will be and can plan your implementation accordingly.\n",
    "    </p>\n",
    "</div>"
   ]
  },
  {
   "cell_type": "markdown",
   "metadata": {},
   "source": [
    "# State Space Search with A* Search\n",
    "\n",
    "You are going to implement the A\\* Search algorithm for navigation problems.\n",
    "\n",
    "\n",
    "## Motivation\n",
    "\n",
    "Search is often used for path-finding in video games. Although the characters in a video game often move in continuous spaces,\n",
    "it is trivial to layout a \"waypoint\" system as a kind of navigation grid over the continuous space. Then if the character needs\n",
    "to get from Point A to Point B, it does a line of sight (LOS) scan to find the nearest waypoint (let's call it Waypoint A) and\n",
    "finds the nearest, LOS waypoint to Point B (let's call it Waypoint B). The agent then does a A* search for Waypoint B from Waypoint A to find the shortest path. The entire path is thus Point A to Waypoint A to Waypoint B to Point B.\n",
    "\n",
    "We're going to simplify the problem by working in a grid world. The symbols that form the grid have a special meaning as they\n",
    "specify the type of the terrain and the cost to enter a grid cell with that type of terrain:\n",
    "\n",
    "```\n",
    "token   terrain    cost \n",
    "🌾       plains     1\n",
    "🌲       forest     3\n",
    "🪨       hills      5\n",
    "🐊       swamp      7\n",
    "🗻       mountains  impassible\n",
    "```\n",
    "\n",
    "We can think of the raw format of the map as being something like:\n",
    "\n",
    "```\n",
    "🌾🌾🌾🌾🌲🌾🌾\n",
    "🌾🌾🌾🌲🌲🌲🌾\n",
    "🌾🗻🗻🗻🌾🌾🌾\n",
    "🌾🌾🗻🗻🌾🌾🌾\n",
    "🌾🌾🗻🌾🌾🌲🌲\n",
    "🌾🌾🌾🌾🌲🌲🌲\n",
    "🌾🌾🌾🌾🌾🌾🌾\n",
    "```"
   ]
  },
  {
   "cell_type": "markdown",
   "metadata": {},
   "source": [
    "## The World\n",
    "\n",
    "Given a map like the one above, we can easily represent each row as a `List` and the entire map as `List of Lists`:"
   ]
  },
  {
   "cell_type": "code",
   "execution_count": 1,
   "metadata": {},
   "outputs": [],
   "source": [
    "full_world = [\n",
    "['🌾', '🌾', '🌾', '🌾', '🌾', '🌲', '🌲', '🌲', '🌲', '🌲', '🌲', '🌲', '🌲', '🌲', '🌲', '🌾', '🌾', '🌾', '🌾', '🌾', '🌾', '🌾', '🌾', '🌾', '🌾', '🌾', '🌾'],\n",
    "['🌾', '🌾', '🌾', '🌾', '🌾', '🌾', '🌾', '🌲', '🌲', '🌲', '🌲', '🌲', '🌲', '🌲', '🌲', '🌲', '🌾', '🌾', '🗻', '🗻', '🗻', '🗻', '🗻', '🗻', '🗻', '🌾', '🌾'],\n",
    "['🌾', '🌾', '🌾', '🌾', '🗻', '🗻', '🌲', '🌲', '🌲', '🌲', '🌲', '🌲', '🌲', '🌲', '🌲', '🌲', '🌲', '🗻', '🗻', '🗻', '🪨', '🪨', '🪨', '🗻', '🗻', '🪨', '🪨'],\n",
    "['🌾', '🌾', '🌾', '🌾', '🪨', '🗻', '🗻', '🗻', '🌲', '🌲', '🌲', '🌲', '🐊', '🐊', '🌲', '🌲', '🌲', '🌲', '🌲', '🌾', '🌾', '🪨', '🪨', '🗻', '🗻', '🪨', '🌾'],\n",
    "['🌾', '🌾', '🌾', '🪨', '🪨', '🗻', '🗻', '🌲', '🌲', '🌾', '🌾', '🐊', '🐊', '🐊', '🐊', '🌲', '🌲', '🌲', '🌾', '🌾', '🌾', '🪨', '🗻', '🗻', '🗻', '🪨', '🌾'],\n",
    "['🌾', '🪨', '🪨', '🪨', '🗻', '🗻', '🪨', '🪨', '🌾', '🌾', '🌾', '🌾', '🐊', '🐊', '🐊', '🐊', '🐊', '🌾', '🌾', '🌾', '🌾', '🌾', '🪨', '🗻', '🪨', '🌾', '🌾'],\n",
    "['🌾', '🪨', '🪨', '🗻', '🗻', '🪨', '🪨', '🌾', '🌾', '🌾', '🌾', '🪨', '🗻', '🗻', '🗻', '🐊', '🐊', '🐊', '🌾', '🌾', '🌾', '🌾', '🌾', '🪨', '🌾', '🌾', '🌾'],\n",
    "['🌾', '🌾', '🪨', '🪨', '🪨', '🪨', '🪨', '🌾', '🌾', '🌾', '🌾', '🌾', '🌾', '🪨', '🗻', '🗻', '🗻', '🐊', '🐊', '🐊', '🌾', '🌾', '🪨', '🪨', '🪨', '🌾', '🌾'],\n",
    "['🌾', '🌾', '🌾', '🪨', '🪨', '🪨', '🌾', '🌾', '🌾', '🌾', '🌾', '🌾', '🪨', '🪨', '🗻', '🗻', '🌾', '🐊', '🐊', '🌾', '🌾', '🪨', '🪨', '🪨', '🌾', '🌾', '🌾'],\n",
    "['🌾', '🌾', '🌾', '🐊', '🐊', '🐊', '🌾', '🌾', '🪨', '🪨', '🪨', '🗻', '🗻', '🗻', '🗻', '🌾', '🌾', '🌾', '🐊', '🌾', '🪨', '🪨', '🪨', '🌾', '🌾', '🌾', '🌾'],\n",
    "['🌾', '🌾', '🐊', '🐊', '🐊', '🐊', '🐊', '🌾', '🪨', '🪨', '🗻', '🗻', '🗻', '🪨', '🌾', '🌾', '🌾', '🌾', '🌾', '🪨', '🗻', '🗻', '🗻', '🪨', '🌾', '🌾', '🌾'],\n",
    "['🌾', '🐊', '🐊', '🐊', '🐊', '🐊', '🌾', '🌾', '🪨', '🗻', '🗻', '🪨', '🌾', '🌾', '🌾', '🌾', '🐊', '🐊', '🌾', '🌾', '🪨', '🗻', '🗻', '🪨', '🌾', '🌾', '🌾'],\n",
    "['🐊', '🐊', '🐊', '🐊', '🐊', '🌾', '🌾', '🪨', '🪨', '🗻', '🗻', '🪨', '🌾', '🐊', '🐊', '🐊', '🐊', '🌾', '🌾', '🌾', '🪨', '🗻', '🪨', '🌾', '🌾', '🌾', '🌾'],\n",
    "['🌾', '🐊', '🐊', '🐊', '🐊', '🌾', '🌾', '🪨', '🌲', '🌲', '🪨', '🌾', '🌾', '🌾', '🌾', '🐊', '🐊', '🐊', '🐊', '🌾', '🌾', '🪨', '🌾', '🌾', '🌾', '🌾', '🌾'],\n",
    "['🌾', '🌾', '🌾', '🌾', '🗻', '🌾', '🌾', '🌲', '🌲', '🌲', '🌲', '🪨', '🪨', '🪨', '🪨', '🌾', '🐊', '🐊', '🐊', '🌾', '🌾', '🪨', '🗻', '🪨', '🌾', '🌾', '🌾'],\n",
    "['🌾', '🌾', '🌾', '🗻', '🗻', '🗻', '🌲', '🌲', '🌲', '🌲', '🌲', '🌲', '🗻', '🗻', '🗻', '🪨', '🪨', '🌾', '🐊', '🌾', '🪨', '🗻', '🗻', '🪨', '🌾', '🌾', '🌾'],\n",
    "['🌾', '🌾', '🗻', '🗻', '🌲', '🌲', '🌲', '🌲', '🌲', '🌲', '🌲', '🌲', '🌲', '🌲', '🗻', '🗻', '🗻', '🌾', '🌾', '🗻', '🗻', '🗻', '🌾', '🌾', '🌾', '🌾', '🌾'],\n",
    "['🌾', '🌾', '🌾', '🗻', '🗻', '🌲', '🌲', '🌲', '🌲', '🌲', '🌲', '🌲', '🌲', '🌲', '🌲', '🌲', '🗻', '🗻', '🗻', '🗻', '🌾', '🌾', '🌾', '🌾', '🌾', '🌾', '🌾'],\n",
    "['🌾', '🌾', '🌾', '🗻', '🗻', '🗻', '🌲', '🌲', '🌲', '🌲', '🌲', '🌲', '🌲', '🌲', '🌾', '🌾', '🌾', '🪨', '🪨', '🌾', '🌾', '🌾', '🌾', '🌾', '🌾', '🌾', '🌾'],\n",
    "['🌾', '🌾', '🌾', '🌾', '🗻', '🗻', '🗻', '🌲', '🌲', '🌲', '🌲', '🌲', '🌲', '🌾', '🌾', '🌾', '🌾', '🌾', '🌾', '🌾', '🌾', '🌾', '🌾', '🐊', '🐊', '🐊', '🐊'],\n",
    "['🌾', '🌾', '🪨', '🪨', '🪨', '🪨', '🗻', '🗻', '🌲', '🌲', '🌲', '🌲', '🌲', '🌾', '🗻', '🌾', '🌾', '🌾', '🌾', '🌾', '🐊', '🐊', '🐊', '🐊', '🐊', '🐊', '🐊'],\n",
    "['🌾', '🌾', '🌾', '🌾', '🪨', '🪨', '🪨', '🗻', '🗻', '🗻', '🌲', '🌲', '🗻', '🗻', '🌾', '🌾', '🌾', '🌾', '🌾', '🌾', '🐊', '🐊', '🐊', '🐊', '🐊', '🐊', '🐊'],\n",
    "['🌾', '🌾', '🌾', '🌾', '🌾', '🌾', '🪨', '🪨', '🪨', '🗻', '🗻', '🗻', '🗻', '🌾', '🌾', '🌾', '🌾', '🪨', '🪨', '🌾', '🌾', '🐊', '🐊', '🐊', '🐊', '🐊', '🐊'],\n",
    "['🌾', '🪨', '🪨', '🌾', '🌾', '🪨', '🪨', '🪨', '🪨', '🪨', '🌾', '🌾', '🌾', '🌾', '🌾', '🪨', '🪨', '🗻', '🗻', '🪨', '🪨', '🌾', '🐊', '🐊', '🐊', '🐊', '🐊'],\n",
    "['🪨', '🗻', '🪨', '🪨', '🪨', '🪨', '🌾', '🌾', '🌾', '🌾', '🌾', '🗻', '🗻', '🗻', '🪨', '🪨', '🗻', '🗻', '🌾', '🗻', '🗻', '🪨', '🪨', '🐊', '🐊', '🐊', '🐊'],\n",
    "['🪨', '🗻', '🗻', '🗻', '🪨', '🌾', '🌾', '🌾', '🌾', '🌾', '🪨', '🪨', '🗻', '🗻', '🗻', '🗻', '🪨', '🪨', '🪨', '🪨', '🗻', '🗻', '🗻', '🐊', '🐊', '🐊', '🐊'],\n",
    "['🪨', '🪨', '🌾', '🌾', '🌾', '🌾', '🌾', '🌾', '🌾', '🌾', '🌾', '🌾', '🪨', '🪨', '🪨', '🪨', '🪨', '🌾', '🌾', '🌾', '🌾', '🪨', '🪨', '🪨', '🌾', '🌾', '🌾']\n",
    "]"
   ]
  },
  {
   "cell_type": "markdown",
   "metadata": {},
   "source": [
    "## Warning\n",
    "\n",
    "One implication of this representation is that (x, y) is world[ y][ x] so that (3, 2) is world[ 2][ 3] and world[ 7][ 9] is (9, 7). Yes, there are many ways to do this. I picked this representation because when you look at it, it *looks* like a regular x, y cartesian grid and it's easy to print out.\n",
    "\n",
    "It is often easier to begin your programming by operating on test input that has an obvious solution. If we had a small 7x7 world with the following characteristics:"
   ]
  },
  {
   "cell_type": "code",
   "execution_count": 2,
   "metadata": {},
   "outputs": [],
   "source": [
    "small_world = [\n",
    "    ['🌾', '🌲', '🌲', '🌲', '🌲', '🌲', '🌲'],\n",
    "    ['🌾', '🌲', '🌲', '🌲', '🌲', '🌲', '🌲'],\n",
    "    ['🌾', '🌲', '🌲', '🌲', '🌲', '🌲', '🌲'],\n",
    "    ['🌾', '🌾', '🌾', '🌾', '🌾', '🌾', '🌾'],\n",
    "    ['🌲', '🌲', '🌲', '🌲', '🌲', '🌲', '🌾'],\n",
    "    ['🌲', '🌲', '🌲', '🌲', '🌲', '🌲', '🌾'],\n",
    "    ['🌲', '🌲', '🌲', '🌲', '🌲', '🌲', '🌾']\n",
    "]"
   ]
  },
  {
   "cell_type": "markdown",
   "metadata": {},
   "source": [
    "**what do you expect the policy would be?** Think about it for a bit. This will help you with your programming and debugging."
   ]
  },
  {
   "cell_type": "markdown",
   "metadata": {},
   "source": [
    "## States and State Representation\n",
    "\n",
    "The canonical pieces of a State Space Search problem are the States, Actions, Transitions and Costs. \n",
    "\n",
    "We'll start with the state representation. For the navigation problem, a state is the current position of the agent, `(x,y)`. The entire set of possible states is implicitly represented by the world map."
   ]
  },
  {
   "cell_type": "markdown",
   "metadata": {},
   "source": [
    "## Actions and Transitions\n",
    "\n",
    "Next we need to specify the actions. In general, there are a number of different possible action sets in such a world. The agent might be constrained to move north/south/east/west or diagonal moves might be permitted as well (or really anything). When combined with the set of States, the *permissible* actions forms the Transition set.\n",
    "\n",
    "Rather than enumerate the Transition set directly, for this problem it's easier to calculate the available actions and transitions on the fly. This can be done by specifying a *movement model* as offsets to the current state and then checking to see which of the potential successor states are actually permitted. This can be done in the successor function mentioned in the pseudocode.\n",
    "\n",
    "One such example of a movement model is shown below."
   ]
  },
  {
   "cell_type": "code",
   "execution_count": 3,
   "metadata": {},
   "outputs": [],
   "source": [
    "MOVES = [(0,-1), (1,0), (0,1), (-1,0)]"
   ]
  },
  {
   "cell_type": "markdown",
   "metadata": {},
   "source": [
    "## Costs\n",
    "\n",
    "We can encode the costs described above in a `Dict`:"
   ]
  },
  {
   "cell_type": "code",
   "execution_count": 4,
   "metadata": {},
   "outputs": [],
   "source": [
    "COSTS = { '🌾': 1, '🌲': 3, '🪨': 5, '🐊': 7,' ':0}"
   ]
  },
  {
   "cell_type": "markdown",
   "metadata": {},
   "source": [
    "## Specification\n",
    "\n",
    "You will implement a function called `a_star_search` that takes the parameters and returns the value as specified below. The return value is going to look like this:\n",
    "\n",
    "`[(0,1), (0,1), (0,1), (1,0), (1,0), (1,0), (1,0), (1,0), (1,0), (0,1), (0,1), (0,1)]`\n",
    "\n",
    "You should also implement a function called `pretty_print_path`. \n",
    "The `pretty_print_path` function prints an ASCII representation of the path generated by the `a_star_search` on top of the terrain map. \n",
    "For example, for the test world, it would print this:\n",
    "\n",
    "```\n",
    "⏬🌲🌲🌲🌲🌲🌲\n",
    "⏬🌲🌲🌲🌲🌲🌲\n",
    "⏬🌲🌲🌲🌲🌲🌲\n",
    "⏩⏩⏩⏩⏩⏩⏬\n",
    "🌲🌲🌲🌲🌲🌲⏬\n",
    "🌲🌲🌲🌲🌲🌲⏬\n",
    "🌲🌲🌲🌲🌲🌲🎁\n",
    "```\n",
    "\n",
    "using ⏩,⏪,⏫ ⏬ to represent actions and `🎁` to represent the goal. (Note the format of the output...there are no spaces, commas, or extraneous characters). You are printing the path over the terrain.\n",
    "This is an impure function (because it has side effects, the printing, before returning anything).\n",
    "\n",
    "Note that in Python:\n",
    "```\n",
    "> a = [\"*\", \"-\", \"*\"]\n",
    "> \"\".join(a)\n",
    "*-*\n",
    "```\n",
    "Do not print raw data structures; do not insert unneeded/requested spaces!\n",
    "\n",
    "### Additional comments\n",
    "\n",
    "As Python is an interpreted language, you're going to need to insert all of your functions *before* the actual `a_star_search` function implementation. \n",
    "Do not make unwarranted assumptions (for example, do not assume that the start is always (0, 0).\n",
    "Do not refer to global variables, pass them as parameters (functional programming).\n",
    "\n",
    "Simple and correct is better than inefficient and incorrect, or worse, incomplete.\n",
    "For example, you can use a simple List, with some helper functions, as a Stack or a Queue or a Priority Queue.\n",
    "Avoid the Python implementations of HeapQ, PriorityQueue implementation unless you are very sure about what you're doing as they require *immutable* keys."
   ]
  },
  {
   "cell_type": "code",
   "execution_count": 5,
   "metadata": {},
   "outputs": [],
   "source": [
    "from typing import List, Tuple, Dict, Callable\n",
    "from copy import deepcopy\n",
    "from collections import OrderedDict"
   ]
  },
  {
   "cell_type": "markdown",
   "metadata": {},
   "source": [
    "*add as many markdown and code cells here as you need for helper functions. We have added `heuristic` for you*"
   ]
  },
  {
   "cell_type": "markdown",
   "metadata": {},
   "source": [
    "<a id=\"heuristic\"></a>\n",
    "## heuristic\n",
    "We know that in order for the heuristic to be valid, it must be both admissible and consistent. This indicates that the heuristic should never overestimate the cost to reach a goal (admissible) and the heuristic for a current state should be less than or equal to the cost of moving to the next state plus the next states' heuristic.\n",
    "For the estimated cost we will use the manhattan distance which we implement taking into account the different between the x and y coordinates with respect to the goal. \n",
    "The function itself receives as parameters the world, location to be evaluated, the goal state, and the list of costs. It returns the integer value for the heuristic. "
   ]
  },
  {
   "cell_type": "code",
   "execution_count": 6,
   "metadata": {},
   "outputs": [],
   "source": [
    "def heuristic(world:list, location:tuple, goal:tuple, costs:list): # you can add formal parameters\n",
    "    \n",
    "    # get cost from dictionary\n",
    "    cost = costs[world[location[0]][location[1]]]\n",
    "    \n",
    "    # Implement manhatta distance\n",
    "    x_distance = abs(goal[1] - location[1])\n",
    "    y_distance = abs(goal[0] - location[0])\n",
    "    manhattan_distance = x_distance + y_distance\n",
    "    \n",
    "    heuristic = manhattan_distance + cost\n",
    "    \n",
    "    return heuristic"
   ]
  },
  {
   "cell_type": "code",
   "execution_count": 7,
   "metadata": {},
   "outputs": [],
   "source": [
    "# assertions/unit tests\n",
    "assert heuristic(small_world, (3,3), (6,6), COSTS) == 7 #Manhattan= 6-3+6-3, cost = 1\n",
    "assert heuristic(small_world, (0,0), (6,6), COSTS) == 13 #Manhattan = 6+6, cost= 1\n",
    "assert heuristic(small_world, (1,1), (6,6), COSTS) == 13 #Manhattan= 5+5, cost = 3"
   ]
  },
  {
   "cell_type": "markdown",
   "metadata": {},
   "source": [
    "<a id=\"a_star_search\"></a>\n",
    "## a_star_search\n",
    "\n",
    "*add documentation/description of the algorithm here; connect it to the theory!*\n",
    "\n",
    "* **world** List[List[str]]: the actual context for the navigation problem.\n",
    "* **start** Tuple[int, int]: the starting location of the bot, `(x, y)`.\n",
    "* **goal** Tuple[int, int]: the desired goal position for the bot, `(x, y)`.\n",
    "* **costs** Dict[str, int]: is a `Dict` of costs for each type of terrain in **world**.\n",
    "* **moves** List[Tuple[int, int]]: the legal movement model expressed in offsets in **world**.\n",
    "* **heuristic** Callable: is a heuristic function, $h(n)$.\n",
    "\n",
    "\n",
    "**returns** List[Tuple[int, int]]: the offsets needed to get from start state to the goal as a `List`.\n",
    "\n",
    "This functions takes as parameters the world, start state, goal state, the dictionary of costs, the moves available, and the heuristic function as previously defined. There is an important caveat and distinction to be made with regards to the actual implementation. Provided that two subsequent states have the same heuristic value, the direction of the search algorithm will depend on the order of the moves provided. Because the move have a significant impact, a brief modification can be implemented from those provided. \n"
   ]
  },
  {
   "cell_type": "code",
   "execution_count": 8,
   "metadata": {},
   "outputs": [],
   "source": [
    "def a_star_search( world: list, start: tuple, goal: tuple, costs: dict, moves: list, heuristic) -> list:\n",
    "    ### YOUR SOLUTION HERE ###\n",
    "    \n",
    "    # place initial state on frontier\n",
    "    frontier = [start]\n",
    "    # initialize explored list\n",
    "    explored = []\n",
    "    \n",
    "       \n",
    "    def add_succesors(world, current_state, moves):\n",
    "        successors = list()\n",
    "        for i in moves:\n",
    "            provisional_state = (current_state[0] + i[1],current_state[1] + i[0])\n",
    "            if provisional_state[0] < 0 or provisional_state[1] < 0:\n",
    "                continue            \n",
    "            try:\n",
    "                world[provisional_state[0]][provisional_state[1]]\n",
    "                if world[provisional_state[0]][provisional_state[1]]=='🗻':\n",
    "                    continue   \n",
    "                successors.append(provisional_state)\n",
    "            except:\n",
    "                continue\n",
    "        return successors               \n",
    "    \n",
    "    # while frontier is not empty\n",
    "    while len(frontier)!=0:\n",
    "        # current state := next state on frontier\n",
    "        current_state = frontier.pop()\n",
    "        # return path(current_state) if is-terminal(current_state)\n",
    "        if current_state == goal:\n",
    "            explored.append(current_state)\n",
    "            return explored\n",
    "        # children := successors(current_state)\n",
    "        children = add_succesors(world, current_state, moves)\n",
    "        # for each child in children\n",
    "        provisional_frontier = {}\n",
    "        for child in children:\n",
    "            if child in explored:\n",
    "                continue\n",
    "            else:\n",
    "                provisional_frontier[heuristic(world, child, goal, costs)] = child\n",
    "        \n",
    "        list_heuristics = [i for i in provisional_frontier.keys()]\n",
    "        list_heuristics.sort()\n",
    "        \n",
    "        for i in provisional_frontier:            \n",
    "            frontier.append(provisional_frontier[list_heuristics[0]])\n",
    "                \n",
    "        # add add current-state to explored\n",
    "        explored.append(current_state)\n",
    "    \n",
    "    ### YOUR SOLUTION HERE ###\n",
    "    return explored # change to return the real answer"
   ]
  },
  {
   "cell_type": "markdown",
   "metadata": {},
   "source": [
    "## pretty_print_path\n",
    "\n",
    "*write your documentation here*\n",
    "\n",
    "* **world** List[List[str]]: the world (terrain map) for the path to be printed upon.\n",
    "* **path** List[Tuple[int, int]]: the path from start to goal, in offsets.\n",
    "* **start** Tuple[int, int]: the starting location for the path.\n",
    "* **goal** Tuple[int, int]: the goal location for the path.\n",
    "* **costs** Dict[str, int]: the costs for each action.\n",
    "\n",
    "**returns** int - The path cost.\n",
    "\n",
    "In this function we traverse through the rows and generate strings which are printed to the command. In order to compute the aggregate cost we traverse through the path and aggregate the individual costs into a singular integer value. "
   ]
  },
  {
   "cell_type": "markdown",
   "metadata": {},
   "source": [
    "\n",
    "<div style=\"background: lemonchiffon; margin:20px; padding: 20px;\">\n",
    "    <strong>Important</strong>\n",
    "    <p>\n",
    "        Does your output of pretty_print_path really look like the specification? Go check again.\n",
    "    </p>\n",
    "</div>"
   ]
  },
  {
   "cell_type": "code",
   "execution_count": 9,
   "metadata": {},
   "outputs": [],
   "source": [
    "def pretty_print_path( world: list, path: list, start: tuple, goal: tuple, costs: dict) -> int:\n",
    "    \n",
    "    def arrow_path(path):\n",
    "        path_dict = {}\n",
    "        # MOVES = [(0,-1), (1,0), (0,1), (-1,0)]\n",
    "        # ⏩,⏪,⏫,⏬\n",
    "        for i in range(len(path[1:])):\n",
    "            if path[i+1] == (path[i][0], path[i][1]-1):\n",
    "                path_dict[path[i]]='⏪'\n",
    "            elif path[i+1] == (path[i][0]+1, path[i][1]):\n",
    "                path_dict[path[i]]='⏬'\n",
    "            elif path[i+1] == (path[i][0]-1, path[i][1]):\n",
    "                path_dict[path[i]]='⏫'\n",
    "            else: \n",
    "                path_dict[path[i]]='⏩'\n",
    "        return path_dict\n",
    "\n",
    "    path_dict = arrow_path(path)\n",
    "    \n",
    "    for i in range(len(world)):\n",
    "        row = ''\n",
    "        for j in range(len(world[i])):\n",
    "            if (i,j) == goal:\n",
    "                row += '🎁'\n",
    "            elif (i,j) in path:\n",
    "                row += path_dict[(i,j)]\n",
    "            else:\n",
    "                row += world[i][j]\n",
    "        print(row)\n",
    "        \n",
    "    cost = 0\n",
    "    for i,j in path:\n",
    "        cost += costs[world[i][j]]\n",
    "            \n",
    "    return cost # replace with the real value!"
   ]
  },
  {
   "cell_type": "markdown",
   "metadata": {},
   "source": [
    "## Problems"
   ]
  },
  {
   "cell_type": "markdown",
   "metadata": {},
   "source": [
    "## Problem 1. \n",
    "\n",
    "Execute `a_star_search` and `pretty_print_path` for the `small_world`.\n",
    "\n",
    "If you change any values while developing your code, make sure you change them back! (Better yet, don't do it. Copy them elsewhere and change the values, then delete those experiments)."
   ]
  },
  {
   "cell_type": "code",
   "execution_count": 10,
   "metadata": {},
   "outputs": [
    {
     "name": "stdout",
     "output_type": "stream",
     "text": [
      "⏬🌲🌲🌲🌲🌲🌲\n",
      "⏬🌲🌲🌲🌲🌲🌲\n",
      "⏬🌲🌲🌲🌲🌲🌲\n",
      "⏩⏩⏩⏩⏩⏩⏬\n",
      "🌲🌲🌲🌲🌲🌲⏬\n",
      "🌲🌲🌲🌲🌲🌲⏬\n",
      "🌲🌲🌲🌲🌲🌲🎁\n",
      "total path cost: 13\n",
      "[(0, 0), (1, 0), (2, 0), (3, 0), (3, 1), (3, 2), (3, 3), (3, 4), (3, 5), (3, 6), (4, 6), (5, 6), (6, 6)]\n"
     ]
    }
   ],
   "source": [
    "small_start = (0, 0)\n",
    "small_goal = (len(small_world[0]) - 1, len(small_world) - 1)\n",
    "small_path = a_star_search(small_world, small_start, small_goal, COSTS, MOVES, heuristic)\n",
    "small_path_cost = pretty_print_path(small_world, small_path, small_start, small_goal, COSTS)\n",
    "print(f\"total path cost: {small_path_cost}\")\n",
    "print(small_path)"
   ]
  },
  {
   "cell_type": "markdown",
   "metadata": {},
   "source": [
    "## Problem 2\n",
    "\n",
    "Execute `a_star_search` and `print_path` for the `full_world`"
   ]
  },
  {
   "cell_type": "code",
   "execution_count": 11,
   "metadata": {},
   "outputs": [
    {
     "name": "stdout",
     "output_type": "stream",
     "text": [
      "⏬🌾🌾🌾🌾🌲🌲🌲🌲🌲🌲🌲🌲🌲🌲🌾🌾🌾🌾🌾🌾🌾🌾🌾🌾🌾🌾\n",
      "⏬🌾🌾🌾🌾🌾🌾🌲🌲🌲🌲🌲🌲🌲🌲🌲🌾🌾🗻🗻🗻🗻🗻🗻🗻🌾🌾\n",
      "⏬🌾🌾🌾🗻🗻🌲🌲🌲🌲🌲🌲🌲🌲🌲🌲🌲🗻🗻🗻🪨🪨🪨🗻🗻🪨🪨\n",
      "⏬🌾🌾🌾🪨🗻🗻🗻🌲🌲🌲🌲🐊🐊🌲🌲🌲🌲🌲🌾🌾🪨🪨🗻🗻🪨🌾\n",
      "⏬🌾🌾🪨🪨🗻🗻🌲🌲🌾🌾🐊🐊🐊🐊🌲🌲🌲🌾🌾🌾🪨🗻🗻🗻🪨🌾\n",
      "⏬🪨🪨🪨🗻🗻🪨🪨🌾🌾🌾🌾🐊🐊🐊🐊🐊🌾🌾🌾🌾🌾🪨🗻🪨🌾🌾\n",
      "⏬🪨🪨🗻🗻🪨🪨🌾🌾🌾🌾🪨🗻🗻🗻🐊🐊🐊🌾🌾🌾🌾🌾🪨🌾🌾🌾\n",
      "⏬🌾🪨🪨🪨🪨🪨🌾🌾🌾🌾🌾🌾🪨🗻🗻🗻🐊🐊🐊🌾🌾🪨🪨🪨🌾🌾\n",
      "⏬🌾🌾🪨🪨🪨🌾🌾🌾🌾🌾🌾🪨🪨🗻🗻🌾🐊🐊🌾🌾🪨🪨🪨🌾🌾🌾\n",
      "⏬🌾🌾🐊🐊🐊🌾🌾🪨🪨🪨🗻🗻🗻🗻🌾🌾🌾🐊🌾🪨🪨🪨🌾🌾🌾🌾\n",
      "⏬🌾🐊🐊🐊🐊🐊🌾🪨🪨🗻🗻🗻🪨🌾🌾🌾🌾🌾🪨🗻🗻🗻🪨🌾🌾🌾\n",
      "⏬🐊🐊🐊🐊🐊🌾🌾🪨🗻🗻🪨🌾🌾🌾🌾🐊🐊🌾🌾🪨🗻🗻🪨🌾🌾🌾\n",
      "⏬🐊🐊🐊🐊🌾🌾🪨🪨🗻🗻🪨🌾🐊🐊🐊🐊🌾🌾🌾🪨🗻🪨🌾🌾🌾🌾\n",
      "⏬🐊🐊🐊🐊🌾🌾🪨🌲🌲🪨🌾🌾🌾🌾🐊🐊🐊🐊🌾🌾🪨🌾🌾🌾🌾🌾\n",
      "⏬🌾🌾🌾🗻🌾🌾🌲🌲🌲🌲🪨🪨🪨🪨🌾🐊🐊🐊🌾🌾🪨🗻🪨🌾🌾🌾\n",
      "⏬🌾🌾🗻🗻🗻🌲🌲🌲🌲🌲🌲🗻🗻🗻🪨🪨🌾🐊🌾🪨🗻🗻🪨🌾🌾🌾\n",
      "⏬🌾🗻🗻🌲🌲🌲🌲🌲🌲🌲🌲🌲🌲🗻🗻🗻🌾🌾🗻🗻🗻🌾🌾🌾🌾🌾\n",
      "⏬🌾🌾🗻🗻🌲🌲🌲🌲🌲🌲🌲🌲🌲🌲🌲🗻🗻🗻🗻🌾🌾🌾🌾🌾🌾🌾\n",
      "⏬🌾🌾🗻🗻🗻🌲🌲🌲🌲🌲🌲🌲🌲🌾🌾🌾🪨🪨🌾🌾🌾🌾🌾🌾🌾🌾\n",
      "⏬🌾🌾🌾🗻🗻🗻🌲🌲🌲🌲🌲🌲🌾🌾🌾🌾🌾🌾🌾🌾🌾🌾🐊🐊🐊🐊\n",
      "⏬🌾🪨🪨🪨🪨🗻🗻🌲🌲🌲🌲🌲🌾🗻🌾🌾🌾🌾🌾🐊🐊🐊🐊🐊🐊🐊\n",
      "⏬🌾🌾🌾🪨🪨🪨🗻🗻🗻🌲🌲🗻🗻🌾🌾🌾🌾🌾🌾🐊🐊🐊🐊🐊🐊🐊\n",
      "⏬🌾🌾🌾🌾🌾🪨🪨🪨🗻🗻🗻🗻🌾🌾🌾🌾🪨🪨🌾🌾🐊🐊🐊🐊🐊🐊\n",
      "⏬🪨🪨🌾🌾🪨🪨🪨🪨🪨🌾🌾🌾🌾🌾🪨🪨🗻🗻🪨🪨🌾🐊🐊🐊🐊🐊\n",
      "⏬🗻🪨🪨🪨🪨🌾🌾🌾🌾🌾🗻🗻🗻🪨🪨🗻🗻🌾🗻🗻🪨🪨🐊🐊🐊🐊\n",
      "⏬🗻🗻🗻🪨🌾🌾🌾🌾🌾🪨🪨🗻🗻🗻🗻🪨🪨🪨🪨🗻🗻🗻🐊🐊🐊🐊\n",
      "⏩⏩⏩⏩⏩⏩⏩⏩⏩⏩⏩⏩⏩⏩⏩⏩⏩⏩⏩⏩⏩⏩⏩⏩⏩⏩🎁\n",
      "total path cost: 107\n",
      "[(0, 0), (1, 0), (2, 0), (3, 0), (4, 0), (5, 0), (6, 0), (7, 0), (8, 0), (9, 0), (10, 0), (11, 0), (12, 0), (13, 0), (14, 0), (15, 0), (16, 0), (17, 0), (18, 0), (19, 0), (20, 0), (21, 0), (22, 0), (23, 0), (24, 0), (25, 0), (26, 0), (26, 1), (26, 2), (26, 3), (26, 4), (26, 5), (26, 6), (26, 7), (26, 8), (26, 9), (26, 10), (26, 11), (26, 12), (26, 13), (26, 14), (26, 15), (26, 16), (26, 17), (26, 18), (26, 19), (26, 20), (26, 21), (26, 22), (26, 23), (26, 24), (26, 25), (26, 26)]\n"
     ]
    }
   ],
   "source": [
    "full_start = (0, 0)\n",
    "full_goal = (len(full_world[0]) - 1, len(full_world) - 1)\n",
    "full_path = a_star_search(full_world, full_start, full_goal, COSTS, MOVES, heuristic)\n",
    "full_path_cost = pretty_print_path(full_world, full_path, full_start, full_goal, COSTS)\n",
    "print(f\"total path cost: {full_path_cost}\")\n",
    "print(full_path)"
   ]
  },
  {
   "cell_type": "markdown",
   "metadata": {},
   "source": [
    "## Comments\n",
    "\n",
    "I think that I can have a better implementation of the priority queue. The limitation of not using OOP left me somewhat short handed when trying to implement it. I believe my problem is related to tie breaking. "
   ]
  },
  {
   "cell_type": "markdown",
   "metadata": {},
   "source": [
    "## To think about for future assignments..."
   ]
  },
  {
   "cell_type": "markdown",
   "metadata": {},
   "source": [
    "This first assignment may not have been difficult for you if you've encountered A* search before in your Algorithms course. In preparation for future assignments that build on State Space Search, you can think about the following or even do an implementation if you like. You should **not** submit it as part of this assignment.\n",
    "\n",
    "In several future assignments, we will have a need for a \"plain ol'\" Depth First Search algorithm.\n",
    "\n",
    "1. Implement DFS Search to solve the problem presented in this programming assignment. Try to be as general as possible (don't hard code anything you can pass as a formal parameter).\n",
    "2. Can you implement DFS Search as a higher order function and supply your own `is_goal`, `successors`, and `path` functions? How do you handle *state*?\n",
    "3. Can you write a version of DFS that returns all the solutions?\n",
    "\n",
    "In one future assignment a Breadth First Search algorithm will be very handy. Can you implement a search algorithm that changes whether it uses DFS or BFS by parameterization?"
   ]
  },
  {
   "cell_type": "markdown",
   "metadata": {},
   "source": [
    "## Before You Submit...\n",
    "\n",
    "1. Did you provide output exactly as requested?\n",
    "2. Did you follow the Programming Requirements on Canvas?\n",
    "\n",
    "Do not submit any other files."
   ]
  }
 ],
 "metadata": {
  "kernelspec": {
   "display_name": "Python 3 (ipykernel)",
   "language": "python",
   "name": "python3"
  },
  "language_info": {
   "codemirror_mode": {
    "name": "ipython",
    "version": 3
   },
   "file_extension": ".py",
   "mimetype": "text/x-python",
   "name": "python",
   "nbconvert_exporter": "python",
   "pygments_lexer": "ipython3",
   "version": "3.9.7"
  },
  "toc": {
   "colors": {
    "hover_highlight": "#DAA520",
    "navigate_num": "#000000",
    "navigate_text": "#333333",
    "running_highlight": "#FF0000",
    "selected_highlight": "#FFD700",
    "sidebar_border": "#EEEEEE",
    "wrapper_background": "#FFFFFF"
   },
   "moveMenuLeft": true,
   "nav_menu": {
    "height": "192px",
    "width": "252px"
   },
   "navigate_menu": true,
   "number_sections": true,
   "sideBar": true,
   "threshold": 4,
   "toc_cell": false,
   "toc_section_display": "block",
   "toc_window_display": false,
   "widenNotebook": false
  }
 },
 "nbformat": 4,
 "nbformat_minor": 4
}
