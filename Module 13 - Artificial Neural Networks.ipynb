{
 "cells": [
  {
   "cell_type": "code",
   "execution_count": 1,
   "metadata": {},
   "outputs": [],
   "source": [
    "%matplotlib inline"
   ]
  },
  {
   "cell_type": "markdown",
   "metadata": {},
   "source": [
    "# Module 13 - Programming Assignment\n",
    "\n",
    "## Directions\n",
    "\n",
    "1. Change the name of this file to be your JHED id as in `jsmith299.ipynb`. Because sure you use your JHED ID (it's made out of your name and not your student id which is just letters and numbers).\n",
    "2. Make sure the notebook you submit is cleanly and fully executed. I do not grade unexecuted notebooks.\n",
    "3. Submit your notebook back in Blackboard where you downloaded this file.\n",
    "\n",
    "*Provide the output **exactly** as requested*"
   ]
  },
  {
   "cell_type": "markdown",
   "metadata": {},
   "source": [
    "# The Problem\n",
    "\n",
    "When we last left our agent in Module 4, it was wandering around a world filled with plains, forests, swamps, hills and mountains. This presupposes a map with known terrain:\n",
    "\n",
    "```\n",
    "......\n",
    "...**.\n",
    "...***\n",
    "..^...\n",
    "..~^..\n",
    "```\n",
    "\n",
    "but what if all we know is that we have some area of interest, that we've reduced to a GPS grid:\n",
    "\n",
    "```\n",
    "??????\n",
    "??????\n",
    "??????\n",
    "??????\n",
    "??????\n",
    "```\n",
    "\n",
    "and the agent has to determine what kind of terrain is to the left, front and right of it?\n",
    "\n",
    "Assuming the agent has a very simple visual sensor that constructs a 4x4 grayscale image for each of the three directions, it might it could see something like this:"
   ]
  },
  {
   "cell_type": "code",
   "execution_count": 2,
   "metadata": {},
   "outputs": [
    {
     "data": {
      "image/png": "[encoded data removed]",
      "text/plain": [
       "<Figure size 1440x432 with 3 Axes>"
      ]
     },
     "metadata": {
      "needs_background": "light"
     },
     "output_type": "display_data"
    }
   ],
   "source": [
    "import numpy as np\n",
    "import matplotlib.pyplot as plt\n",
    "import random\n",
    "\n",
    "plain =  [0.0, 0.0, 0.0, 0.0,0.0, 0.0, 0.0, 0.0,0.0, 0.0, 0.0, 0.0,1.0, 1.0, 1.0, 1.0]\n",
    "forest = [0.0, 1.0, 0.0, 0.0,1.0, 1.0, 1.0, 0.0,1.0, 1.0, 1.0, 1.0,0.0, 1.0, 0.0, 0.0]\n",
    "hills =  [0.0, 0.0, 0.0, 0.0,0.0, 0.0, 1.0, 0.0,0.0, 1.0, 1.0, 1.0,1.0, 1.0, 1.0, 1.0]\n",
    "swamp =  [0.0, 0.0, 0.0, 0.0,0.0, 0.0, 0.0, 0.0,1.0, 0.0, 1.0, 0.0,1.0, 1.0, 1.0, 1.0]\n",
    "\n",
    "figure = plt.figure(figsize=(20,6))\n",
    "\n",
    "axes = figure.add_subplot(1, 3, 1)\n",
    "pixels = np.array([255 - p * 255 for p in plain], dtype='uint8')\n",
    "pixels = pixels.reshape((4, 4))\n",
    "axes.set_title( \"Left Camera\")\n",
    "axes.imshow(pixels, cmap='gray')\n",
    "\n",
    "axes = figure.add_subplot(1, 3, 2)\n",
    "pixels = np.array([255 - p * 255 for p in forest], dtype='uint8')\n",
    "pixels = pixels.reshape((4, 4))\n",
    "axes.set_title( \"Front Camera\")\n",
    "axes.imshow(pixels, cmap='gray')\n",
    "\n",
    "axes = figure.add_subplot(1, 3, 3)\n",
    "pixels = np.array([255 - p * 255 for p in hills], dtype='uint8')\n",
    "pixels = pixels.reshape((4, 4))\n",
    "axes.set_title( \"Right Camera\")\n",
    "axes.imshow(pixels, cmap='gray')\n",
    "\n",
    "plt.show()\n",
    "plt.close()"
   ]
  },
  {
   "cell_type": "markdown",
   "metadata": {},
   "source": [
    "which would be plains, forest and hills respectively.\n"
   ]
  },
  {
   "cell_type": "markdown",
   "metadata": {},
   "source": [
    "## The Assignment\n",
    "\n",
    "In Assignment 12, we applied a logistic regression to determine if something was \"hills\" or \"not hills\". For this programming assignment your task is to write an artificial neural network that determines what kind of terrain it is. This is a multi-class problem.\n",
    "\n",
    "For a starting point, you can refer to Pseudocode and the Self-Check."
   ]
  },
  {
   "cell_type": "markdown",
   "metadata": {},
   "source": [
    "## Data\n",
    "\n",
    "As before, we have clean examples of the different types of terrain but based on the location, the registration can be a bit off for some of the types and the visual sensor is often blurry.\n",
    "\n",
    "Here are the clean examples with different registrations: "
   ]
  },
  {
   "cell_type": "code",
   "execution_count": 3,
   "metadata": {},
   "outputs": [],
   "source": [
    "clean_data = {\n",
    "    \"plains\": [\n",
    "        [0.0, 0.0, 0.0, 0.0, 0.0, 0.0, 0.0, 0.0, 0.0, 0.0, 0.0, 0.0, 1.0, 1.0, 1.0, 1.0, \"plains\"]\n",
    "    ],\n",
    "    \"forest\": [\n",
    "        [0.0, 1.0, 0.0, 0.0, 1.0, 1.0, 1.0, 0.0, 1.0, 1.0, 1.0, 1.0, 0.0, 1.0, 0.0, 0.0, \"forest\"],\n",
    "        [0.0, 0.0, 1.0, 0.0, 0.0, 1.0, 1.0, 1.0, 1.0, 1.0, 1.0, 1.0, 0.0, 0.0, 1.0, 0.0, \"forest\"],\n",
    "        [1.0, 0.0, 0.0, 0.0, 1.0, 1.0, 0.0, 0.0, 1.0, 1.0, 1.0, 0.0, 1.0, 0.0, 0.0, 0.0, \"forest\"],\n",
    "        [0.0, 0.0, 0.0, 1.0, 0.0, 0.0, 1.0, 1.0, 0.0, 1.0, 1.0, 1.0, 0.0, 0.0, 0.0, 1.0, \"forest\"]\n",
    "    ],\n",
    "    \"hills\": [\n",
    "        [0.0, 0.0, 0.0, 0.0, 0.0, 0.0, 1.0, 0.0, 0.0, 1.0, 1.0, 1.0, 1.0, 1.0, 1.0, 1.0, \"hills\"],\n",
    "        [0.0, 0.0, 0.0, 0.0, 0.0, 1.0, 0.0, 0.0, 1.0, 1.0, 1.0, 0.0, 1.0, 1.0, 1.0, 1.0, \"hills\"],\n",
    "        [0.0, 0.0, 0.0, 0.0, 1.0, 0.0, 0.0, 0.0, 1.0, 1.0, 0.0, 0.0, 1.0, 1.0, 1.0, 0.0, \"hills\"],\n",
    "        [0.0, 0.0, 0.0, 0.0, 0.0, 0.0, 0.0, 1.0, 0.0, 0.0, 1.0, 1.0, 0.0, 1.0, 1.0, 1.0, \"hills\"]\n",
    "    ],\n",
    "    \"swamp\": [\n",
    "        [0.0, 0.0, 0.0, 0.0, 0.0, 0.0, 0.0, 0.0, 1.0, 0.0, 1.0, 0.0, 1.0, 1.0, 1.0, 1.0, \"swamp\"],\n",
    "        [0.0, 0.0, 0.0, 0.0, 0.0, 0.0, 0.0, 0.0, 0.0, 1.0, 0.0, 1.0, 1.0, 1.0, 1.0, 1.0, \"swamp\"]        \n",
    "    ]\n",
    "}"
   ]
  },
  {
   "cell_type": "markdown",
   "metadata": {},
   "source": [
    "Let's create a function that allows us to view any of these:"
   ]
  },
  {
   "cell_type": "code",
   "execution_count": 4,
   "metadata": {},
   "outputs": [],
   "source": [
    "def view_sensor_image( data):\n",
    "    figure = plt.figure(figsize=(4,4))\n",
    "    axes = figure.add_subplot(1, 1, 1)\n",
    "    pixels = np.array([255 - p * 255 for p in data[:-1]], dtype='uint8')\n",
    "    pixels = pixels.reshape((4, 4))\n",
    "    axes.set_title( \"Left Camera:\" + data[-1])\n",
    "    axes.imshow(pixels, cmap='gray')\n",
    "    plt.show()\n",
    "    plt.close()"
   ]
  },
  {
   "cell_type": "markdown",
   "metadata": {},
   "source": [
    "\"I think that I shall never see a thing so lovely as a tree.\""
   ]
  },
  {
   "cell_type": "code",
   "execution_count": 5,
   "metadata": {},
   "outputs": [
    {
     "data": {
      "image/png": "[encoded data removed]",
      "text/plain": [
       "<Figure size 288x288 with 1 Axes>"
      ]
     },
     "metadata": {
      "needs_background": "light"
     },
     "output_type": "display_data"
    }
   ],
   "source": [
    "view_sensor_image( clean_data[ \"forest\"][0])"
   ]
  },
  {
   "cell_type": "code",
   "execution_count": 6,
   "metadata": {},
   "outputs": [
    {
     "data": {
      "image/png": "[encoded data removed]",
      "text/plain": [
       "<Figure size 288x288 with 1 Axes>"
      ]
     },
     "metadata": {
      "needs_background": "light"
     },
     "output_type": "display_data"
    }
   ],
   "source": [
    "view_sensor_image( clean_data[\"swamp\"][0])"
   ]
  },
  {
   "cell_type": "markdown",
   "metadata": {},
   "source": [
    "The data that comes in, however, is noisy. The values are never exactly 0 and 1. In order to mimic this we need a `blur` function.\n",
    "\n",
    "We will assume that noise is normally distributed. For values that should be 0, the noisy values are distributed $N(0.10, 0.05)$. For values should be 1, the noisy values are distributed $N(0.9, 0.10)$."
   ]
  },
  {
   "cell_type": "code",
   "execution_count": 7,
   "metadata": {},
   "outputs": [],
   "source": [
    "def blur( data):\n",
    "    def apply_noise( value):\n",
    "        if value < 0.5:\n",
    "            v = random.gauss( 0.10, 0.05)\n",
    "            if v < 0.0:\n",
    "                return 0.0\n",
    "            if v > 0.75:\n",
    "                return 0.75\n",
    "            return v\n",
    "        else:\n",
    "            v = random.gauss( 0.90, 0.10)\n",
    "            if v < 0.25:\n",
    "                return 0.25\n",
    "            if v > 1.00:\n",
    "                return 1.00\n",
    "            return v\n",
    "    noisy_readings = [apply_noise( v) for v in data[0:-1]]\n",
    "    return noisy_readings + [data[-1]]"
   ]
  },
  {
   "cell_type": "markdown",
   "metadata": {},
   "source": [
    "We can see how this affects what the agent *actually* sees."
   ]
  },
  {
   "cell_type": "code",
   "execution_count": 8,
   "metadata": {},
   "outputs": [
    {
     "data": {
      "image/png": "[encoded data removed]",
      "text/plain": [
       "<Figure size 288x288 with 1 Axes>"
      ]
     },
     "metadata": {
      "needs_background": "light"
     },
     "output_type": "display_data"
    }
   ],
   "source": [
    "view_sensor_image( blur( clean_data[\"swamp\"][0]))"
   ]
  },
  {
   "cell_type": "code",
   "execution_count": 9,
   "metadata": {},
   "outputs": [
    {
     "data": {
      "text/plain": [
       "[0.13992819103013804,\n",
       " 0.07882106579017387,\n",
       " 0.16749850638681643,\n",
       " 0.018905550216034753,\n",
       " 0.09675430153256012,\n",
       " 0.22354440573908488,\n",
       " 0.10285456410666129,\n",
       " 0.12756446650264042,\n",
       " 0.9569986605579277,\n",
       " 0.15369567565197748,\n",
       " 0.8066405592640903,\n",
       " 0.16221648409722111,\n",
       " 1.0,\n",
       " 0.6810174324829089,\n",
       " 0.9667032193901781,\n",
       " 1.0,\n",
       " 'swamp']"
      ]
     },
     "execution_count": 9,
     "metadata": {},
     "output_type": "execute_result"
    }
   ],
   "source": [
    "blur( clean_data[\"swamp\"][0])"
   ]
  },
  {
   "cell_type": "markdown",
   "metadata": {},
   "source": [
    "You are going to want to write four (4) functions:\n",
    "\n",
    "1. `generate_data`\n",
    "2. `learn_model`\n",
    "3. `apply_model`\n",
    "\n",
    "### `generate_data`\n",
    "\n",
    "With the clean examples and the `blur` function, we have an unlimited amount of data for training and testing our classifier, an ANN that determines if a sensor image is hills, swamp, forest or plains.\n",
    "\n",
    "In classification, there is a general problem called the \"unbalanced class problem\". In general, we want our training data to have the same number of classes for each class. This means you should probably generate training data with, say, 100 of each type.\n",
    "\n",
    "But what do we do about the class label with the neural network?\n",
    "\n",
    "In this case, we can do \"one hot\". Instead of `generate_data` outputing a single 0 or 1, it should output a vector of 0's and 1's so that $y$ is now a vector as well as $x$. We can use the first position for hill, the second for swamp, the third for forest and the fourth for plains:\n",
    "\n",
    "```\n",
    "[0, 1, 0, 0]\n",
    "```\n",
    "\n",
    "what am I? swamp.\n",
    "\n",
    "Unlike logistic regression, you should set the *biases* inside the neural network (the implict $x_0$ = 1) because there are going to be lot of them (one for every hidden and output node).\n",
    "\n",
    "`generate_data` now only needs to take how many you want of each class:\n",
    "\n",
    "`generate_data( clean_data, 100)`\n",
    "\n",
    "generates 100 hills, 100 swamp, 100 forest, 100 plains and transforms $y$ into the respective \"one hot\" encoding. You can use the code from Module 12 as a starting point.\n",
    "\n",
    "### `learn_model`\n",
    "\n",
    "`learn_model` is the function that takes in training data and actually learns the ANN. If you're up to it, you can implement a vectorized version using Numpy but you might start with the loopy version first.\n",
    "\n",
    "*In the lecture, I mentioned that you usually should mean normalize your data but you don't need to do that in this case because the data is already on the range 0-1.*\n",
    "\n",
    "You should add a parameter to indicate how many nodes the hidden layer should have.\n",
    "\n",
    "When verbose is True, you should print out the error so you can see that it is getting smaller.\n",
    "\n",
    "When developing your algorithm, you need to watch the error so you'll set verbose=True to start. You should print it out every iteration and make sure it is declining. You'll have to experiment with both epsilon and alpha; and it doesn't hurt to make alpha adaptive (if the error increases, make alpha = alpha / 10).\n",
    "\n",
    "When you know that your algorithm is working, change your code so that the error is printed out only every 1,000 iterations (it takes a lot of iterations for this problem to converge, depending on your parameter values--start early).\n",
    "\n",
    "`learn_model` returns the neural network. The hidden layer will be one vector of thetas for each hidden node. And the output layer will have its own thetas, one for each output (4 in this case). Return it as a Tuple: (List of List, List of List).\n",
    "\n",
    "### `apply_model`\n",
    "\n",
    "`apply_model` takes the ANN (the model) and either labeled or unlabeled data. If the data is unlabeled, it will return predictions for each observation as a List of Tuples of the inferred value (0 or 1) and the actual probability (so something like (1, 0.73) or (0, 0.19) so you have [(0, 0.30), (1, 0.98), (0, 0.87), (0, 0.12)]. Note that unlike the logistic regression, the threshold for 1 is not 0.5 but which value is largest (0.98 in this case).\n",
    "\n",
    "If the data is labeled, you will return a List of List of Tuples of the actual value (0 or 1) and the predicted value (0 or 1). For a single data point, you'll have the pairs of actual values [(0, 1), (0, 0), (0, 0), (1, 0)] is a misclassification and [(0, 0), (0, 0), (1, 1), (0, 0)] will be a correct classification. Then you have a List of *those*, one for each observation.\n",
    "\n",
    "###  simple evaluation\n",
    "\n",
    "We have an \"unlimited\" supply of data so we'll just generate a training set and then a test set and see how well our neural network does. Use the error rate (incorrect classifications/total examples) for your evaluation metric. We'll learn about more sophisticated \n",
    "\n",
    "1. generate training set (how many do you think you need?)\n",
    "2. generate test set (how many is a good \"test\" of the network you built?)\n",
    "3. loop over [2, 4, 8] hidden nodes:\n",
    "    1. train model and apply to train data, calculate error rate.\n",
    "    2. apply to test data and calculate error rate.\n",
    "    3. print error rate\n",
    "    \n",
    "Which number of hidden nodes did best?\n",
    "\n",
    "**As always when working with Lists or Lists of Lists, be very careful when you are modifying these items in place that this is what you intend (you may want to make a copy first)**"
   ]
  },
  {
   "cell_type": "markdown",
   "metadata": {},
   "source": [
    "---\n",
    "\n",
    "Put your helper functions above here.\n",
    "\n",
    "## Main Functions"
   ]
  },
  {
   "cell_type": "markdown",
   "metadata": {},
   "source": [
    "### generate_data\n",
    "\n",
    "Generates an endless supply of blurred data from a collection of terrain prototypes.\n",
    "\n",
    "* `data`: Dict[Str, List[Any]] - a Dictionary of \"clean\" prototypes for each landscape type.\n",
    "* `n`: Int - the number of blurred examples of each terrain type to return.\n",
    "\n",
    "returns\n",
    "\n",
    "* List[List[Any]] - a List of Lists. Each individual List is a blurred example of a terrain type, generated from the prototype."
   ]
  },
  {
   "cell_type": "code",
   "execution_count": 10,
   "metadata": {
    "tags": []
   },
   "outputs": [],
   "source": [
    "def generate_data(data, n):\n",
    "    sample_data = []\n",
    "    encoder = {}\n",
    "    encoding = [0 for surface in data.keys()]\n",
    "    for i, surface in enumerate(data.keys()):\n",
    "        \n",
    "        # create encoding sample\n",
    "        surface_encoding = encoding.copy()\n",
    "        surface_encoding[i] = 1\n",
    "        encoder[surface] = surface_encoding\n",
    "        \n",
    "        n_surface_samples = len(data[surface])\n",
    "        if n_surface_samples>1:\n",
    "            new_n = n//n_surface_samples + 1\n",
    "            for s in data[surface]:\n",
    "                for n_ in range(new_n):\n",
    "                    sample_data.append([blur(s)[:-1],encoder[surface]])\n",
    "        else:\n",
    "            new_n = n\n",
    "            for n_ in range(new_n):\n",
    "                    sample_data.append([blur(data[surface][0])[:-1],encoder[surface]])\n",
    "            \n",
    "    return sample_data"
   ]
  },
  {
   "cell_type": "code",
   "execution_count": 11,
   "metadata": {},
   "outputs": [],
   "source": [
    "n = 100\n",
    "sample = generate_data(clean_data, 100)  \n",
    "# The function generates a total of n * number of suface types in clean data\n",
    "assert len(sample) >= len(clean_data)*n\n",
    "# each observation has an observation and an encoding of the y\n",
    "assert len(sample[0]) == 2"
   ]
  },
  {
   "cell_type": "markdown",
   "metadata": {},
   "source": [
    "### learn_model\n",
    "\n",
    "**put documentation here based on the assignment description**"
   ]
  },
  {
   "cell_type": "markdown",
   "metadata": {},
   "source": [
    "#### `create_network(n_inputs, n_hidden_nodes, n_outputs)`\n",
    "`create_network()` initializes the neural network. The neural network will have the initial components,\n",
    "first it will have a hidden layer. The `hidden_layer` will be constructed taking into account the number of inputs `n_inputs` and the number of hidden nodes `n_hidden_nodes`. This because we need to initialize weights for every connection between `n_inputs` and `n_hidde_nodes`. Similarly, the `output_layer` will initialize weights connecting the number of `n_hidden_nodes` and the number of `n_outputs`. Notice that we are initializing using +1 as we are accounting for the bias of each node. The initalization will be random using the `random` module of the `random` package."
   ]
  },
  {
   "cell_type": "code",
   "execution_count": 12,
   "metadata": {},
   "outputs": [],
   "source": [
    "def create_network(n_inputs, n_hidden_nodes, n_outputs):\n",
    "    network = list()\n",
    "    hidden_layer = [{'weights':[random.random() for i in range(n_inputs + 1)]} for i in range(n_hidden_nodes)]\n",
    "    network.append(hidden_layer)\n",
    "    output_layer = [{'weights':[random.random() for i in range(n_hidden_nodes + 1)]} for i in range(n_outputs)]\n",
    "    network.append(output_layer)\n",
    "    return network"
   ]
  },
  {
   "cell_type": "code",
   "execution_count": 13,
   "metadata": {},
   "outputs": [],
   "source": [
    "# we initialize a network with one input, two hidden layer nodes, and two outputs\n",
    "sample_network = create_network(1, 2, 2)\n",
    "# this node should have a hidden layer of length 2\n",
    "assert len(sample_network[0]) == 2\n",
    "# the first hidden layer node should have two weights, one for the connection to the input and one for the bias\n",
    "assert len(sample_network[0][0]['weights']) == 2\n",
    "# this first output layer should have three weights: one for each hidden layer node, and one for the bias\n",
    "assert len(sample_network[1][0]['weights']) == 3"
   ]
  },
  {
   "cell_type": "markdown",
   "metadata": {},
   "source": [
    "#### Forward Propagation\n",
    "\n",
    "##### `activate(weights, inputs)`\n",
    "The first step in the feed_forward sequence is to compute the activation function. The `activation()` function takes all the `weights` but the bias and multiplies it against the `inputs` "
   ]
  },
  {
   "cell_type": "code",
   "execution_count": 14,
   "metadata": {},
   "outputs": [],
   "source": [
    "def activate(weights, inputs):\n",
    "    activation = weights[-1]\n",
    "    for i in range(len(weights)-1):\n",
    "        activation += weights[i] * inputs[i]\n",
    "    return activation"
   ]
  },
  {
   "cell_type": "code",
   "execution_count": 15,
   "metadata": {},
   "outputs": [],
   "source": [
    "weights = [0,0.5,0.5]\n",
    "inputs = [1,2,1]\n",
    "assert activate(weights, inputs) == 1.5"
   ]
  },
  {
   "cell_type": "markdown",
   "metadata": {},
   "source": [
    "##### `transfer_function(activation)`\n",
    "We will implement the sigmoid function of the form $f(x) = \\frac{1}{1 + e^{x}}$ as in the lectures, `transfer_function()` therefore returns the sigmoid function for a given `activation` value."
   ]
  },
  {
   "cell_type": "code",
   "execution_count": 16,
   "metadata": {},
   "outputs": [],
   "source": [
    "from math import exp\n",
    "def transfer_function(activation):\n",
    "    return 1.0 / (1.0 + exp(-activation)) "
   ]
  },
  {
   "cell_type": "code",
   "execution_count": 17,
   "metadata": {},
   "outputs": [],
   "source": [
    "# Test of the transfer function for the values 0,1,2\n",
    "assert transfer_function(0) == 0.5\n",
    "assert transfer_function(1) == 0.7310585786300049\n",
    "assert transfer_function(2) == 0.8807970779778823"
   ]
  },
  {
   "cell_type": "markdown",
   "metadata": {},
   "source": [
    "##### `forward_propagate(network, row)`\n",
    "During the forward propagation each layer from `network` is looped through\n",
    "while calculating the outputs for each `neuron`. All inputs from one layer become inputs to the neurons at the next layer. The function `forward_propagate` performs this function with a couple of for loops."
   ]
  },
  {
   "cell_type": "code",
   "execution_count": 18,
   "metadata": {},
   "outputs": [],
   "source": [
    "def forward_propagate(network, row):\n",
    "    inputs = row\n",
    "    for layer in network:\n",
    "        new_inputs = []\n",
    "        for neuron in layer:\n",
    "            activation = activate(neuron['weights'], inputs)\n",
    "            neuron['output'] = transfer_function(activation)\n",
    "            new_inputs.append(neuron['output'])\n",
    "        inputs = new_inputs\n",
    "    return inputs"
   ]
  },
  {
   "cell_type": "code",
   "execution_count": 19,
   "metadata": {},
   "outputs": [],
   "source": [
    "n_outputs = 4\n",
    "sample_network = create_network(2, 1, n_outputs)\n",
    "output = forward_propagate(sample_network, [0,1])\n",
    "assert len(output) == n_outputs"
   ]
  },
  {
   "cell_type": "markdown",
   "metadata": {},
   "source": [
    "#### Backpropagation\n",
    "\n",
    "##### transfer_derivative(output)\n",
    "The transfer derivative of an output corresponds to $\\text{transfer derivative} = output \\times (1 - output)$"
   ]
  },
  {
   "cell_type": "code",
   "execution_count": 20,
   "metadata": {},
   "outputs": [],
   "source": [
    "def transfer_derivative(output):\n",
    "    return output * (1.0 - output)"
   ]
  },
  {
   "cell_type": "code",
   "execution_count": 21,
   "metadata": {},
   "outputs": [],
   "source": [
    "assert transfer_derivative(0) == 0\n",
    "assert transfer_derivative(1) == 0\n",
    "assert transfer_derivative(2) == -2\n",
    "assert transfer_derivative(3) == -6"
   ]
  },
  {
   "cell_type": "markdown",
   "metadata": {},
   "source": [
    "##### `backward_propagate_error(network, expected)`\n",
    "The error on a given output neuron is given by \n",
    "$$\n",
    "error = (output - expected) * \\text{transfer_derivative}(output)\n",
    "$$\n",
    "This error calculation is used for neurons in the output layer.\n",
    "In the inner layer however, the error signal for a neuron is calculated as the weighted error of each neuron in the output layer. \n",
    "For a given $i$th neuron, the weight $j$ will connect the $j$th neuron to the current neuron. The function outputs the output of the current neuron as follows:\n",
    "$$\n",
    "error = (weight_i \\times error_j) * \\text{transfer_derivative}(output)\n",
    "$$\n",
    "The function `backward_propagate_error()` accumulates this error for a given `network` and a set of `expected` values. "
   ]
  },
  {
   "cell_type": "code",
   "execution_count": 22,
   "metadata": {},
   "outputs": [],
   "source": [
    "def backward_propagate_error(network, expected):\n",
    "    for i in reversed(range(len(network))):\n",
    "        layer = network[i]\n",
    "        errors = list()\n",
    "        if i != len(network)-1:\n",
    "            for j in range(len(layer)):\n",
    "                error = 0.0\n",
    "                for neuron in network[i + 1]:\n",
    "                    error += (neuron['weights'][j] * neuron['delta'])\n",
    "                errors.append(error)\n",
    "        else:\n",
    "            for j in range(len(layer)):\n",
    "                neuron = layer[j]\n",
    "                errors.append(neuron['output'] - expected[j])\n",
    "        for j in range(len(layer)):\n",
    "            neuron = layer[j]\n",
    "            neuron['delta'] = errors[j] * transfer_derivative(neuron['output'])"
   ]
  },
  {
   "cell_type": "code",
   "execution_count": 23,
   "metadata": {},
   "outputs": [],
   "source": [
    "network = [[{'output': 0.7105668883115941, 'weights': [0.13436424411240122, 0.8474337369372327, 0.763774618976614]}],\n",
    "           [{'output': 0.6213859615555266, 'weights': [0.2550690257394217, 0.49543508709194095]}, {'output': 0.6573693455986976, 'weights': [0.4494910647887381, 0.651592972722763]}]]\n",
    "expected = [0, 1]\n",
    "backward_propagate_error(network, expected)\n",
    "# each layer neuron should contain an output, a weight, and a delta value\n",
    "for layer in network:\n",
    "    for node in layer:\n",
    "        assert 'output' in node.keys()\n",
    "        assert 'weights' in node.keys()\n",
    "        assert 'delta' in node.keys()"
   ]
  },
  {
   "cell_type": "markdown",
   "metadata": {},
   "source": [
    "#### `update_network(network, row, l_rate)`\n",
    "Next, we need to update the weights given the `delta` value produced in `backward_propagate_error`. `update_network(network, row, l_rate)` updates the weights for a `network` given an input `row` of data, a learning rate `l_rate` and assume that a forward and backward propagation have already been performed."
   ]
  },
  {
   "cell_type": "code",
   "execution_count": 24,
   "metadata": {},
   "outputs": [],
   "source": [
    "def update_weights(network, row, l_rate):\n",
    "    for i in range(len(network)):\n",
    "        inputs = row[:-1]\n",
    "        if i != 0:\n",
    "            inputs = [neuron['output'] for neuron in network[i - 1]]\n",
    "        for neuron in network[i]:\n",
    "            for j in range(len(inputs)):\n",
    "                neuron['weights'][j] -= l_rate * neuron['delta'] * inputs[j]\n",
    "            neuron['weights'][-1] -= l_rate * neuron['delta']"
   ]
  },
  {
   "cell_type": "markdown",
   "metadata": {},
   "source": [
    "##### `learn_model( data, hidden_nodes, verbose=False, n_epoch=40, l_rate=0.5)`\n",
    "The function `learn_model()` below implements stochastic gradient descent. The expected number of output values is used to transform class values in the training data into a one hot encoding. That is a binary vector with one column for each class value to match the output of the network. This is required to calculate the error for the output layer. The function involves first looping over a fixed number of epochs and within each epoch updating the network for each row in the training dataset. "
   ]
  },
  {
   "cell_type": "code",
   "execution_count": 25,
   "metadata": {
    "tags": []
   },
   "outputs": [],
   "source": [
    "def learn_model( data, hidden_nodes, verbose=False, n_epoch=40, l_rate=0.5):\n",
    "    x = [observation[0] for observation in data]\n",
    "    y = [observation[1] for observation in data]\n",
    "    n_inputs = len(x[0])\n",
    "    n_outputs = len(y[0])\n",
    "    network = create_network(n_inputs, hidden_nodes, n_outputs)\n",
    "    for epoch in range(n_epoch):\n",
    "        sum_error = 0\n",
    "        for row in range(len(x)):\n",
    "            outputs = forward_propagate(network, x[row])\n",
    "            expected = y[row]\n",
    "            sum_error += sum([(expected[i]-outputs[i])**2 for i in range(len(expected))])\n",
    "            backward_propagate_error(network, expected)\n",
    "            update_weights(network, x[row], l_rate)\n",
    "        if verbose:\n",
    "            print('>epoch=%d, lrate=%.3f, error=%.3f' % (epoch, l_rate, sum_error))\n",
    "    \n",
    "    return network"
   ]
  },
  {
   "cell_type": "code",
   "execution_count": 26,
   "metadata": {},
   "outputs": [
    {
     "name": "stdout",
     "output_type": "stream",
     "text": [
      ">epoch=0, lrate=0.500, error=100.372\n",
      ">epoch=1, lrate=0.500, error=116.032\n",
      ">epoch=2, lrate=0.500, error=115.980\n",
      ">epoch=3, lrate=0.500, error=115.528\n",
      ">epoch=4, lrate=0.500, error=113.896\n",
      ">epoch=5, lrate=0.500, error=105.659\n",
      ">epoch=6, lrate=0.500, error=95.214\n",
      ">epoch=7, lrate=0.500, error=88.680\n",
      ">epoch=8, lrate=0.500, error=84.267\n",
      ">epoch=9, lrate=0.500, error=79.035\n",
      ">epoch=10, lrate=0.500, error=69.850\n",
      ">epoch=11, lrate=0.500, error=59.028\n",
      ">epoch=12, lrate=0.500, error=50.866\n",
      ">epoch=13, lrate=0.500, error=45.201\n",
      ">epoch=14, lrate=0.500, error=41.021\n",
      ">epoch=15, lrate=0.500, error=37.377\n",
      ">epoch=16, lrate=0.500, error=33.914\n",
      ">epoch=17, lrate=0.500, error=30.612\n",
      ">epoch=18, lrate=0.500, error=27.565\n",
      ">epoch=19, lrate=0.500, error=24.794\n",
      ">epoch=20, lrate=0.500, error=22.245\n",
      ">epoch=21, lrate=0.500, error=19.905\n",
      ">epoch=22, lrate=0.500, error=17.794\n",
      ">epoch=23, lrate=0.500, error=15.996\n",
      ">epoch=24, lrate=0.500, error=14.495\n",
      ">epoch=25, lrate=0.500, error=13.216\n",
      ">epoch=26, lrate=0.500, error=12.117\n",
      ">epoch=27, lrate=0.500, error=11.165\n",
      ">epoch=28, lrate=0.500, error=10.340\n",
      ">epoch=29, lrate=0.500, error=9.628\n",
      ">epoch=30, lrate=0.500, error=9.013\n",
      ">epoch=31, lrate=0.500, error=8.477\n",
      ">epoch=32, lrate=0.500, error=7.994\n",
      ">epoch=33, lrate=0.500, error=7.547\n",
      ">epoch=34, lrate=0.500, error=7.122\n",
      ">epoch=35, lrate=0.500, error=6.717\n",
      ">epoch=36, lrate=0.500, error=6.332\n",
      ">epoch=37, lrate=0.500, error=5.972\n",
      ">epoch=38, lrate=0.500, error=5.641\n",
      ">epoch=39, lrate=0.500, error=5.339\n"
     ]
    }
   ],
   "source": [
    "sample = generate_data(clean_data, 100)\n",
    "sample_network = learn_model( sample, 4, True)"
   ]
  },
  {
   "cell_type": "markdown",
   "metadata": {},
   "source": [
    "### apply_model\n",
    "\n",
    "**put documentation here based on the assignment description**\n",
    "\n",
    "#### `predict_class(model,row)`\n",
    "`predict_class(model,row)` implements `forward_propagate()` from the already trained model into the test dataset. This would generate results for which the arg max value is given the classification. "
   ]
  },
  {
   "cell_type": "code",
   "execution_count": 27,
   "metadata": {},
   "outputs": [],
   "source": [
    "def predict_class(model, row):\n",
    "    output = forward_propagate(sample_network, row)\n",
    "    predicted_class = output.index(max(output))\n",
    "    prediction = [(1 if i == predicted_class else 0, output[i]) for i in range(len(output))]\n",
    "    return prediction"
   ]
  },
  {
   "cell_type": "markdown",
   "metadata": {},
   "source": [
    "#### `apply_model(model, data, labeled= False)`\n",
    "Implements the function as specified in the statement. It loops over the observations in the data to produce predictions using the `predict_class()` function above. If `labeled` is True, then a direct comparison against the provided expected value is produced as the tuple value pair, otherwise a probability is provided as a tuple value pair."
   ]
  },
  {
   "cell_type": "code",
   "execution_count": 28,
   "metadata": {},
   "outputs": [],
   "source": [
    "def apply_model(model, data, labeled= False):\n",
    "    x = [observation[0] for observation in data]\n",
    "    y_hat = []\n",
    "    for row in range(len(data)):\n",
    "        y_hat.append(predict_class(model, x[row]))\n",
    "    if labeled:\n",
    "        comparison = []\n",
    "        y = [observation[1] for observation in data]\n",
    "        for row in range(len(y)):\n",
    "            comparison.append([(y[row][label],y_hat[row][label][0]) for label in range(len(y[row]))])\n",
    "        return comparison\n",
    "    else:\n",
    "        return y_hat"
   ]
  },
  {
   "cell_type": "markdown",
   "metadata": {},
   "source": [
    "Test out generate_data:"
   ]
  },
  {
   "cell_type": "code",
   "execution_count": 29,
   "metadata": {},
   "outputs": [
    {
     "name": "stdout",
     "output_type": "stream",
     "text": [
      "[[0.0791438574480991, 0.07870481547524914, 0.047950231397511436, 0.18752796867983088, 0.13138220118540853, 0.06717740913029105, 0.06610457578327616, 0.05473720920276186, 0.04486137652846586, 0.09528443211704873, 0.05525179686042726, 0.04361313261071989, 1.0, 0.9141770334360152, 0.8621936137941624, 0.8949425029229924], [1, 0, 0, 0]]\n",
      "[[0.0328150225610402, 0.10437056838427161, 0.029736138758240424, 0.0828142490922946, 0.007018348526731208, 0.18255030646080528, 0.18917133072378098, 0.05002854976132768, 0.12257799504803099, 0.10661615142073326, 0.11968406387110633, 0.03604687117395361, 0.7089347601002686, 0.9902763133398701, 0.8248994929862445, 0.9765765289469768], [1, 0, 0, 0]]\n",
      "[[0.13721136905956619, 0.13830414125775606, 0.07911380332709517, 0.06860846716487734, 0.10094746713339561, 0.10703446080744165, 0.016997559310813926, 0.005548335643702482, 0.10550811808461666, 0.06110927641983832, 0.1075847105479499, 0.019273747503133126, 0.8266611805199703, 1.0, 0.6804921391691294, 0.9634958579494532], [1, 0, 0, 0]]\n",
      "[[0.12146812790563943, 0.15141903115553382, 0.0, 0.08834976794014601, 0.02318712106842742, 0.08008730399816301, 0.17441757929921564, 0.067601449083854, 0.1219005646300544, 0.03295362695180795, 0.11475611829562737, 0.11041000609849637, 0.8746095622882113, 0.9688422504749561, 1.0, 0.7606683000410993], [1, 0, 0, 0]]\n",
      "[[0.1100275325658809, 0.13719227835501902, 0.10786516367265679, 0.1270618433301481, 0.25998312107951144, 0.0, 0.13469858429955328, 0.093100578118747, 0.1078504241387287, 0.07299196010686801, 0.18317268913855503, 0.12095917270087861, 0.776110514595754, 0.8542839352834071, 0.8913947902110918, 1.0], [1, 0, 0, 0]]\n",
      "[[0.1235727174976669, 0.109900486895742, 0.06302017943137136, 0.14099524819703352, 0.16618644009186329, 0.0, 0.09806835493888155, 0.10214649592045108, 0.1392390036068271, 0.1345541076350165, 0.05431568544761842, 0.037166383594974775, 0.7938933173089774, 1.0, 1.0, 0.7653536454328497], [1, 0, 0, 0]]\n",
      "[[0.10476638070786079, 0.046839751121662825, 0.05632829370952323, 0.07972238304002607, 0.09741598656860827, 0.13399039897451567, 0.16627739195218166, 0.05210653212466313, 0.06295635116341725, 0.07052560683958446, 0.08710277987488324, 0.09769131116770235, 0.8198324910150515, 1.0, 0.8594617809939828, 0.7781882846453003], [1, 0, 0, 0]]\n",
      "[[0.1980978921954461, 0.0989482402961783, 0.09087313980636885, 0.07397719893134401, 0.1065451134201771, 0.07415294534041256, 0.17795339828730294, 0.08889629970681409, 0.04823161463897731, 0.10945267467276634, 0.18400024941677695, 0.06778707279465723, 0.8988022228824118, 1.0, 0.7726599146106841, 0.8274547264199639], [1, 0, 0, 0]]\n",
      "[[0.09804123542571926, 0.05992122350648227, 0.15466925008366036, 0.061999071313147046, 0.11452985988468847, 0.1058037464221528, 0.1983086528597392, 0.07603448527167551, 0.03321948536435593, 0.056442638014219365, 0.09195228724292337, 0.10603400439077615, 0.8432563212533292, 1.0, 0.9335127508601191, 1.0], [1, 0, 0, 0]]\n",
      "[[0.04235415258156634, 0.07760214943983945, 0.13423999571089745, 0.055950675655149634, 0.1315611773760691, 0.1331072195061859, 0.13882828604727218, 0.07072970638847315, 0.09465083470158098, 0.03960441143176005, 0.0024851414485003442, 0.16234304027769192, 0.9572335881436396, 0.8304616341030046, 0.8968962787689437, 0.8679392621560386], [1, 0, 0, 0]]\n",
      "[[0.11701632272417842, 1.0, 0.09849445142002049, 0.024304849238504483, 0.8834049695768783, 0.763355928814954, 0.7845422958208108, 0.07922442374623592, 0.859749467533388, 0.9255690121725417, 0.7810683872691049, 0.8286960774460734, 0.11638166891990008, 1.0, 0.016320695986826922, 0.022419740446377553], [0, 1, 0, 0]]\n",
      "[[0.17792879487263583, 1.0, 0.1167764186432684, 0.1899778407729952, 0.8790385031487444, 0.9446674396680022, 0.928870289480547, 0.1621410721752886, 0.7382484990533569, 0.8295355681731916, 0.9760374748816706, 0.9032951441956928, 0.09295903196510617, 0.8947299159476685, 0.18635714948364965, 0.06291826268030179], [0, 1, 0, 0]]\n",
      "[[0.1626172273158778, 0.7751313236893076, 0.042711071912076785, 0.030728442318599433, 1.0, 0.8168412361130725, 0.8542044002266044, 0.12371380586113243, 0.828032115579063, 0.9964292924046423, 0.6928140228832689, 0.8580359086698194, 0.11527101179161198, 0.8110345844833273, 0.1807107737167553, 0.11033773934409633], [0, 1, 0, 0]]\n",
      "[[0.10680760644162746, 0.03874767402085749, 1.0, 0.08477923359594361, 0.011793243957659322, 0.8349980897002706, 0.9232719864374214, 0.9011829063802423, 0.9002735175070407, 0.8722051629770531, 0.99576428793128, 0.9196293321910577, 0.17168928422855376, 0.18045270135956012, 1.0, 0.09925689814888848], [0, 1, 0, 0]]\n",
      "[[0.1380087794143121, 0.07421977953209695, 1.0, 0.12922330181324654, 0.078921951235314, 0.7694289389282335, 0.7793853338517636, 0.9159281549966142, 0.9263665173444426, 1.0, 0.9890553018895962, 0.8350425372570656, 0.11913354398384829, 0.06608222634522148, 0.8238997930066121, 0.048462215079506904], [0, 1, 0, 0]]\n",
      "[[0.03397244664249109, 0.10572109064155327, 0.986624599395094, 0.13235516550559237, 0.150583538550476, 0.9537277486905795, 0.7776149165797517, 1.0, 0.8802277405063664, 0.837723042403661, 0.8918989339464062, 1.0, 0.1444245525927542, 0.12254941706338665, 0.8494697311362938, 0.06976056913482402], [0, 1, 0, 0]]\n",
      "[[0.9541706458685293, 0.07864473609214093, 0.1223650957041853, 0.135497086190196, 0.7921218665489866, 1.0, 0.09431740005879775, 0.14386146934478414, 0.8480439004248348, 0.7525598350996234, 0.8180333782443772, 0.11708566753001556, 0.9903421754614308, 0.11654081444897514, 0.06831775767666147, 0.07522355395333834], [0, 1, 0, 0]]\n",
      "[[1.0, 0.03323532960495493, 0.06711299808154053, 0.07146797341095329, 0.8306723303281092, 0.9214796038747257, 0.09967580737234984, 0.1521695266369028, 0.8895103001772114, 0.9704177980290829, 0.7688270260602054, 0.11252629767878462, 0.7958582331880337, 0.07297276942351184, 0.08409748940857158, 0.0], [0, 1, 0, 0]]\n",
      "[[0.9092253194836896, 0.060512034369564274, 0.08424854229088348, 0.044953091323886876, 0.7982873653202149, 0.9099809330517702, 0.05606980336182758, 0.21343650112249551, 0.8722724446801683, 0.8950515626515718, 0.8376973899889095, 0.1410572616559885, 0.9005539707136528, 0.11633702939457492, 0.09535829953793928, 0.06336267969760101], [0, 1, 0, 0]]\n",
      "[[0.19242847240651897, 0.10402861387157317, 0.09887408977951691, 0.903828940640685, 0.027158305135393176, 0.15449345368203557, 1.0, 0.6511100143668344, 0.04532543526093405, 0.983982668361016, 0.8163731684627612, 0.9528390954708773, 0.0906416463421213, 0.14123326026020921, 0.10777023928780463, 0.8728545730448817], [0, 1, 0, 0]]\n",
      "[[0.04897981846991867, 0.12113805440653631, 0.052960642810385324, 0.8376482029504582, 0.09224204196498921, 0.07729802974243755, 0.9886510695505772, 0.945376787359627, 0.1294986511039268, 0.8059594050182182, 0.9403088226262347, 0.6685503148220209, 0.12346489861094351, 0.1707503696155836, 0.07952526996884754, 0.8242153555841627], [0, 1, 0, 0]]\n",
      "[[0.13452606306001968, 0.04367158979195246, 0.0963015717074378, 0.8939037755315289, 0.11533220155535791, 0.09117651611833466, 1.0, 0.9173927729611522, 0.04499551697547203, 0.8478347574774129, 0.716769212152935, 1.0, 0.18777350920640326, 0.12482077355530566, 0.06855825233654128, 0.813844636464445], [0, 1, 0, 0]]\n",
      "[[0.15860315666544933, 0.1447894017900596, 0.1562841556976306, 0.17067607154709435, 0.07794376564619435, 0.038190102088529125, 1.0, 0.11808909201067809, 0.14460272701758764, 0.8470892233056693, 0.97651962120367, 0.8323235397230118, 0.8623378633302129, 0.8775500957628519, 0.8049345715188587, 0.9298705954540619], [0, 0, 1, 0]]\n",
      "[[0.037202854405804994, 0.09827733408549809, 0.11852236393128364, 0.06614953809353478, 0.11598083360240131, 0.08993355190901847, 0.7997206389716264, 0.0945061546089895, 0.06720307432573241, 0.8929911257579867, 0.7191680411996129, 0.964766306672654, 1.0, 0.9867917737678437, 1.0, 0.9351772445843436], [0, 0, 1, 0]]\n",
      "[[0.09212611289949825, 0.056318214398882696, 0.12868689373624104, 0.01937406182735582, 0.020327222346086277, 0.0925284240441194, 0.8026120553332976, 0.15295146790060324, 0.13151979668341185, 0.8633195438100955, 0.9086709101304407, 0.6338324000554754, 0.8993539997556907, 0.8460615370077892, 0.9792684604470097, 0.8836239150478693], [0, 0, 1, 0]]\n",
      "[[0.0793371464893903, 0.20040855347253816, 0.1407589951689604, 0.09259267275503243, 0.09394714856565473, 0.8254514113849704, 0.10877577212113669, 0.14638361017112483, 0.9051019265770259, 0.7263042757139955, 0.8678649285278407, 0.07008291006340124, 0.9045055682718797, 1.0, 0.8666047371197488, 0.9760749036492746], [0, 0, 1, 0]]\n",
      "[[0.1213644772458464, 0.0855251424054087, 0.1329231535316385, 0.10947320515152348, 0.04226309637889826, 0.9164988304656222, 0.06245186280366577, 0.03400846414020267, 0.8752540739743091, 0.9960776155615997, 0.8085590150070419, 0.1354857429528338, 0.83290828126271, 0.9306432376783347, 0.9040813625768642, 0.8316743407030954], [0, 0, 1, 0]]\n",
      "[[0.021015297148997927, 0.213898543331346, 0.13155463348831747, 0.13674547292224984, 0.1089893075328895, 0.7658089267524484, 0.06336297056755995, 0.12384972558640339, 0.8646883012469226, 0.7425193045935904, 0.9102354595330556, 0.10183981521197487, 0.8779487865220936, 0.9803646677811827, 0.7032859265343447, 0.8651912464807626], [0, 0, 1, 0]]\n",
      "[[0.16580676778910958, 0.10089344976726201, 0.07951119168314631, 0.06791898748501288, 0.7748375235235121, 0.10724237570374318, 0.0, 0.13522555794607832, 0.8719753856299204, 0.9220862276978214, 0.08393465753227931, 0.0879295323248135, 0.7863842532466091, 0.9309148551198756, 1.0, 0.06451681488244285], [0, 0, 1, 0]]\n",
      "[[0.07751537096977633, 0.07757422914836769, 0.07934654026268292, 0.0419558209546069, 0.8712863649110113, 0.08340576103485879, 0.10795208189145378, 0.026416770753113508, 1.0, 0.8611723927474875, 0.06479666497492453, 0.1412998140148087, 1.0, 0.9801183216513234, 0.8899145600006344, 0.07949435662058701], [0, 0, 1, 0]]\n",
      "[[0.039222432273211205, 0.08109605152719176, 0.06940388110002874, 0.14871953023195497, 0.8573252547940576, 0.1497693656636394, 0.019522886407951245, 0.06631835208828067, 0.9479769843551963, 0.8446236003806975, 0.10724356702575713, 0.064706595736429, 0.9923299798360865, 1.0, 0.9897095018203632, 0.15129370299060035], [0, 0, 1, 0]]\n",
      "[[0.009512463320013084, 0.06194547650667556, 0.07289575168529182, 0.14745911232529618, 0.02875120409458387, 0.06927534532705189, 0.04977450968251991, 0.8167575876941733, 0.14826907083314572, 0.019842569053190456, 1.0, 0.819910607379301, 0.13706251757800703, 0.9939491944906567, 0.7272770860585915, 0.9165746184051792], [0, 0, 1, 0]]\n",
      "[[0.11551335805048456, 0.09700173068377506, 0.18121541009713538, 0.14658992136045007, 0.1306134173908225, 0.13272133603506106, 0.04889461150612302, 0.9572001149499048, 0.09150965292515235, 0.08016349920972815, 1.0, 0.9806123720384669, 0.09079705407814889, 0.891775459623718, 0.7824604213932402, 1.0], [0, 0, 1, 0]]\n",
      "[[0.20006705628094268, 0.16165372470544265, 0.13104750588976113, 0.06141439267369106, 0.017797223832775294, 0.17280503017859855, 0.04264949821371022, 0.9946402715177574, 0.029837963247175248, 0.06660848082749987, 0.9928550838255173, 1.0, 0.12001283867861813, 0.8589286739660243, 1.0, 0.7879348802561166], [0, 0, 1, 0]]\n",
      "[[0.15252156197617023, 0.151534060122882, 0.04685872227651722, 0.01728388065543998, 0.07069911051436055, 0.20107337269185724, 0.10180555394437237, 0.023374953633145762, 0.9577010315396396, 0.1813226567219261, 1.0, 0.05948860931591039, 0.9297181013892759, 0.8430670248562105, 0.8397406979669005, 0.9224813240307252], [0, 0, 0, 1]]\n",
      "[[0.12235152104595935, 0.08906889993853297, 0.055424312292839145, 0.0545423204111489, 0.13797681811382614, 0.047101535858997214, 0.01195448708104166, 0.11836561446926909, 0.9244023295350992, 0.03711469305035049, 1.0, 0.07548705924540329, 0.7318371651085306, 0.9731361774985118, 0.869822772159487, 0.9741432035280754], [0, 0, 0, 1]]\n",
      "[[0.08045826950863516, 0.09169395390334355, 0.0946972602751293, 0.06656882164633901, 0.03484835735264566, 0.11043355914379202, 0.10440901598802096, 0.019309892013101848, 0.9528504323418276, 0.005634319273625482, 0.7818586769819807, 0.02245943559938654, 0.9693090794509227, 0.8308078933108073, 0.9310836815240141, 1.0], [0, 0, 0, 1]]\n",
      "[[0.1517498178094279, 0.09363951548691175, 0.0, 0.07746131016990429, 0.030445231977207637, 0.06529465215333326, 0.1328523878675104, 0.11984659323199932, 0.8175367981359007, 0.10517360561657961, 1.0, 0.11367892833136155, 0.7670735245592519, 1.0, 0.9295633300755304, 0.9900489110344275], [0, 0, 0, 1]]\n",
      "[[0.09130448928774362, 0.0784272178870386, 0.04130474716159706, 0.04809648537200642, 0.1325908006545583, 0.16296870428545066, 0.14100529684868535, 0.1091866095714735, 0.8587768072260485, 0.07908408678767201, 0.8718913161118979, 0.06957009986874785, 0.7286968982659179, 0.989124211979566, 0.7942874209384037, 0.7646812770268365], [0, 0, 0, 1]]\n",
      "[[0.13718192860669057, 0.11751830800970592, 0.1000226218057906, 0.051018314868349915, 0.04039531545269476, 0.17159905506377193, 0.11171232485353698, 0.09647649546133183, 1.0, 0.18202873468826147, 0.9314517139228663, 0.03075802620626321, 0.9003498040894826, 0.9451131257601874, 0.8996893388348565, 0.848115811120142], [0, 0, 0, 1]]\n",
      "[[0.08261062296891275, 0.09401574834616197, 0.09059514414471588, 0.017359513187569273, 0.07181485403917885, 0.10861628755731845, 0.11215284308540237, 0.11745856651902234, 0.1561024713310095, 0.6496953737166646, 0.09225733881289946, 0.9000458320384112, 0.8977200639870497, 0.8301336226002327, 0.8069484748188218, 0.9611844461429787], [0, 0, 0, 1]]\n",
      "[[0.15591089139474368, 0.06364475599862286, 0.1284030063819052, 0.16921203206545582, 0.07194896758454003, 0.14350311422012615, 0.06578322186024194, 0.0018377099802655839, 0.08766282390530479, 0.8474916933098571, 0.09618854041826708, 0.8669416523287329, 0.7736179899706241, 0.8039251065538827, 0.8156092468222262, 0.8835665918823923], [0, 0, 0, 1]]\n",
      "[[0.06284381326703598, 0.09247155861723592, 0.11270093808637383, 0.11426827551599787, 0.0412277482682856, 0.09256765415529802, 0.08130058443985493, 0.16200771451477336, 0.08654162443600091, 0.8601802924122212, 0.1241323925567268, 0.9846835795296076, 0.7957343108711259, 0.737683572342055, 0.9936654729102611, 0.7839530039813476], [0, 0, 0, 1]]\n",
      "[[0.016770883042044743, 0.1593194614222588, 0.07677722790922555, 0.13345914418708305, 0.19273482318128043, 0.09360678465123919, 0.18035701875955515, 0.12928670220634852, 0.09942339216185486, 0.9491271262839053, 0.01032112131977296, 0.7000589011122649, 1.0, 0.8516024727832431, 1.0, 0.7863035986985316], [0, 0, 0, 1]]\n",
      "[[0.10102804424059458, 0.0890210200804623, 0.07465629402198039, 0.05894015327087212, 0.12334533566473947, 0.05995182967202924, 0.14513543713603694, 0.06344713433090544, 0.04350616352619699, 0.9915395881473834, 0.13818613986729525, 0.7462174987049348, 0.9338359754574372, 0.7191560012615845, 0.841925903327545, 0.9226198333979182], [0, 0, 0, 1]]\n",
      "[[0.13109998040276333, 0.0455408576793237, 0.15587946762948993, 0.15481507801638164, 0.18321787913013632, 0.1138419931473802, 0.051713055051804784, 0.1474708336066951, 0.044304392043841956, 0.8848801143586057, 0.11619102904427117, 0.9264862161637178, 0.910670884083153, 0.858348920040894, 0.9400629775850649, 0.9926880983916843], [0, 0, 0, 1]]\n"
     ]
    }
   ],
   "source": [
    "results = generate_data( clean_data, 10)\n",
    "for result in results:\n",
    "    print( result)"
   ]
  },
  {
   "cell_type": "markdown",
   "metadata": {},
   "source": [
    "Use `generate_data` to generate 100 blurred examples of each type (all four terrains)."
   ]
  },
  {
   "cell_type": "code",
   "execution_count": 30,
   "metadata": {},
   "outputs": [],
   "source": [
    "train_data = generate_data( clean_data, 100)"
   ]
  },
  {
   "cell_type": "markdown",
   "metadata": {},
   "source": [
    "Use `learn_model` to learn a ANN model for classifying sensor images as hills, swamps, plains or forest. **Set Verbose to True**"
   ]
  },
  {
   "cell_type": "code",
   "execution_count": 31,
   "metadata": {},
   "outputs": [
    {
     "name": "stdout",
     "output_type": "stream",
     "text": [
      ">epoch=0, lrate=0.500, error=185.480\n",
      ">epoch=1, lrate=0.500, error=81.251\n",
      ">epoch=2, lrate=0.500, error=81.404\n",
      ">epoch=3, lrate=0.500, error=80.685\n",
      ">epoch=4, lrate=0.500, error=79.396\n",
      ">epoch=5, lrate=0.500, error=77.219\n",
      ">epoch=6, lrate=0.500, error=74.388\n",
      ">epoch=7, lrate=0.500, error=71.191\n",
      ">epoch=8, lrate=0.500, error=67.488\n",
      ">epoch=9, lrate=0.500, error=63.373\n",
      ">epoch=10, lrate=0.500, error=59.291\n",
      ">epoch=11, lrate=0.500, error=55.398\n",
      ">epoch=12, lrate=0.500, error=51.721\n",
      ">epoch=13, lrate=0.500, error=48.393\n",
      ">epoch=14, lrate=0.500, error=45.497\n",
      ">epoch=15, lrate=0.500, error=43.036\n",
      ">epoch=16, lrate=0.500, error=40.989\n",
      ">epoch=17, lrate=0.500, error=39.248\n",
      ">epoch=18, lrate=0.500, error=37.634\n",
      ">epoch=19, lrate=0.500, error=35.845\n",
      ">epoch=20, lrate=0.500, error=33.551\n",
      ">epoch=21, lrate=0.500, error=30.862\n",
      ">epoch=22, lrate=0.500, error=28.151\n",
      ">epoch=23, lrate=0.500, error=25.433\n",
      ">epoch=24, lrate=0.500, error=22.693\n",
      ">epoch=25, lrate=0.500, error=20.111\n",
      ">epoch=26, lrate=0.500, error=17.770\n",
      ">epoch=27, lrate=0.500, error=15.628\n",
      ">epoch=28, lrate=0.500, error=13.733\n",
      ">epoch=29, lrate=0.500, error=12.157\n",
      ">epoch=30, lrate=0.500, error=10.821\n",
      ">epoch=31, lrate=0.500, error=9.685\n",
      ">epoch=32, lrate=0.500, error=8.739\n",
      ">epoch=33, lrate=0.500, error=7.955\n",
      ">epoch=34, lrate=0.500, error=7.288\n",
      ">epoch=35, lrate=0.500, error=6.708\n",
      ">epoch=36, lrate=0.500, error=6.195\n",
      ">epoch=37, lrate=0.500, error=5.737\n",
      ">epoch=38, lrate=0.500, error=5.326\n",
      ">epoch=39, lrate=0.500, error=4.955\n"
     ]
    }
   ],
   "source": [
    "model = learn_model( train_data, 10, True)"
   ]
  },
  {
   "cell_type": "markdown",
   "metadata": {},
   "source": [
    "Use `generate_data` to generate 100 blurred examples of each terrain and use this as your test data."
   ]
  },
  {
   "cell_type": "code",
   "execution_count": 32,
   "metadata": {
    "tags": []
   },
   "outputs": [],
   "source": [
    "test_data = generate_data( clean_data, 100)"
   ]
  },
  {
   "cell_type": "markdown",
   "metadata": {},
   "source": [
    "Apply the model and evaluate the results."
   ]
  },
  {
   "cell_type": "code",
   "execution_count": 33,
   "metadata": {},
   "outputs": [
    {
     "name": "stdout",
     "output_type": "stream",
     "text": [
      "Labeled is False\n",
      "[[(1, 0.9084647430747597), (0, 4.507782191901658e-05), (0, 0.0735083765330385), (0, 0.17137325607128281)], [(1, 0.9504439925593112), (0, 3.0877212242421666e-05), (0, 0.13846081723290096), (0, 0.07154558136254616)], [(1, 0.9334329621754337), (0, 3.7808459053354616e-05), (0, 0.11391169588740958), (0, 0.09879092266717796)], [(1, 0.9171758648155078), (0, 4.2764759333320396e-05), (0, 0.08238602765963231), (0, 0.14892103691510483)], [(1, 0.9175432723873012), (0, 4.1701472765342526e-05), (0, 0.08081416604678998), (0, 0.14879788429918073)]]\n",
      "\n",
      "Labeled is True\n",
      "[[(1, 1), (0, 0), (0, 0), (0, 0)], [(1, 1), (0, 0), (0, 0), (0, 0)], [(1, 1), (0, 0), (0, 0), (0, 0)], [(1, 1), (0, 0), (0, 0), (0, 0)], [(1, 1), (0, 0), (0, 0), (0, 0)]]\n"
     ]
    }
   ],
   "source": [
    "results = apply_model( model, test_data,False)\n",
    "print('Labeled is False')\n",
    "print(results[:5])\n",
    "\n",
    "\n",
    "print('\\nLabeled is True')\n",
    "results = apply_model( model, test_data,True)\n",
    "print(results[:5])\n"
   ]
  },
  {
   "cell_type": "markdown",
   "metadata": {},
   "source": [
    "print( results)"
   ]
  },
  {
   "cell_type": "markdown",
   "metadata": {},
   "source": [
    "Now that you're pretty sure your algorithm works (the error rate during training is going down, and you can evaluate `apply_model` results for its error rate), you need to determine what the best number of hidden nodes is.\n",
    "\n",
    "Try 2, 4, or 8 hidden nodes and indicate the best one. Follow the outline above under \"Simple Evaluation\".\n",
    "In the \"real world\", you could 10 fold cross validation and validation curves to determine the number of hidden nodes and possibly if you needed one or two hidden layers."
   ]
  },
  {
   "cell_type": "markdown",
   "metadata": {},
   "source": [
    "##### `error_rate()`\n",
    "Provided the formatting of the results data, the `error_rate` function scans through the list of tuples for each observation. Whenever a component of the tuples is different from the other, that observation is counted as an error. The error rate is the result of that count divided by the total observations in the `results`."
   ]
  },
  {
   "cell_type": "code",
   "execution_count": 34,
   "metadata": {},
   "outputs": [],
   "source": [
    "def error_rate(results):\n",
    "    errors = 0 \n",
    "    for result in results:\n",
    "        for lable in result:\n",
    "            if lable[0] != lable[1]:\n",
    "                errors += 1\n",
    "                break\n",
    "    return errors/len(results)"
   ]
  },
  {
   "cell_type": "code",
   "execution_count": 35,
   "metadata": {},
   "outputs": [
    {
     "name": "stdout",
     "output_type": "stream",
     "text": [
      "Error Rate on Training and Test Data\n",
      "at 30 epochs and a learning rate of 0.5 \n",
      "\n",
      "Nodes Training (%)      Test (%)\n",
      "2        9.2593         9.4118\n",
      "3        9.2593         9.4118\n",
      "4        9.2593         9.4118\n",
      "5        9.2593         9.4118\n",
      "6        9.2593         9.4118\n",
      "7        9.2593         9.4118\n",
      "8        9.2593         9.4118\n"
     ]
    }
   ],
   "source": [
    "epochs = 30\n",
    "l_rate = 0.5\n",
    "nodes_label = 'Nodes'\n",
    "train_label = 'Training (%)'\n",
    "test_label = 'Test (%)'\n",
    "print('Error Rate on Training and Test Data')\n",
    "print(f'at {epochs} epochs and a learning rate of {l_rate} \\n')\n",
    "print(f\"\"\"{nodes_label : <5}{train_label : ^15}\\\n",
    "    {test_label : >6}\"\"\")\n",
    "\n",
    "train_data = generate_data(clean_data, 200)\n",
    "random.shuffle(train_data)\n",
    "test_data = generate_data(clean_data, 40)\n",
    "random.shuffle(test_data)\n",
    "for hidden_nodes in range(2,9):\n",
    "    \n",
    "    model=None\n",
    "    train_error = 0\n",
    "    test_error = 0\n",
    "    \n",
    "    model = learn_model( train_data, hidden_nodes, False, n_epoch = epochs, l_rate=l_rate)\n",
    "    \n",
    "    train_results = apply_model(model, train_data,True)\n",
    "    train_error = error_rate(train_results)*100\n",
    "    \n",
    "    test_results = apply_model(model, test_data,True)\n",
    "    test_error = error_rate(test_results)*100\n",
    "    \n",
    "    print(f\"\"\"{hidden_nodes : <5}{train_error : ^15.4f}\\\n",
    "    {test_error : >6.4f}\"\"\")\n",
    "    "
   ]
  },
  {
   "cell_type": "markdown",
   "metadata": {},
   "source": [
    "which number of hidden nodes is best? ____\n",
    "\n",
    "**After trying different combinations and variables, holding the same amount of epochs and learning rate while changing the number of nodes in the internal layer does not seem to have a hugely significant impact. It is the case that the error rate decreases as the number of nodes in the internal layer increases. However, changing the learning rate increases the speed at which the algorithm converges. Increasing the amount of epochs increases the ability the algorithm has to improve accuracy.**"
   ]
  },
  {
   "cell_type": "markdown",
   "metadata": {},
   "source": [
    "## Before You Submit...\n",
    "\n",
    "1. Did you provide output exactly as requested?\n",
    "2. Did you re-execute the entire notebook? (\"Restart Kernel and Rull All Cells...\")\n",
    "3. If you did not complete the assignment or had difficulty please explain what gave you the most difficulty in the Markdown cell below.\n",
    "4. Did you change the name of the file to `jhed_id.ipynb`?\n",
    "\n",
    "Do not submit any other files."
   ]
  },
  {
   "cell_type": "markdown",
   "metadata": {},
   "source": []
  }
 ],
 "metadata": {
  "kernelspec": {
   "display_name": "Python 3 (ipykernel)",
   "language": "python",
   "name": "python3"
  },
  "language_info": {
   "codemirror_mode": {
    "name": "ipython",
    "version": 3
   },
   "file_extension": ".py",
   "mimetype": "text/x-python",
   "name": "python",
   "nbconvert_exporter": "python",
   "pygments_lexer": "ipython3",
   "version": "3.9.7"
  },
  "toc": {
   "colors": {
    "hover_highlight": "#DAA520",
    "navigate_num": "#000000",
    "navigate_text": "#333333",
    "running_highlight": "#FF0000",
    "selected_highlight": "#FFD700",
    "sidebar_border": "#EEEEEE",
    "wrapper_background": "#FFFFFF"
   },
   "moveMenuLeft": true,
   "nav_menu": {
    "height": "207px",
    "width": "252px"
   },
   "navigate_menu": true,
   "number_sections": true,
   "sideBar": true,
   "threshold": 4,
   "toc_cell": false,
   "toc_section_display": "block",
   "toc_window_display": false,
   "widenNotebook": false
  }
 },
 "nbformat": 4,
 "nbformat_minor": 4
}
