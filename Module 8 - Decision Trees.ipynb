{
 "cells": [
  {
   "cell_type": "markdown",
   "metadata": {},
   "source": [
    "# Module 8 - Programming Assignment\n",
    "\n",
    "## Directions\n",
    "\n",
    "1. Change the name of this file to be your JHED id as in `jsmith299.ipynb`. Because sure you use your JHED ID (it's made out of your name and not your student id which is just letters and numbers).\n",
    "2. Make sure the notebook you submit is cleanly and fully executed. I do not grade unexecuted notebooks.\n",
    "3. Submit your notebook back in Blackboard where you downloaded this file.\n",
    "\n",
    "*Provide the output **exactly** as requested*"
   ]
  },
  {
   "cell_type": "code",
   "execution_count": 1,
   "metadata": {},
   "outputs": [],
   "source": [
    "from copy import deepcopy"
   ]
  },
  {
   "cell_type": "markdown",
   "metadata": {},
   "source": [
    "## Decision Trees\n",
    "\n",
    "For this assignment you will be implementing and evaluating a Decision Tree using the ID3 Algorithm (**no** pruning or normalized information gain). Use the provided pseudocode. The data is located at (copy link):\n",
    "\n",
    "http://archive.ics.uci.edu/ml/datasets/Mushroom\n",
    "\n",
    "**Just in case** the UCI repository is down, which happens from time to time, I have included the data and name files on Blackboard.\n",
    "\n",
    "<div style=\"background: lemonchiffon; margin:20px; padding: 20px;\">\n",
    "    <strong>Important</strong>\n",
    "    <p>\n",
    "        No Pandas. The only acceptable libraries in this class are those contained in the `environment.yml`. No OOP, either. You can used Dicts, NamedTuples, etc. as your abstract data type (ADT) for the the tree and nodes.\n",
    "    </p>\n",
    "</div>\n",
    "\n",
    "One of the things we did not talk about in the lectures was how to deal with missing values. There are two aspects of the problem here. What do we do with missing values in the training data? What do we do with missing values when doing classifcation?\n",
    "\n",
    "For the first problem, C4.5 handled missing values in an interesting way. Suppose we have identifed some attribute *B* with values {b1, b2, b3} as the best current attribute. Furthermore, assume there are 5 observations with B=?, that is, we don't know the attribute value. In C4.5, those 5 observations would be added to *all* of the subsets created by B=b1, B=b2, B=b3 with decreased weights. Note that the observations with missing values are not part of the information gain calculation.\n",
    "\n",
    "This doesn't quite help us if we have missing values when we use the model. What happens if we have missing values during classification? One approach is to prepare for this advance. When you train the tree, you need to add an implicit attribute value \"?\" at every split. For example, if the attribute was \"size\" then the domain would be [\"small\", \"medium\", \"large\", \"?\"]. The \"?\" value gets all the data (because ? is now a wildcard). However, there is an issue with this approach. \"?\" becomes the worst possible attribut value because it has no classification value. What to do? There are several options:\n",
    "\n",
    "1. Never recurse on \"?\" if you do not also recurse on at least one *real* attribute value.\n",
    "2. Limit the depth of the tree.\n",
    "\n",
    "There are good reasons, in general, to limit the depth of a decision tree because they tend to overfit.\n",
    "Otherwise, the algorithm *will* exhaust all the attributes trying to fulfill one of the base cases.\n",
    "\n",
    "You must implement the following functions:\n",
    "\n",
    "`train` takes training_data and returns the Decision Tree as a data structure. There are many options including namedtuples and just plain old nested dictionaries. **No OOP**.\n",
    "\n",
    "```\n",
    "def train(training_data, depth_limit=None):\n",
    "   # returns the Decision Tree.\n",
    "```\n",
    "\n",
    "The `depth_limit` value defaults to None. (What technique would we use to determine the best parameter value for `depth_limit` hint: Module 3!)\n",
    "\n",
    "`classify` takes a tree produced from the function above and applies it to labeled data (like the test set) or unlabeled data (like some new data).\n",
    "\n",
    "```\n",
    "def classify(tree, observations, labeled=True):\n",
    "    # returns a list of classifications\n",
    "```\n",
    "\n",
    "`evaluate` takes a data set with labels (like the training set or test set) and the classification result and calculates the classification error rate:\n",
    "\n",
    "$$error\\_rate=\\frac{errors}{n}$$\n",
    "\n",
    "Do not use anything else as evaluation metric or the submission will be deemed incomplete, ie, an \"F\". (Hint: accuracy rate is not the error rate!).\n",
    "\n",
    "`cross_validate` takes the data and uses 10 fold cross validation (from Module 3!) to `train`, `classify`, and `evaluate`. **Remember to shuffle your data before you create your folds**. I leave the exact signature of `cross_validate` to you but you should write it so that you can use it with *any* `classify` function of the same form (using higher order functions and partial application).\n",
    "\n",
    "Following Module 3's discussion, `cross_validate` should print out the fold number and the evaluation metric (error rate) for each fold and then the average value (and the variance). What you are looking for here is a consistent evaluation metric cross the folds. You should print the error rates in terms of percents (ie, multiply the error rate by 100 and add \"%\" to the end).\n",
    "\n",
    "```\n",
    "def pretty_print_tree(tree):\n",
    "    # pretty prints the tree\n",
    "```\n",
    "\n",
    "This should be a text representation of a decision tree trained on the entire data set (no train/test).\n",
    "\n",
    "To summarize...\n",
    "\n",
    "Apply the Decision Tree algorithm to the Mushroom data set using 10 fold cross validation and the error rate as the evaluation metric. When you are done, apply the Decision Tree algorithm to the entire data set and print out the resulting tree.\n",
    "\n",
    "**Note** Because this assignment has a natural recursive implementation, you should consider using `deepcopy` at the appropriate places.\n",
    "\n",
    "-----"
   ]
  },
  {
   "cell_type": "code",
   "execution_count": 2,
   "metadata": {},
   "outputs": [],
   "source": [
    "from math import log2\n",
    "from copy import deepcopy\n",
    "from random import shuffle\n",
    "from typing import List, Dict, Tuple, Callable\n",
    "import matplotlib.pyplot as plt"
   ]
  },
  {
   "cell_type": "markdown",
   "metadata": {},
   "source": [
    "### Importing functions from Module 3\n",
    "The following modules from module three aid in the retrieval, fold creation, and train and test data splitting. The functions `mean()` and `variance()` compute the corresponding mean and variances of a list of floating values."
   ]
  },
  {
   "cell_type": "code",
   "execution_count": 3,
   "metadata": {},
   "outputs": [],
   "source": [
    "def parse_data(file_name: str, shuffle_ = False) -> []:\n",
    "    data = []\n",
    "    file = open(file_name, \"r\", encoding='utf-8-sig')\n",
    "    for line in file:\n",
    "        datum = [value for value in line.rstrip().split(\",\")]\n",
    "        data.append(datum)\n",
    "    if shuffle_:\n",
    "        shuffle(data)\n",
    "    return data\n",
    "\n",
    "def create_folds(xs: List, n: int) -> List[List[List]]:\n",
    "    k, m = divmod(len(xs), n)\n",
    "    # be careful of generators...\n",
    "    return list(xs[i * k + min(i, m):(i + 1) * k + min(i + 1, m)] for i in range(n))\n",
    "\n",
    "def create_train_test(folds: List[List[List]], index: int) -> Tuple[List[List], List[List]]:\n",
    "    training = []\n",
    "    test = []\n",
    "    for i, fold in enumerate(folds):\n",
    "        if i == index:\n",
    "            test = fold\n",
    "        else:\n",
    "            training = training + fold\n",
    "    return training, test\n",
    "\n",
    "def mean(list_: list) -> float:\n",
    "    mean_value = sum([val for val in list_])/len(list_)\n",
    "    return mean_value\n",
    "\n",
    "def variance(values: list):\n",
    "    mean_value = mean(values)\n",
    "    variance = sum([(val-mean_value)**2 for val in values])/(len(values)-1)\n",
    "    return variance"
   ]
  },
  {
   "cell_type": "markdown",
   "metadata": {},
   "source": [
    "In order to illustrate the proper execution of the functions, I will use the data set provided for the self-check for the assertions of every function and also before doing the cross-validation on the final mushroom dataset."
   ]
  },
  {
   "cell_type": "code",
   "execution_count": 4,
   "metadata": {},
   "outputs": [],
   "source": [
    "data = parse_data('SelfCheckData.csv')"
   ]
  },
  {
   "cell_type": "code",
   "execution_count": 5,
   "metadata": {},
   "outputs": [
    {
     "data": {
      "text/plain": [
       "[['round', 'large', 'blue', 'no'],\n",
       " ['square', 'large', 'green', 'yes'],\n",
       " ['square', 'small', 'red', 'no'],\n",
       " ['round', 'large', 'red', 'yes'],\n",
       " ['square', 'small', 'blue', 'no'],\n",
       " ['round', 'small', 'blue', 'no'],\n",
       " ['round', 'small', 'red', 'yes'],\n",
       " ['square', 'small', 'green', 'no'],\n",
       " ['round', 'large', 'green', 'yes'],\n",
       " ['square', 'large', 'green', 'yes'],\n",
       " ['square', 'large', 'red', 'no'],\n",
       " ['square', 'large', 'green', 'yes'],\n",
       " ['round', 'large', 'red', 'yes'],\n",
       " ['square', 'small', 'red', 'no'],\n",
       " ['round', 'small', 'green', 'no']]"
      ]
     },
     "execution_count": 5,
     "metadata": {},
     "output_type": "execute_result"
    }
   ],
   "source": [
    "data"
   ]
  },
  {
   "cell_type": "markdown",
   "metadata": {},
   "source": [
    "### Helper functions to the ID3 algorithm\n",
    "The ID3 algorithm implemented below uses a number of functions. I will now document each function as well as create assertions on them based on the data set provided in this module's self-check.\n",
    "\n",
    "#### total_entropy(data, target_variable)\n",
    "`total_entropy(data, target_variable)` computes the total entropy of the `target_variable` on the data. It returns a float that corresponds to the following formula:\n",
    "$$\n",
    "E[S] = - \\sum_i p_i \\log_2(p_i)\n",
    "$$\n",
    "The function returns a tuple of values to be used further down in the ID3 algorithm. The tuple contains `total_entropy` which corresponds to the value of the total entropy for the target variable, the `unique_target_labels`, the total number of `n` observations in the dataset, and finally a dictionary of the `label_count` for all the labels in the target variable,"
   ]
  },
  {
   "cell_type": "code",
   "execution_count": 6,
   "metadata": {},
   "outputs": [],
   "source": [
    "def total_entropy(data, target_variable):\n",
    "    unique_target_labels = []\n",
    "    label_count = {}\n",
    "    n = 0\n",
    "    for row in data:\n",
    "        if row[target_variable] not in unique_target_labels:\n",
    "            unique_target_labels.append(row[target_variable])\n",
    "            label_count[row[target_variable]] = 1\n",
    "        else:\n",
    "            label_count[row[target_variable]] += 1\n",
    "        n += 1\n",
    "    total_entropy = 0\n",
    "    for label in unique_target_labels:\n",
    "        total_entropy += -label_count[label]/n * log2(label_count[label]/n)\n",
    "    \n",
    "    return total_entropy, unique_target_labels, n, label_count"
   ]
  },
  {
   "cell_type": "code",
   "execution_count": 7,
   "metadata": {},
   "outputs": [],
   "source": [
    "t_entropy, unique_target_labels, n, label_count = total_entropy(data, 3)\n",
    "assert t_entropy == 0.9967916319816366\n",
    "assert unique_target_labels == ['no', 'yes']\n",
    "assert n == 15\n",
    "assert label_count == {'no': 8, 'yes': 7}"
   ]
  },
  {
   "cell_type": "markdown",
   "metadata": {},
   "source": [
    "#### `variable_entropy(data, variable, target_variable, unique_target_labels, n)`\n",
    "This function computes a particular variable's entropy. It takes as arguments the dataset `data`, the index location of the `variable`, the index location of the `target_variable`, the `unique_target_labels` from the `total_entropy()` function, and also the value of `n` from the `total_entropy()` function.\n",
    "The function returns a list which includes the index value of the `variable` in the dataset, the `unique_labels` corresponding to that `variable` and the `entropy` value for that `variable`."
   ]
  },
  {
   "cell_type": "code",
   "execution_count": 8,
   "metadata": {},
   "outputs": [],
   "source": [
    "def variable_entropy(data, variable, target_variable, unique_target_labels, n):\n",
    "    unique_labels = []\n",
    "    label_count = {}\n",
    "    for row in data:\n",
    "        if row[variable] not in unique_labels:\n",
    "            unique_labels.append(row[variable])\n",
    "            label_count[row[variable]] = {}\n",
    "            label_count[row[variable]]['target_counts'] = {}\n",
    "            label_count[row[variable]]['target_n'] = 0\n",
    "            for target_label in unique_target_labels:\n",
    "                label_count[row[variable]]['target_counts'][target_label] = 0\n",
    "                if row[target_variable] == target_label:\n",
    "                    label_count[row[variable]]['target_counts'][target_label] = 1\n",
    "                    label_count[row[variable]]['target_n'] += 1\n",
    "        else:\n",
    "            for target_label in unique_target_labels:\n",
    "                if row[target_variable] == target_label:\n",
    "                    label_count[row[variable]]['target_counts'][target_label] += 1\n",
    "                    label_count[row[variable]]['target_n'] += 1\n",
    "    entropy = 0\n",
    "    for label in unique_labels:\n",
    "        label_count[label]['entropy'] = 0\n",
    "        for target_label in label_count[label]['target_counts']:\n",
    "            if label_count[label]['target_counts'][target_label] > 0:\n",
    "                fraction = label_count[label]['target_counts'][target_label]/label_count[label]['target_n']\n",
    "                label_count[label]['entropy'] += -fraction*log2(fraction)\n",
    "        entropy += label_count[label]['target_n']/n*label_count[label]['entropy']\n",
    "    return [variable, unique_labels, entropy]"
   ]
  },
  {
   "cell_type": "code",
   "execution_count": 9,
   "metadata": {},
   "outputs": [],
   "source": [
    "entropies = [[0, ['round', 'square'], 0.9688045983759654],\n",
    "             [1, ['large', 'small'], 0.7087956297166236],\n",
    "             [2, ['blue', 'green', 'red'], 0.7673183336217959]]\n",
    "for variable in range(len(entropies)):\n",
    "    assert variable_entropy(data, variable, 3, unique_target_labels, n) == entropies[variable]"
   ]
  },
  {
   "cell_type": "markdown",
   "metadata": {},
   "source": [
    "#### pick_best_attribute(data, target_variable)\n",
    "Combines the results from `total_entropy(data, target_variable)` and `variable_entropy(data, atr, target_variable, unique_target_labels, n)` to build a sorted list of all the attributes. The list is sorted by their information gain. The information gain is given by the formula:\n",
    "$$\n",
    "G(S,A) = E(S) - \\sum_{v \\forall V_A} \\frac{|S_v|}{|S|} E(S_v)\n",
    "$$\n",
    "The function returns the attribute with the best information gain value."
   ]
  },
  {
   "cell_type": "code",
   "execution_count": 10,
   "metadata": {},
   "outputs": [],
   "source": [
    "def pick_best_attribute(data, target_variable):\n",
    "    t_entropy, unique_target_labels, n, label_count = total_entropy(data, target_variable)\n",
    "    atributes = [atr for atr in range(len(data[0])) if atr != target_variable]\n",
    "    inf_gain = []\n",
    "    for atr in atributes:\n",
    "        attr_entropy = variable_entropy(data, atr, target_variable, unique_target_labels, n)\n",
    "        attr_entropy.append(t_entropy - attr_entropy[2])\n",
    "        if len(inf_gain)==0:\n",
    "            inf_gain.append(attr_entropy)        \n",
    "        else:\n",
    "            for i in range(len(inf_gain)):\n",
    "                if attr_entropy[2] < inf_gain[i][2]:\n",
    "                    inf_gain.insert(i, attr_entropy)\n",
    "                    break\n",
    "    return inf_gain[0]"
   ]
  },
  {
   "cell_type": "code",
   "execution_count": 11,
   "metadata": {},
   "outputs": [],
   "source": [
    "assert pick_best_attribute(data, 3) == [1, ['large', 'small'], 0.7087956297166236, 0.287996002265013]"
   ]
  },
  {
   "cell_type": "markdown",
   "metadata": {},
   "source": [
    "#### new_node(best_attribute)\n",
    "Wrapper function which returns a dictionary with the components 'node' of the index value of the best attribute, and 'children' as the distinct labels of the best attribute."
   ]
  },
  {
   "cell_type": "code",
   "execution_count": 12,
   "metadata": {},
   "outputs": [],
   "source": [
    "def new_node(best_attribute):\n",
    "    node = {'node':best_attribute[0], 'children':best_attribute[1]}\n",
    "    return node"
   ]
  },
  {
   "cell_type": "code",
   "execution_count": 13,
   "metadata": {},
   "outputs": [],
   "source": [
    "best_attribute = pick_best_attribute(data, 3)\n",
    "assert new_node(best_attribute) == {'node': 1, 'children': ['large', 'small']}"
   ]
  },
  {
   "cell_type": "markdown",
   "metadata": {},
   "source": [
    "#### majority_label(label_count)\n",
    "The function `majority_label(label_count)` provides the mode label given a `label_count`. It produces the label with the highest frequency."
   ]
  },
  {
   "cell_type": "code",
   "execution_count": 14,
   "metadata": {},
   "outputs": [],
   "source": [
    "def majority_label(label_count):\n",
    "    labels = list(label_count.keys())\n",
    "    temp_majority = labels[0],label_count[labels[0]]\n",
    "    for label in labels[1:]:\n",
    "        comp_label = label,label_count[label]\n",
    "        if comp_label[1]>temp_majority[1]:\n",
    "            temp_majority = comp_label\n",
    "    return temp_majority[0]    "
   ]
  },
  {
   "cell_type": "code",
   "execution_count": 15,
   "metadata": {},
   "outputs": [],
   "source": [
    "assert majority_label(label_count) == 'no'"
   ]
  },
  {
   "cell_type": "markdown",
   "metadata": {},
   "source": [
    "#### is_homogeneous(label_count, n)\n",
    "`is_homogeneous(label_count, n)` returns the `label` when the frequency of a particular label equals the total number of observations given the `label_count`. Otherwise it returns `False`."
   ]
  },
  {
   "cell_type": "code",
   "execution_count": 16,
   "metadata": {},
   "outputs": [],
   "source": [
    "def is_homogeneous(label_count, n):\n",
    "    for label in label_count:\n",
    "        if label_count[label] == n:\n",
    "            return label\n",
    "    return False"
   ]
  },
  {
   "cell_type": "code",
   "execution_count": 17,
   "metadata": {},
   "outputs": [],
   "source": [
    "assert is_homogeneous({'red':5},5) == 'red'\n",
    "assert is_homogeneous({'red':4},5) == False"
   ]
  },
  {
   "cell_type": "markdown",
   "metadata": {},
   "source": [
    "#### subset(data, attribute, label)\n",
    "Creates and returns a `subset_data` dataset  for `data` where `attribute` equals `label`."
   ]
  },
  {
   "cell_type": "code",
   "execution_count": 18,
   "metadata": {},
   "outputs": [],
   "source": [
    "def subset(data, attribute, label):\n",
    "    subset_data = []\n",
    "    for row in data:\n",
    "        if row[attribute] == label:\n",
    "            subset_data.append(deepcopy(row))\n",
    "    return subset_data"
   ]
  },
  {
   "cell_type": "code",
   "execution_count": 19,
   "metadata": {},
   "outputs": [],
   "source": [
    "assert subset(data, 1, 'large') == [['round', 'large', 'blue', 'no'],\n",
    "                                    ['square', 'large', 'green', 'yes'],\n",
    "                                    ['round', 'large', 'red', 'yes'],\n",
    "                                    ['round', 'large', 'green', 'yes'],\n",
    "                                    ['square', 'large', 'green', 'yes'],\n",
    "                                    ['square', 'large', 'red', 'no'],\n",
    "                                    ['square', 'large', 'green', 'yes'],\n",
    "                                    ['round', 'large', 'red', 'yes']]"
   ]
  },
  {
   "cell_type": "markdown",
   "metadata": {},
   "source": [
    "### ID3 algorithm\n",
    "The ID3 algorithm belows implements the pseudo-code provided in the course, there are a couple of changes implemented, however; there is a max depth stop. the `max_depth` parameter indicates the early stop for the algorithm. Whenever the given iteration of the tree achieves a depth of `max_depth`, the function returns the majority label given by `majority_label`."
   ]
  },
  {
   "cell_type": "code",
   "execution_count": 20,
   "metadata": {},
   "outputs": [],
   "source": [
    "def id3(data, attributes, target_variable, default, level, max_depth = None):\n",
    "    \n",
    "    t_entropy, unique_target_labels, n, label_count = total_entropy(data, target_variable)\n",
    "    m_label = majority_label(label_count)\n",
    "    \n",
    "    if len(data)==0: \n",
    "        return default\n",
    "    label = is_homogeneous(label_count, n)\n",
    "    if label: \n",
    "        return label\n",
    "    if attributes is None or len(attributes)==0:\n",
    "        return m_label\n",
    "        \n",
    "    if level == max_depth:\n",
    "        return m_label\n",
    "    \n",
    "    level += 1\n",
    "    best_attribute = pick_best_attribute(data, target_variable)\n",
    "    node = new_node(best_attribute)\n",
    "    \n",
    "    \n",
    "    default_label = m_label\n",
    "    \n",
    "    domain_best_attribute = best_attribute[1]\n",
    "    for value in range(len(domain_best_attribute)):\n",
    "        data_subset = subset(data, best_attribute[0], domain_best_attribute[value])\n",
    "        new_attributes = [attr for attr in attributes if attr != best_attribute[0]]\n",
    "        child = id3(data_subset, new_attributes, target_variable, default_label, level, max_depth)        \n",
    "        parent= node['children']\n",
    "        parent[value] = {'edge':domain_best_attribute[value],'children':child}\n",
    "    \n",
    "    return node    "
   ]
  },
  {
   "cell_type": "code",
   "execution_count": 21,
   "metadata": {},
   "outputs": [],
   "source": [
    "node = id3(data, [0,1,2], 3, 'no', 0, 3)\n",
    "assert node == {'node': 1,\n",
    " 'children': [{'edge': 'large',\n",
    "   'children': {'node': 2,\n",
    "    'children': [{'edge': 'blue', 'children': 'no'},\n",
    "     {'edge': 'green', 'children': 'yes'},\n",
    "     {'edge': 'red',\n",
    "      'children': {'node': 0,\n",
    "       'children': [{'edge': 'round', 'children': 'yes'},\n",
    "        {'edge': 'square', 'children': 'no'}]}}]}},\n",
    "  {'edge': 'small',\n",
    "   'children': {'node': 0,\n",
    "    'children': [{'edge': 'square', 'children': 'no'},\n",
    "     {'edge': 'round',\n",
    "      'children': {'node': 2,\n",
    "       'children': [{'edge': 'blue', 'children': 'no'},\n",
    "        {'edge': 'red', 'children': 'yes'},\n",
    "        {'edge': 'green', 'children': 'no'}]}}]}}]}\n",
    "node2 = id3(data, [0,1,2], 3, 'no', 0, 1)\n",
    "assert node2 == {'node': 1,\n",
    " 'children': [{'edge': 'large', 'children': 'yes'},\n",
    "  {'edge': 'small', 'children': 'no'}]}"
   ]
  },
  {
   "cell_type": "markdown",
   "metadata": {},
   "source": [
    "#### replace_null(data_, target, null_marker)\n",
    "This function is used to handle missing observations. It creates a frequency table and replaces all the missing values given by the `null_marker` while taking into account its corresponding target value. That is, it replaces in the training data the modal value of the missing value taking into account it's corresponding target value."
   ]
  },
  {
   "cell_type": "code",
   "execution_count": 22,
   "metadata": {},
   "outputs": [],
   "source": [
    "def replace_null(data_, target, null_marker):\n",
    "\n",
    "    missing = []\n",
    "    missing_attributes = []\n",
    "    for row in range(len(data_)):\n",
    "        for col in range(len(data_[row])):\n",
    "            if data_[row][col] == null_marker:\n",
    "                missing.append([row,col,data_[row][target]])\n",
    "                if [col,data_[row][target]] not in missing_attributes:\n",
    "                    missing_attributes.append([col,data_[row][target]])\n",
    "\n",
    "    attr_frequencies = {}\n",
    "    for attr in missing_attributes:\n",
    "        for row in range(len(data_)):\n",
    "            if data_[row][target] == attr[1] and data_[row][attr[0]] != null_marker:\n",
    "                if attr[1] not in attr_frequencies.keys():\n",
    "                    attr_frequencies[attr[1]] = []\n",
    "                else:\n",
    "                    attr_frequencies[attr[1]].append(data_[row][attr[0]])\n",
    "\n",
    "    for attr in attr_frequencies:\n",
    "        temp_dict = {}\n",
    "        temp_frequencies = []\n",
    "        for val in attr_frequencies[attr]:        \n",
    "            if val not in temp_dict:\n",
    "                temp_dict[val] = 1\n",
    "            else:\n",
    "                temp_dict[val] += 1\n",
    "        for k in temp_dict:\n",
    "            temp_frequencies.append([k, temp_dict[k]])\n",
    "        temp_frequencies.sort(key= lambda x: x[1], reverse=True)\n",
    "        attr_frequencies[attr] = temp_frequencies[0][0]\n",
    "\n",
    "    for m in missing:\n",
    "        data_[m[0]][m[1]] = attr_frequencies[m[2]]"
   ]
  },
  {
   "cell_type": "markdown",
   "metadata": {},
   "source": [
    "#### `train(data, attributes, target_variable, default, max_depth = None, null_marker = '?')`\n",
    "This functions brings all of the functions previously defined together by first doing preprocessing of the training data by `replace_null()` and then creates a tree."
   ]
  },
  {
   "cell_type": "code",
   "execution_count": 23,
   "metadata": {},
   "outputs": [],
   "source": [
    "def train(data, attributes, target_variable, default, max_depth = None, null_marker = '?'):\n",
    "    replace_null(data, target_variable, null_marker)\n",
    "    tree = id3(data, attributes, target_variable, default, 0, max_depth)\n",
    "    return tree"
   ]
  },
  {
   "cell_type": "code",
   "execution_count": 24,
   "metadata": {},
   "outputs": [],
   "source": [
    "# keeping max depth at 1\n",
    "assert train(data, [0,1,2], 3, 'no', 1) == {'node': 1,\n",
    " 'children': [{'edge': 'large', 'children': 'yes'},\n",
    "  {'edge': 'small', 'children': 'no'}]}\n",
    "# without capping the depth\n",
    "assert train(data, [0,1,2], 3, 'no') == {'node': 1,\n",
    " 'children': [{'edge': 'large',\n",
    "   'children': {'node': 2,\n",
    "    'children': [{'edge': 'blue', 'children': 'no'},\n",
    "     {'edge': 'green', 'children': 'yes'},\n",
    "     {'edge': 'red',\n",
    "      'children': {'node': 0,\n",
    "       'children': [{'edge': 'round', 'children': 'yes'},\n",
    "        {'edge': 'square', 'children': 'no'}]}}]}},\n",
    "  {'edge': 'small',\n",
    "   'children': {'node': 0,\n",
    "    'children': [{'edge': 'square', 'children': 'no'},\n",
    "     {'edge': 'round',\n",
    "      'children': {'node': 2,\n",
    "       'children': [{'edge': 'blue', 'children': 'no'},\n",
    "        {'edge': 'red', 'children': 'yes'},\n",
    "        {'edge': 'green', 'children': 'no'}]}}]}}]}"
   ]
  },
  {
   "cell_type": "markdown",
   "metadata": {},
   "source": [
    "#### classify(tree, observation)\n",
    "Given a particular `observation`, the function `classify(tree, observation)` traverses the given `tree` and returns the classified value."
   ]
  },
  {
   "cell_type": "code",
   "execution_count": 25,
   "metadata": {},
   "outputs": [],
   "source": [
    "def classify(tree, observation):\n",
    "    if isinstance(tree['children'], str):\n",
    "        return tree['children']\n",
    "    elif isinstance(tree['children'], dict):\n",
    "        tree = tree['children']        \n",
    "        return classify(tree, observation)        \n",
    "    else:\n",
    "        label = observation[tree['node']]\n",
    "        correct_child = [child for child in range(len(tree['children'])) if tree['children'][child]['edge'] == label][0]\n",
    "        tree = tree['children'][correct_child]\n",
    "        return classify(tree, observation)"
   ]
  },
  {
   "cell_type": "code",
   "execution_count": 26,
   "metadata": {},
   "outputs": [],
   "source": [
    "assert classify(node, ['round', 'large', 'red', 'yes']) == 'yes'\n",
    "assert classify(node, ['square', 'small', 'red', 'no']) == 'no'"
   ]
  },
  {
   "cell_type": "markdown",
   "metadata": {},
   "source": [
    "#### `evaluate(tree, evaluation_data, attributes, target_variable)`\n",
    "This function uses `classify()` and the corresponding true values to compute the error rate provided the `tree` used for classification. The error is given by the specification of the problem above."
   ]
  },
  {
   "cell_type": "code",
   "execution_count": 27,
   "metadata": {},
   "outputs": [],
   "source": [
    "def evaluate(tree, evaluation_data, attributes, target_variable):\n",
    "    evaluation_features = [[row[atr] for atr in attributes] for row in evaluation_data]\n",
    "    evaluation_target = [row[target_variable] for row in evaluation_data]\n",
    "    evluation_classification = [classify(tree, row) for row in evaluation_features]\n",
    "    n = len(evaluation_target)\n",
    "    error = sum([evaluation_target[i]!=evluation_classification[i] for i in range(n)])\n",
    "    return error/n"
   ]
  },
  {
   "cell_type": "code",
   "execution_count": 28,
   "metadata": {},
   "outputs": [],
   "source": [
    "assert evaluate(node, data, [0,1,2], 3) == 0.0"
   ]
  },
  {
   "cell_type": "markdown",
   "metadata": {},
   "source": [
    "#### `pretty_print(tree, depth=0, attr_dict=None)`\n",
    "This function prints a readable version of the dictionary based `tree`. If an `attr_dict` is passed it uses the actual name of each attribute, otherwise it uses the index value among all of the data attributes (target attribute excluded). "
   ]
  },
  {
   "cell_type": "code",
   "execution_count": 29,
   "metadata": {},
   "outputs": [],
   "source": [
    "def pretty_print(tree, depth=0, attr_dict=None):\n",
    "    if isinstance(tree, str):\n",
    "        \n",
    "        print(depth*'\\t',f\"then {tree}\")\n",
    "    elif isinstance(tree, dict):\n",
    "        if 'node' in tree.keys():\n",
    "            print(depth*'\\t',f\"Consider {tree['node'] if attr_dict is None else attr_dict[tree['node']]}:\")\n",
    "            depth +=1\n",
    "            tree = tree['children']\n",
    "            pretty_print(tree, depth, attr_dict)\n",
    "        else:\n",
    "            print(depth*'\\t',f\"If {tree['edge']}:\")\n",
    "            depth +=1\n",
    "            tree = tree['children']\n",
    "            pretty_print(tree, depth, attr_dict)\n",
    "    else:\n",
    "        for i in range(len(tree)):\n",
    "            pretty_print(tree[i], depth, attr_dict)\n",
    "        "
   ]
  },
  {
   "cell_type": "code",
   "execution_count": 30,
   "metadata": {},
   "outputs": [
    {
     "name": "stdout",
     "output_type": "stream",
     "text": [
      " Consider Size:\n",
      "\t If large:\n",
      "\t\t Consider Color:\n",
      "\t\t\t If blue:\n",
      "\t\t\t\t then no\n",
      "\t\t\t If green:\n",
      "\t\t\t\t then yes\n",
      "\t\t\t If red:\n",
      "\t\t\t\t Consider Shape:\n",
      "\t\t\t\t\t If round:\n",
      "\t\t\t\t\t\t then yes\n",
      "\t\t\t\t\t If square:\n",
      "\t\t\t\t\t\t then no\n",
      "\t If small:\n",
      "\t\t Consider Shape:\n",
      "\t\t\t If square:\n",
      "\t\t\t\t then no\n",
      "\t\t\t If round:\n",
      "\t\t\t\t Consider Color:\n",
      "\t\t\t\t\t If blue:\n",
      "\t\t\t\t\t\t then no\n",
      "\t\t\t\t\t If red:\n",
      "\t\t\t\t\t\t then yes\n",
      "\t\t\t\t\t If green:\n",
      "\t\t\t\t\t\t then no\n"
     ]
    }
   ],
   "source": [
    "pretty_print(node, 0, {0:'Shape',1:'Size',2:'Color'})"
   ]
  },
  {
   "cell_type": "markdown",
   "metadata": {},
   "source": [
    "### Cross validation on mushroom data\n",
    "The procedure below uses the functions defined above to implement 10 fold cross validation on the mushroom data set provided in the assignment. The base model used is simply choosing the label 'p' for all observations. A couple of important things to note are:\n",
    "1. We do random shuffling in the `parse_data()` function,\n",
    "2. We use `create_folds()` to create all ten folds,\n",
    "3. We use `create_train_test()` to create the train and test data sets."
   ]
  },
  {
   "cell_type": "code",
   "execution_count": 31,
   "metadata": {},
   "outputs": [
    {
     "name": "stdout",
     "output_type": "stream",
     "text": [
      "Error Rate by Fold: Tree Vs. Base\n",
      "Fold     Tree(%)       Base(%)\n",
      "1         50.68          51.91\n",
      "2         49.32          51.29\n",
      "3         50.92          52.64\n",
      "4         47.36          49.69\n",
      "5         49.38          51.85\n",
      "6         51.23          52.96\n",
      "7         47.17          49.63\n",
      "8         48.89          52.09\n",
      "9         54.93          57.27\n",
      "10        46.67          48.65\n",
      "Mean      49.66          51.80\n",
      "Var.      6.00            5.71\n"
     ]
    }
   ],
   "source": [
    "mushroom_data = parse_data('agaricus-lepiota.data', True)\n",
    "fold_label = 'Fold'\n",
    "knn_mse_label = 'Tree(%)'\n",
    "base_mse_label = 'Base(%)'\n",
    "mean_label = \"Mean\"\n",
    "variance_label = 'Var.'\n",
    "\n",
    "folds = create_folds(mushroom_data, 10)\n",
    "base_errors = []\n",
    "model_errors = []\n",
    "tree = None\n",
    "print('Error Rate by Fold: Tree Vs. Base')\n",
    "print(f\"\"\"{fold_label : <5}{knn_mse_label : ^15}{base_mse_label : >10}\"\"\")\n",
    "for i in range(len(folds)):\n",
    "    training, test = create_train_test(folds, i)    \n",
    "    y = [sample[0] for sample in test]       \n",
    "\n",
    "    base_y_hat = ['p' for sample in test]\n",
    "    base_error = sum([y[i] != base_y_hat[i] for i in range(len(test))])\n",
    "    base_error_rate = base_error/len(test)\n",
    "    base_errors.append(base_error_rate)\n",
    "\n",
    "    tree = train(training, range(1,23), 0, 'e', 4)\n",
    "    error_rate = evaluate(tree, test, range(1,23), 0)\n",
    "    model_errors.append(error_rate)\n",
    "\n",
    "    print(f\"\"\"{i+1 : <5}{error_rate*100 : ^15.2f}{base_error_rate*100 : >10.2f}\"\"\")\n",
    "\n",
    "base_mean = mean(base_errors)\n",
    "model_mean = mean(model_errors)\n",
    "print(f\"\"\"{mean_label : <5}{model_mean*100 : ^15.2f}\\\n",
    "{base_mean*100 : >10.2f}\"\"\")\n",
    "\n",
    "base_variance = variance([error*100 for error in base_errors])\n",
    "model_variance = variance([error*100 for error in model_errors])\n",
    "\n",
    "print(f\"\"\"{variance_label : <5}{model_variance : ^15.2f}\\\n",
    "{base_variance : >10.2f}\"\"\")   "
   ]
  },
  {
   "cell_type": "markdown",
   "metadata": {},
   "source": [
    "The results above indicate tha the average tree beats slightly the based model. Below is a graphical representation of the error rates in the tree based models and the base models."
   ]
  },
  {
   "cell_type": "code",
   "execution_count": 32,
   "metadata": {},
   "outputs": [
    {
     "data": {
      "image/png": "[encoded data removed]",
      "text/plain": [
       "<Figure size 720x504 with 1 Axes>"
      ]
     },
     "metadata": {
      "needs_background": "light"
     },
     "output_type": "display_data"
    }
   ],
   "source": [
    "fig = plt.figure(figsize=(10, 7))\n",
    "plt.plot(range(1,len(model_errors)+1),model_errors, label='Model Error Rates')\n",
    "plt.plot(range(1,len(base_errors)+1),base_errors, label = 'Base Error Rates')\n",
    "plt.xlabel(\"Fold\")\n",
    "plt.ylabel(\"Error Rate\")\n",
    "plt.legend(fontsize=12)\n",
    "plt.title('Model Error Rates vs. Base Error Rates')\n",
    "plt.show()"
   ]
  },
  {
   "cell_type": "code",
   "execution_count": 33,
   "metadata": {},
   "outputs": [
    {
     "name": "stdout",
     "output_type": "stream",
     "text": [
      " Consider 5:\n",
      "\t If f:\n",
      "\t\t then p\n",
      "\t If y:\n",
      "\t\t then p\n",
      "\t If s:\n",
      "\t\t then p\n",
      "\t If n:\n",
      "\t\t Consider 20:\n",
      "\t\t\t If n:\n",
      "\t\t\t\t then e\n",
      "\t\t\t If k:\n",
      "\t\t\t\t then e\n",
      "\t\t\t If w:\n",
      "\t\t\t\t Consider 22:\n",
      "\t\t\t\t\t If g:\n",
      "\t\t\t\t\t\t then e\n",
      "\t\t\t\t\t If w:\n",
      "\t\t\t\t\t\t then e\n",
      "\t\t\t\t\t If d:\n",
      "\t\t\t\t\t\t Consider 8:\n",
      "\t\t\t\t\t\t\t If n:\n",
      "\t\t\t\t\t\t\t\t then p\n",
      "\t\t\t\t\t\t\t If b:\n",
      "\t\t\t\t\t\t\t\t then e\n",
      "\t\t\t\t\t If p:\n",
      "\t\t\t\t\t\t then e\n",
      "\t\t\t\t\t If l:\n",
      "\t\t\t\t\t\t Consider 3:\n",
      "\t\t\t\t\t\t\t If n:\n",
      "\t\t\t\t\t\t\t\t then e\n",
      "\t\t\t\t\t\t\t If c:\n",
      "\t\t\t\t\t\t\t\t then e\n",
      "\t\t\t\t\t\t\t If w:\n",
      "\t\t\t\t\t\t\t\t then p\n",
      "\t\t\t\t\t\t\t If y:\n",
      "\t\t\t\t\t\t\t\t then p\n",
      "\t\t\t If r:\n",
      "\t\t\t\t then p\n",
      "\t\t\t If h:\n",
      "\t\t\t\t then e\n",
      "\t\t\t If y:\n",
      "\t\t\t\t then e\n",
      "\t\t\t If o:\n",
      "\t\t\t\t then e\n",
      "\t\t\t If b:\n",
      "\t\t\t\t then e\n",
      "\t If p:\n",
      "\t\t then p\n",
      "\t If l:\n",
      "\t\t then e\n",
      "\t If a:\n",
      "\t\t then e\n",
      "\t If c:\n",
      "\t\t then p\n",
      "\t If m:\n",
      "\t\t then p\n"
     ]
    }
   ],
   "source": [
    "pretty_print(tree)"
   ]
  },
  {
   "cell_type": "markdown",
   "metadata": {},
   "source": [
    "## Before You Submit...\n",
    "\n",
    "1. Did you provide output exactly as requested?\n",
    "2. Did you re-execute the entire notebook? (\"Restart Kernel and Rull All Cells...\")\n",
    "3. If you did not complete the assignment or had difficulty please explain what gave you the most difficulty in the Markdown cell below.\n",
    "4. Did you change the name of the file to `jhed_id.ipynb`?\n",
    "\n",
    "Do not submit any other files."
   ]
  },
  {
   "cell_type": "markdown",
   "metadata": {},
   "source": []
  }
 ],
 "metadata": {
  "kernelspec": {
   "display_name": "Python 3 (ipykernel)",
   "language": "python",
   "name": "python3"
  },
  "language_info": {
   "codemirror_mode": {
    "name": "ipython",
    "version": 3
   },
   "file_extension": ".py",
   "mimetype": "text/x-python",
   "name": "python",
   "nbconvert_exporter": "python",
   "pygments_lexer": "ipython3",
   "version": "3.9.7"
  },
  "toc": {
   "colors": {
    "hover_highlight": "#DAA520",
    "navigate_num": "#000000",
    "navigate_text": "#333333",
    "running_highlight": "#FF0000",
    "selected_highlight": "#FFD700",
    "sidebar_border": "#EEEEEE",
    "wrapper_background": "#FFFFFF"
   },
   "moveMenuLeft": true,
   "nav_menu": {
    "height": "81px",
    "width": "252px"
   },
   "navigate_menu": true,
   "number_sections": true,
   "sideBar": true,
   "threshold": 4,
   "toc_cell": false,
   "toc_section_display": "block",
   "toc_window_display": false,
   "widenNotebook": false
  }
 },
 "nbformat": 4,
 "nbformat_minor": 4
}
