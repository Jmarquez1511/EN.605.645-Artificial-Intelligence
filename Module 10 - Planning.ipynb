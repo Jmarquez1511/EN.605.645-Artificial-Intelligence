{
 "cells": [
  {
   "cell_type": "markdown",
   "metadata": {},
   "source": [
    "# Module 10 - Programming Assignment\n",
    "\n",
    "## Directions\n",
    "\n",
    "1. Change the name of this file to be your JHED id as in `jsmith299.ipynb`. Because sure you use your JHED ID (it's made out of your name and not your student id which is just letters and numbers).\n",
    "2. Make sure the notebook you submit is cleanly and fully executed. I do not grade unexecuted notebooks.\n",
    "3. Submit your notebook back in Blackboard where you downloaded this file.\n",
    "\n",
    "*Provide the output **exactly** as requested*"
   ]
  },
  {
   "cell_type": "markdown",
   "metadata": {},
   "source": [
    "# Forward Planner\n",
    "\n",
    "## Unify\n",
    "\n",
    "Use the accompanying `unification.py` file for unification. For this assignment, you're almost certainly going to want to be able to:\n",
    "\n",
    "1. specify the problem in terms of S-expressions.\n",
    "2. parse them.\n",
    "3. work with the parsed versions.\n",
    "\n",
    "`parse` and `unification` work exactly like the programming assignment for last time."
   ]
  },
  {
   "cell_type": "code",
   "execution_count": 1,
   "metadata": {},
   "outputs": [],
   "source": [
    "from unification import parse, unification, is_variable\n",
    "from copy import deepcopy"
   ]
  },
  {
   "cell_type": "markdown",
   "metadata": {},
   "source": [
    "## Forward Planner\n",
    "\n",
    "In this assigment, you're going to implement a Forward Planner. What does that mean? If you look in your book, you will not find pseudocode for a forward planner. It just says \"use state space search\" but this is less than helpful and it's a bit more complicated than that. **(but please please do not try to implement STRIPS or GraphPlan...that is wrong).**\n",
    "\n",
    "At a high level, a forward planner takes the current state of the world $S_0$ and attempts to derive a plan, basically by Depth First Search. We have all the ingredients we said we would need in Module 1: states, actions, a transition function and a goal test. We have a set of predicates that describe a state (and therefore all possible states), we have actions and we have, at least, an implicit transition function: applying an action in a state causes the state to change as described by the add and delete lists.\n",
    "\n",
    "Let's say we have a drill that's an item, two places such as home and store, and we know that I'm at home and the drill is at the store and I want to go buy a drill (have it be at home). We might represent that as:\n",
    "\n",
    "<code>\n",
    "start_state = [\n",
    "    \"(item Saw)\",\n",
    "    \"(item Drill)\",\n",
    "    \"(place Home)\",\n",
    "    \"(place Store)\",\n",
    "    \"(place Bank)\",\n",
    "    \"(agent Me)\",\n",
    "    \"(at Me Home)\",\n",
    "    \"(at Saw Store)\",\n",
    "    \"(at Drill Store)\",\n",
    "    \"(at Money Bank)\"\n",
    "]\n",
    "</code>\n",
    "\n",
    "And we have a goal state:\n",
    "\n",
    "<code>\n",
    "goal = [\n",
    "    \"(item Saw)\",\n",
    "    \"(item Drill)\",\n",
    "    \"(place Home)\",\n",
    "    \"(place Store)\",\n",
    "    \"(place Bank)\",\n",
    "    \"(agent Me)\",\n",
    "    \"(at Me Home)\",\n",
    "    \"(at Drill Me)\",\n",
    "    \"(at Saw Store)\",\n",
    "    \"(at Money Bank)\"\n",
    "]\n",
    "</code>\n",
    "\n",
    "The actions/operators are:\n",
    "\n",
    "<code>\n",
    "actions = {\n",
    "    \"drive\": {\n",
    "        \"action\": \"(drive ?agent ?from ?to)\",\n",
    "        \"conditions\": [\n",
    "            \"(agent ?agent)\",\n",
    "            \"(place ?from)\",\n",
    "            \"(place ?to)\",\n",
    "            \"(at ?agent ?from)\"\n",
    "        ],\n",
    "        \"add\": [\n",
    "            \"(at ?agent ?to)\"\n",
    "        ],\n",
    "        \"delete\": [\n",
    "            \"(at ?agent ?from)\"\n",
    "        ]\n",
    "    },\n",
    "    \"buy\": {\n",
    "        \"action\": \"(buy ?purchaser ?seller ?item)\",\n",
    "        \"conditions\": [\n",
    "            \"(item ?item)\",\n",
    "            \"(place ?seller)\",\n",
    "            \"(agent ?purchaser)\",\n",
    "            \"(at ?item ?seller)\",\n",
    "            \"(at ?purchaser ?seller)\"\n",
    "        ],\n",
    "        \"add\": [\n",
    "            \"(at ?item ?purchaser)\"\n",
    "        ],\n",
    "        \"delete\": [\n",
    "            \"(at ?item ?seller)\"\n",
    "        ]\n",
    "    }\n",
    "}\n",
    "</code>\n",
    "\n",
    "These will all need to be parsed from s-expressions to the underlying Python representation before you can use them. You might as well do it at the start of your algorithm, once. The order of the conditions is *not* arbitrary. It is much, much better for the unification and backtracking if you have the \"type\" predicates (item, place, agent) before the more complex ones. Trust me on this.\n",
    "\n",
    "As for the algorithm itself, there is going to be an *outer* level of search and an *inner* level of search.\n",
    "\n",
    "The *outer* level of search that is exactly what I describe here: you have a state, you generate successor states by applying actions to the current state, you examine those successor states as we did at the first week of the semester and if one is the goal you stop, if you see a repeat state, you put it on the explored list (you should implement graph search not tree search). What could be simpler?\n",
    "\n",
    "It turns out the Devil is in the details. There is an *inner* level of search hidden in \"you generate successor states by applying actions to the current state\". Where?\n",
    "\n",
    "How do you know if an action applies in a state? Only if the preconditions successfully unify with the current state. That seems easy enough...you check each predicate in the conditions to see if it unifies with the current state and if it does, you use the substitution list on the action, the add and delete lists and create the successor state based on them.\n",
    "\n",
    "Except for one small problem...there may be more than one way to unify an action with the current state. You must essentially search for all successful unifications of the candidate action and the current state. This is where my question through the semester appliesm, \"how would you modify state space search to return all the paths to the goal?\"\n",
    "\n",
    "Unification can be seen as state space search by trying to unify the first precondition with the current state, progressively working your way through the precondition list. If you fail at any point, you may need to backtrack because there might have been another unification of that predicate that would succeed. Similarly, as already mentioned, there may be more than one.\n",
    "\n",
    "So...by using unification and a properly defined <code>successors</code> function, you should be able to apply graph based search to the problem and return a \"path\" through the states from the initial state to the goal. You'll definitely want to use graph-based search since <code>( drive Me Store), (drive Me Home), (drive Me Store), (drive Me Home), (drive Me Store), (buy Me Store Drill), (drive Me Home)</code> is a valid plan.\n",
    "\n",
    "Your function should return the plan...a list of actions, fully instantiated, for the agent to do in order: [a1, a2, a3]. If you pass an extra intermediate=True parameter, it should also return the resulting state of each action: [s0, a1, s1, a2, s2, a3, s3].\n",
    "\n",
    "-----"
   ]
  },
  {
   "cell_type": "markdown",
   "metadata": {},
   "source": [
    "(you can just overwrite that one and add as many others as you need). Remember to follow the **Guidelines**.\n",
    "\n",
    "\n",
    "-----\n",
    "\n",
    "So you need to implement `forward_planner` as described above. `start_state`, `goal` and `actions` should all have the layout above and be s-expressions.\n",
    "\n",
    "Your implementation should return the plan as a **List of instantiated actions**. If `debug=True`, you should print out the intermediate states of the plan as well."
   ]
  },
  {
   "cell_type": "code",
   "execution_count": 2,
   "metadata": {},
   "outputs": [],
   "source": [
    "def forward_planner( start_state, goal, actions, debug=False):\n",
    "    return []"
   ]
  },
  {
   "cell_type": "markdown",
   "metadata": {},
   "source": [
    "You will be solving the problem from above. Here is the start state:"
   ]
  },
  {
   "cell_type": "code",
   "execution_count": 3,
   "metadata": {},
   "outputs": [],
   "source": [
    "start_state = [\n",
    "    \"(item Saw)\",\n",
    "    \"(item Drill)\",\n",
    "    \"(place Home)\",\n",
    "    \"(place Store)\",\n",
    "    \"(place Bank)\",\n",
    "    \"(agent Me)\",\n",
    "    \"(at Me Home)\",\n",
    "    \"(at Saw Store)\",\n",
    "    \"(at Drill Store)\"\n",
    "]"
   ]
  },
  {
   "cell_type": "markdown",
   "metadata": {},
   "source": [
    "The goal state:"
   ]
  },
  {
   "cell_type": "code",
   "execution_count": 4,
   "metadata": {
    "tags": []
   },
   "outputs": [],
   "source": [
    "goal = [\n",
    "    \"(item Saw)\",    \n",
    "    \"(item Drill)\",\n",
    "    \"(place Home)\",\n",
    "    \"(place Store)\",\n",
    "    \"(place Bank)\",    \n",
    "    \"(agent Me)\",\n",
    "    \"(at Me Home)\",\n",
    "    \"(at Drill Me)\",\n",
    "    \"(at Saw Store)\"    \n",
    "]"
   ]
  },
  {
   "cell_type": "markdown",
   "metadata": {},
   "source": [
    "and the actions/operators:"
   ]
  },
  {
   "cell_type": "code",
   "execution_count": 5,
   "metadata": {},
   "outputs": [],
   "source": [
    "actions = {\n",
    "    \"drive\": {\n",
    "        \"action\": \"(drive ?agent ?from ?to)\",\n",
    "        \"conditions\": [\n",
    "            \"(agent ?agent)\",\n",
    "            \"(place ?from)\",\n",
    "            \"(place ?to)\",\n",
    "            \"(at ?agent ?from)\"\n",
    "        ],\n",
    "        \"add\": [\n",
    "            \"(at ?agent ?to)\"\n",
    "        ],\n",
    "        \"delete\": [\n",
    "            \"(at ?agent ?from)\"\n",
    "        ]\n",
    "    },\n",
    "    \"buy\": {\n",
    "        \"action\": \"(buy ?purchaser ?seller ?item)\",\n",
    "        \"conditions\": [\n",
    "            \"(item ?item)\",\n",
    "            \"(place ?seller)\",\n",
    "            \"(agent ?purchaser)\",\n",
    "            \"(at ?item ?seller)\",\n",
    "            \"(at ?purchaser ?seller)\"\n",
    "        ],\n",
    "        \"add\": [\n",
    "            \"(at ?item ?purchaser)\"\n",
    "        ],\n",
    "        \"delete\": [\n",
    "            \"(at ?item ?seller)\"\n",
    "        ]\n",
    "    }\n",
    "}"
   ]
  },
  {
   "cell_type": "markdown",
   "metadata": {},
   "source": [
    "**Note** The facts for each state are really an ordered set. When comparing two states, you may need to convert them to a Set first."
   ]
  },
  {
   "cell_type": "markdown",
   "metadata": {},
   "source": [
    "### Parsing the input data\n",
    "First, we need to use the provided functions `parse()` and `unification()` to be able to handle the inputs. \n",
    "#### parse_actions(actions)\n",
    "Takes a dictionary of `actions` and traverses it while using `parse()` to convert the inputs into s expressions that can be used later for further evaluation."
   ]
  },
  {
   "cell_type": "code",
   "execution_count": 6,
   "metadata": {},
   "outputs": [],
   "source": [
    "def parse_actions(actions):\n",
    "    for action in actions.keys():   \n",
    "        for key in actions[action].keys():\n",
    "            if isinstance(actions[action][key],list):\n",
    "                actions[action][key] = [parse(s) for s in actions[action][key]]\n",
    "            else:\n",
    "                actions[action][key] = parse(actions[action][key])\n",
    "    return actions"
   ]
  },
  {
   "cell_type": "code",
   "execution_count": 7,
   "metadata": {},
   "outputs": [],
   "source": [
    "sample_actions = {'fly':{'action':\"(fly ?plane ?from ?to)\",\n",
    "                       'conditions':['(plane ?plane)','(airport ?to)','(airport ?from)','(at ?plane ?from)'],\n",
    "                       'add':['(at ?plane ?to)'],\n",
    "                       'delete':['(at ?plane ?from)']}}\n",
    "\n",
    "sample_actions = parse_actions(sample_actions)\n",
    "\n",
    "assert sample_actions == {'fly': {'action': ['fly', '?plane', '?from', '?to'],\n",
    "                                                 'conditions': [['plane', '?plane'],\n",
    "                                                                ['airport', '?to'],\n",
    "                                                                ['airport', '?from'],\n",
    "                                                                ['at', '?plane', '?from']],\n",
    "                                                 'add': [['at', '?plane', '?to']],\n",
    "                                                 'delete': [['at', '?plane', '?from']]}}"
   ]
  },
  {
   "cell_type": "markdown",
   "metadata": {},
   "source": [
    "### Generating valid actions\n",
    "As indicated above in the instructions, we need to implement a two-fold state space search, the functions in this section will provide a mechanism to search through actions with validation, and generating a set of possible actions to take. In order to store the information. The overall function that implements this is `search_actions()`. Each possible action will be store in an `action_node` while each particular node will be stored in a `node`.\n",
    "\n",
    "#### build_action_node(action, actions)\n",
    "An `action_node` corresponds to a dictionary with the unfication provided substitutions stored in the `substitutions` key, and the conditions of the given `action` stored in the `conditions` key. At the point of creation, a node has no substitutions and those will be filled in once the action node is unified later in the procedure. `action` corresponds to the name of the action to be in the node and `actions` corresponds to the dictionary of all available actions."
   ]
  },
  {
   "cell_type": "code",
   "execution_count": 8,
   "metadata": {},
   "outputs": [],
   "source": [
    "def build_action_node(action, actions):\n",
    "    action_node = {'substitutions':{},'conditions':actions[action]['conditions']}\n",
    "    return action_node"
   ]
  },
  {
   "cell_type": "code",
   "execution_count": 9,
   "metadata": {},
   "outputs": [],
   "source": [
    "sample_action_node = build_action_node('fly',sample_actions)\n",
    "assert sample_action_node == {'substitutions': {},\n",
    "                              'conditions': [['plane', '?plane'],\n",
    "                                             ['airport', '?to'],\n",
    "                                             ['airport', '?from'],\n",
    "                                             ['at', '?plane', '?from']]}"
   ]
  },
  {
   "cell_type": "code",
   "execution_count": 10,
   "metadata": {},
   "outputs": [],
   "source": [
    "def add_substitutions(dict1, dict2):\n",
    "    for key in dict1:\n",
    "        if key in dict2 and dict1[key]!=dict2[key]:\n",
    "            return None\n",
    "        else:\n",
    "            dict1.update(dict2)\n",
    "            return dict1"
   ]
  },
  {
   "cell_type": "code",
   "execution_count": 11,
   "metadata": {},
   "outputs": [],
   "source": [
    "dict1 = {'?y': 'Barney', '?x': 'Bam_Bam'}\n",
    "dict2 = {'?z': 'William'}\n",
    "assert add_substitutions(dict1, dict2) == {'?y': 'Barney', '?x': 'Bam_Bam', '?z': 'William'}\n",
    "\n",
    "dict1 = {'?y': 'Barney', '?x': 'Bam_Bam'}\n",
    "dict2 = {'?y': 'William'}\n",
    "assert add_substitutions(dict1, dict2) == None\n",
    "\n",
    "dict1 = {'?y': 'Barney', '?x': 'Bam_Bam'}\n",
    "dict2 = {'?y': 'Barney','?z':'Rigus'}\n",
    "assert add_substitutions(dict1, dict2) == {'?y': 'Barney', '?x': 'Bam_Bam', '?z': 'Rigus'}"
   ]
  },
  {
   "cell_type": "markdown",
   "metadata": {},
   "source": [
    "#### `find_action_successors(action_node, predicates)`\n",
    "`find_action_successors()` looks and creates all the possible combination successors of a given `action_node` for given `predicates` on a state space. The function makes use of the `unification()` function to make replacements as needed when generating action successors. Keep in mind that this function does not take into account validation of actions. This will be done later on in the program. The function returns a dictionary of substitutions in which the dictionary of substitutions is not None."
   ]
  },
  {
   "cell_type": "code",
   "execution_count": 12,
   "metadata": {},
   "outputs": [],
   "source": [
    "def find_action_successors(action_node, predicates):\n",
    "    successors = []\n",
    "    if len(action_node['conditions']) == 0:\n",
    "        return successors\n",
    "    condition = action_node['conditions'][0]\n",
    "    for predicate in predicates:        \n",
    "        unified = unification(condition, predicate)\n",
    "        if not unified:\n",
    "            continue\n",
    "        new_substitutions = add_substitutions(unified, action_node['substitutions'])\n",
    "        if new_substitutions is not None:\n",
    "            successor = {'substitutions':unified, 'conditions':action_node['conditions'][1:]}\n",
    "            successors.append(successor)\n",
    "    return successors"
   ]
  },
  {
   "cell_type": "code",
   "execution_count": 13,
   "metadata": {},
   "outputs": [],
   "source": [
    "sample_state = ['(plane 1973)','(plane 2749)',\n",
    "                '(airport SFO)','(airport JFK)','(airport ORD)',\n",
    "                '(at 1973 SFO)','(at 2749 JFK)','(at 97 ORD)','(at 1211 SFO)']\n",
    "sample_state = [parse(predicate) for predicate in sample_state]\n",
    "\n",
    "sample_action_successors = find_action_successors(sample_action_node, sample_state)\n",
    "\n",
    "assert sample_action_successors == [{'substitutions': {'?plane': '1973'},\n",
    "                                     'conditions': [['airport', '?to'],\n",
    "                                                    ['airport', '?from'],\n",
    "                                                    ['at', '?plane', '?from']]},\n",
    "                                    {'substitutions': {'?plane': '2749'},\n",
    "                                     'conditions': [['airport', '?to'],\n",
    "                                                    ['airport', '?from'],\n",
    "                                                    ['at', '?plane', '?from']]}]"
   ]
  },
  {
   "cell_type": "markdown",
   "metadata": {},
   "source": [
    "#### `search_actions(state, action, actions)`\n",
    "The `search_actions()` function serves the purpose of creating possible combinations of actions and agents given the `state`, `action`, and available `actions`. The function makes use of the previously defined `find_action_successors()` function to find all available combinations. These combinations are later evaluated in `build_state()` below. This function therefore implements the inner state search as it initiates a frontier, and then uses DFS to navigate the frontier until all available actions are exhausted. The function returns a list of viable substitution lists. "
   ]
  },
  {
   "cell_type": "code",
   "execution_count": 14,
   "metadata": {},
   "outputs": [],
   "source": [
    "def search_actions(state, action, actions):\n",
    "    viable = []\n",
    "    frontier = [build_action_node(action, actions)]\n",
    "    while len(frontier) != 0:\n",
    "        current_node = frontier.pop(0)\n",
    "        if len(current_node['conditions']) == 0:\n",
    "            viable.append(current_node['substitutions'])\n",
    "        for action_node in find_action_successors(current_node, state):\n",
    "            frontier.append(action_node)\n",
    "    return viable       "
   ]
  },
  {
   "cell_type": "code",
   "execution_count": 15,
   "metadata": {},
   "outputs": [],
   "source": [
    "sample_search_actions = search_actions(sample_state, 'fly', sample_actions)\n",
    "# there are a total of 2 planes \n",
    "# a total of 3 airports to be from\n",
    "# and a total of 3 airports to be to\n",
    "# the total number of available actions (although not logically sound)\n",
    "# is 2*3*3 = 18\n",
    "assert sample_search_actions == [{'?plane': '1973', '?from': 'SFO', '?to': 'SFO'},\n",
    "                                 {'?plane': '1973', '?from': 'JFK', '?to': 'SFO'},\n",
    "                                 {'?plane': '1973', '?from': 'ORD', '?to': 'SFO'},\n",
    "                                 {'?plane': '1973', '?from': 'SFO', '?to': 'JFK'},\n",
    "                                 {'?plane': '1973', '?from': 'JFK', '?to': 'JFK'},\n",
    "                                 {'?plane': '1973', '?from': 'ORD', '?to': 'JFK'},\n",
    "                                 {'?plane': '1973', '?from': 'SFO', '?to': 'ORD'},\n",
    "                                 {'?plane': '1973', '?from': 'JFK', '?to': 'ORD'},\n",
    "                                 {'?plane': '1973', '?from': 'ORD', '?to': 'ORD'},\n",
    "                                 {'?plane': '2749', '?from': 'SFO', '?to': 'SFO'},\n",
    "                                 {'?plane': '2749', '?from': 'JFK', '?to': 'SFO'},\n",
    "                                 {'?plane': '2749', '?from': 'ORD', '?to': 'SFO'},\n",
    "                                 {'?plane': '2749', '?from': 'SFO', '?to': 'JFK'},\n",
    "                                 {'?plane': '2749', '?from': 'JFK', '?to': 'JFK'},\n",
    "                                 {'?plane': '2749', '?from': 'ORD', '?to': 'JFK'}, \n",
    "                                 {'?plane': '2749', '?from': 'SFO', '?to': 'ORD'}, \n",
    "                                 {'?plane': '2749', '?from': 'JFK', '?to': 'ORD'},\n",
    "                                 {'?plane': '2749', '?from': 'ORD', '?to': 'ORD'}]\n",
    "assert len(sample_search_actions) == 18"
   ]
  },
  {
   "cell_type": "markdown",
   "metadata": {},
   "source": [
    "### Generating Valid States\n",
    "Up to now we have generated a series of functions which do a state space search for possible actions to take. This corresponds to the inner layer state space search in the problem definition above. Now, we move onto the outer state space search as we have the ingredients to do so. The following functions generate states, find successors, and finally implement the entire forward plan.\n",
    "\n",
    "#### `build_state(state, action, substitutions, actions, valid=True)`\n",
    "This is quite an important function, as it implements the action validation. `build_state()` takes in a current `state`, an `action` to be taken, a series of `substitutions` as created by `search_actions()`, the universe of `actions` and generates a new valid state whenever `valid` is true (which it is by default).\n",
    "The function has the three following main implementations:\n",
    "1. Check if the `action` to be implemented is valid given the `substitutions` given. In the case that it is not, the function returns None.\n",
    "2. If the function validates the substitutions, the function moves on to implement the deletions given by the action in a new `result_state`. If the deletion corresponds to a variable, then the function looks into the substitutionsto fetch the right value.\n",
    "3. If the function validates the substitutions, the functions moves on to implement the additions given by the actions the new `result_state`. If the addition corresponds to a variable, then the function looks into the substitutions to fetch the right value to add. "
   ]
  },
  {
   "cell_type": "code",
   "execution_count": 16,
   "metadata": {},
   "outputs": [],
   "source": [
    "def build_state(state, action, substitutions, actions, valid=True):\n",
    "    result_state = deepcopy(state)\n",
    "    act = actions[action]\n",
    "    to_delete = act['delete'] if 'delete' in act else []\n",
    "    \n",
    "    if valid:\n",
    "        conditions = act['conditions'] if 'conditions' in act else []        \n",
    "        for condition in conditions:  \n",
    "            validation = []\n",
    "            for element in condition:\n",
    "                if is_variable(element):\n",
    "                    validation.append(substitutions[element])\n",
    "                else:\n",
    "                    validation.append(element) \n",
    "            if validation not in state:\n",
    "                return None\n",
    "            \n",
    "    for deletion in to_delete:\n",
    "        to_remove = []\n",
    "        for element in deletion:\n",
    "            if is_variable(element):\n",
    "                to_remove.append(substitutions[element])\n",
    "            else:\n",
    "                to_remove.append(element)\n",
    "        result_state = [predicate for predicate in result_state if predicate != to_remove]\n",
    "        \n",
    "    to_add = act['add'] if 'add' in act else []    \n",
    "    for addition in to_add:\n",
    "        to_include = []\n",
    "        for element in addition:\n",
    "            if is_variable(element):\n",
    "                to_include.append(substitutions[element])\n",
    "            else:\n",
    "                to_include.append(element)\n",
    "        \n",
    "        if to_include not in result_state:\n",
    "            result_state.append(to_include)\n",
    "    \n",
    "    return result_state"
   ]
  },
  {
   "cell_type": "code",
   "execution_count": 17,
   "metadata": {},
   "outputs": [],
   "source": [
    "# the first option is valid but yields the same state space although at a different order\n",
    "assert build_state(sample_state, 'fly', sample_search_actions[0], sample_actions) == [['plane', '1973'],\n",
    "                                                                                      ['plane', '2749'],\n",
    "                                                                                      ['airport', 'SFO'],\n",
    "                                                                                      ['airport', 'JFK'],\n",
    "                                                                                      ['airport', 'ORD'],\n",
    "                                                                                      ['at', '2749', 'JFK'],\n",
    "                                                                                      ['at', '97', 'ORD'],\n",
    "                                                                                      ['at', '1211', 'SFO'],\n",
    "                                                                                      ['at', '1973', 'SFO']]\n",
    "# The second to third options are not valid\n",
    "for i in range(1,3):    \n",
    "    assert build_state(sample_state, 'fly', sample_search_actions[i], sample_actions) == None\n",
    "# the fourth option is valid and yields a valid new state\n",
    "# where 1973 flies from 'SFO' to 'JFK'\n",
    "assert build_state(sample_state, 'fly', sample_search_actions[3], sample_actions) == [['plane', '1973'],\n",
    "                                                                                      ['plane', '2749'],\n",
    "                                                                                      ['airport', 'SFO'],\n",
    "                                                                                      ['airport', 'JFK'],\n",
    "                                                                                      ['airport', 'ORD'],\n",
    "                                                                                      ['at', '2749', 'JFK'],\n",
    "                                                                                      ['at', '97', 'ORD'],\n",
    "                                                                                      ['at', '1211', 'SFO'],\n",
    "                                                                                      ['at', '1973', 'JFK']]"
   ]
  },
  {
   "cell_type": "markdown",
   "metadata": {},
   "source": [
    "#### `build_node(current_state, previous_state, actions)`\n",
    "`build_node()` creates nodes. A node connects the `current_state` with a `previous_state` and also indicates the `actions` which have been taken so far as part of the plan. The node is stored in a dictionary with the respective keys 'state','previous', and 'plan'."
   ]
  },
  {
   "cell_type": "code",
   "execution_count": 18,
   "metadata": {},
   "outputs": [],
   "source": [
    "def build_node(current_state, previous_state, actions):\n",
    "    actions = [] if actions is None else actions\n",
    "    return {'state':current_state, 'previous':previous_state, 'plan': actions}    "
   ]
  },
  {
   "cell_type": "code",
   "execution_count": 19,
   "metadata": {},
   "outputs": [],
   "source": [
    "sample_previous_state_ = None\n",
    "sample_actions_ = None\n",
    "sample_node = build_node(sample_state, sample_previous_state_, sample_actions_)\n",
    "assert sample_node == {'state': [['plane', '1973'],\n",
    "                                 ['plane', '2749'],\n",
    "                                 ['airport', 'SFO'],\n",
    "                                 ['airport', 'JFK'],\n",
    "                                 ['airport', 'ORD'],\n",
    "                                 ['at', '1973', 'SFO'],\n",
    "                                 ['at', '2749', 'JFK'],\n",
    "                                 ['at', '97', 'ORD'],\n",
    "                                 ['at', '1211', 'SFO']],\n",
    "                       'previous': None,\n",
    "                       'plan': []}\n",
    "\n",
    "another_node = build_node(sample_state, sample_state, sample_actions_)\n",
    "assert another_node == {'state': [['plane', '1973'],\n",
    "                                  ['plane', '2749'],\n",
    "                                  ['airport', 'SFO'],\n",
    "                                  ['airport', 'JFK'],\n",
    "                                  ['airport', 'ORD'],\n",
    "                                  ['at', '1973', 'SFO'],\n",
    "                                  ['at', '2749', 'JFK'],\n",
    "                                  ['at', '97', 'ORD'],\n",
    "                                  ['at', '1211', 'SFO']],\n",
    "                        'previous': [['plane', '1973'],  \n",
    "                                     ['plane', '2749'],  \n",
    "                                     ['airport', 'SFO'], \n",
    "                                     ['airport', 'JFK'],  \n",
    "                                     ['airport', 'ORD'],\n",
    "                                     ['at', '1973', 'SFO'],\n",
    "                                     ['at', '2749', 'JFK'],\n",
    "                                     ['at', '97', 'ORD'],\n",
    "                                     ['at', '1211', 'SFO']],\n",
    "                        'plan': []}"
   ]
  },
  {
   "cell_type": "markdown",
   "metadata": {},
   "source": [
    "#### `find_successors(node, actions)`\n",
    "The function `find_successors()` does just what the name implies. It finds all succesors given a `node` and `actions`. It uses `search_actions()` and `build_state()` as previously defined to find all possible succesors. The function returns a list of all possible succesors whenever the resulting state is not None. Recall that None is passed whenever the function `build_state()` finds an invalid combination.   "
   ]
  },
  {
   "cell_type": "code",
   "execution_count": 20,
   "metadata": {},
   "outputs": [],
   "source": [
    "def find_successors(node, actions):\n",
    "    successors = []\n",
    "    for action in actions:\n",
    "        for substitution in search_actions(node['state'], action, actions):\n",
    "            new_state = build_state(node['state'], action, substitution, actions)\n",
    "            act = []\n",
    "            new_state = build_state(node['state'], action, substitution, actions)\n",
    "            for element in actions[action]['action']:\n",
    "                if is_variable(element):\n",
    "                    act.append(substitution[element])\n",
    "                else:\n",
    "                    act.append(element)\n",
    "            act = node['plan'] + [act]\n",
    "            successors.append(build_node(new_state, node, act))\n",
    "    return [successor for successor in successors if successor['state'] is not None]"
   ]
  },
  {
   "cell_type": "code",
   "execution_count": 21,
   "metadata": {},
   "outputs": [],
   "source": [
    "# from previous steps we have seen that the number of valid actions is 6\n",
    "sample_successors = find_successors(sample_node, sample_actions)"
   ]
  },
  {
   "cell_type": "code",
   "execution_count": 22,
   "metadata": {},
   "outputs": [],
   "source": [
    "# from previous steps we have seen that the number of valid actions is 6\n",
    "sample_successors = find_successors(sample_node, sample_actions)\n",
    "assert sample_successors == [{'state': [['plane', '1973'],\n",
    "                                        ['plane', '2749'],\n",
    "                                        ['airport', 'SFO'],\n",
    "                                        ['airport', 'JFK'],\n",
    "                                        ['airport', 'ORD'],\n",
    "                                        ['at', '2749', 'JFK'],\n",
    "                                        ['at', '97', 'ORD'],\n",
    "                                        ['at', '1211', 'SFO'],\n",
    "                                        ['at', '1973', 'SFO']],\n",
    "                              'previous': {'state': [['plane', '1973'],\n",
    "                                                     ['plane', '2749'],\n",
    "                                                     ['airport', 'SFO'],\n",
    "                                                     ['airport', 'JFK'],\n",
    "                                                     ['airport', 'ORD'],\n",
    "                                                     ['at', '1973', 'SFO'],\n",
    "                                                     ['at', '2749', 'JFK'],\n",
    "                                                     ['at', '97', 'ORD'],\n",
    "                                                     ['at', '1211', 'SFO']],\n",
    "                                           'previous': None,\n",
    "                                           'plan': []},\n",
    "                              'plan': [['fly', '1973', 'SFO', 'SFO']]},\n",
    "                             {'state': [['plane', '1973'],\n",
    "                                        ['plane', '2749'],\n",
    "                                        ['airport', 'SFO'],\n",
    "                                        ['airport', 'JFK'],\n",
    "                                        ['airport', 'ORD'],\n",
    "                                        ['at', '2749', 'JFK'],\n",
    "                                        ['at', '97', 'ORD'],\n",
    "                                        ['at', '1211', 'SFO'],\n",
    "                                        ['at', '1973', 'JFK']],\n",
    "                              'previous': {'state': [['plane', '1973'],\n",
    "                                                     ['plane', '2749'],\n",
    "                                                     ['airport', 'SFO'],\n",
    "                                                     ['airport', 'JFK'],\n",
    "                                                     ['airport', 'ORD'],\n",
    "                                                     ['at', '1973', 'SFO'],\n",
    "                                                     ['at', '2749', 'JFK'],\n",
    "                                                     ['at', '97', 'ORD'],\n",
    "                                                     ['at', '1211', 'SFO']],\n",
    "                                           'previous': None,\n",
    "                                           'plan': []},\n",
    "                              'plan': [['fly', '1973', 'SFO', 'JFK']]},\n",
    "                             {'state': [['plane', '1973'],\n",
    "                                        ['plane', '2749'],\n",
    "                                        ['airport', 'SFO'],\n",
    "                                        ['airport', 'JFK'],\n",
    "                                        ['airport', 'ORD'],\n",
    "                                        ['at', '2749', 'JFK'],\n",
    "                                        ['at', '97', 'ORD'],\n",
    "                                        ['at', '1211', 'SFO'],\n",
    "                                        ['at', '1973', 'ORD']],\n",
    "                              'previous': {'state': [['plane', '1973'],\n",
    "                                                     ['plane', '2749'],\n",
    "                                                     ['airport', 'SFO'],\n",
    "                                                     ['airport', 'JFK'],\n",
    "                                                     ['airport', 'ORD'],\n",
    "                                                     ['at', '1973', 'SFO'],\n",
    "                                                     ['at', '2749', 'JFK'],\n",
    "                                                     ['at', '97', 'ORD'],\n",
    "                                                     ['at', '1211', 'SFO']],\n",
    "                                           'previous': None,\n",
    "                                           'plan': []},\n",
    "                              'plan': [['fly', '1973', 'SFO', 'ORD']]},\n",
    "                             {'state': [['plane', '1973'],\n",
    "                                        ['plane', '2749'],\n",
    "                                        ['airport', 'SFO'],\n",
    "                                        ['airport', 'JFK'],\n",
    "                                        ['airport', 'ORD'],\n",
    "                                        ['at', '1973', 'SFO'],\n",
    "                                        ['at', '97', 'ORD'],\n",
    "                                        ['at', '1211', 'SFO'],\n",
    "                                        ['at', '2749', 'SFO']],\n",
    "                              'previous': {'state': [['plane', '1973'],\n",
    "                                                     ['plane', '2749'],\n",
    "                                                     ['airport', 'SFO'],\n",
    "                                                     ['airport', 'JFK'],\n",
    "                                                     ['airport', 'ORD'],\n",
    "                                                     ['at', '1973', 'SFO'],\n",
    "                                                     ['at', '2749', 'JFK'],\n",
    "                                                     ['at', '97', 'ORD'],\n",
    "                                                     ['at', '1211', 'SFO']],\n",
    "                                           'previous': None,\n",
    "                                           'plan': []},\n",
    "                              'plan': [['fly', '2749', 'JFK', 'SFO']]},\n",
    "                             {'state': [['plane', '1973'],\n",
    "                                        ['plane', '2749'],\n",
    "                                        ['airport', 'SFO'],\n",
    "                                        ['airport', 'JFK'],\n",
    "                                        ['airport', 'ORD'],\n",
    "                                        ['at', '1973', 'SFO'],\n",
    "                                        ['at', '97', 'ORD'],\n",
    "                                        ['at', '1211', 'SFO'],\n",
    "                                        ['at', '2749', 'JFK']],\n",
    "                              'previous': {'state': [['plane', '1973'],\n",
    "                                                     ['plane', '2749'],\n",
    "                                                     ['airport', 'SFO'],\n",
    "                                                     ['airport', 'JFK'],\n",
    "                                                     ['airport', 'ORD'],\n",
    "                                                     ['at', '1973', 'SFO'],\n",
    "                                                     ['at', '2749', 'JFK'],\n",
    "                                                     ['at', '97', 'ORD'],\n",
    "                                                     ['at', '1211', 'SFO']],\n",
    "                                           'previous': None,\n",
    "                                           'plan': []},\n",
    "                              'plan': [['fly', '2749', 'JFK', 'JFK']]},\n",
    "                             {'state': [['plane', '1973'],\n",
    "                                        ['plane', '2749'],\n",
    "                                        ['airport', 'SFO'],\n",
    "                                        ['airport', 'JFK'],\n",
    "                                        ['airport', 'ORD'],\n",
    "                                        ['at', '1973', 'SFO'],\n",
    "                                        ['at', '97', 'ORD'],\n",
    "                                        ['at', '1211', 'SFO'],\n",
    "                                        ['at', '2749', 'ORD']],\n",
    "                              'previous': {'state': [['plane', '1973'],\n",
    "                                                     ['plane', '2749'],\n",
    "                                                     ['airport', 'SFO'],\n",
    "                                                     ['airport', 'JFK'],\n",
    "                                                     ['airport', 'ORD'],\n",
    "                                                     ['at', '1973', 'SFO'],\n",
    "                                                     ['at', '2749', 'JFK'],\n",
    "                                                     ['at', '97', 'ORD'],\n",
    "                                                     ['at', '1211', 'SFO']],\n",
    "                                           'previous': None,\n",
    "                                           'plan': []},\n",
    "                              'plan': [['fly', '2749', 'JFK', 'ORD']]}]\n",
    "assert len(sample_successors) == 6"
   ]
  },
  {
   "cell_type": "markdown",
   "metadata": {},
   "source": [
    "#### `goal_satisfied(goal, state)`\n",
    "`goal_satisfied()` checks whether all the elements in `goal` are included in `state`. The function returns either `True` or `False` given the conditions."
   ]
  },
  {
   "cell_type": "code",
   "execution_count": 23,
   "metadata": {},
   "outputs": [],
   "source": [
    "def goal_satisfied(goal, state):\n",
    "    return all(go in state for go in goal)"
   ]
  },
  {
   "cell_type": "code",
   "execution_count": 24,
   "metadata": {},
   "outputs": [],
   "source": [
    "sample_goal = ['(at 1973 ORD)',\n",
    "              '(at 1211 JFK)',\n",
    "              '(at 2749 SFO)']\n",
    "assert goal_satisfied(sample_goal, sample_successors[0]['state']) == False\n",
    "trial_state = ['(at 1973 ORD)',              \n",
    "              '(at 2749 SFO)',\n",
    "              '(at 1211 JFK)']\n",
    "# different order but same goal\n",
    "assert goal_satisfied(sample_goal, trial_state) == True"
   ]
  },
  {
   "cell_type": "markdown",
   "metadata": {},
   "source": [
    "#### `fetch_plan(node, debug=False)`\n",
    "`fetch_plan()` corresponds to the function which traverses the nodes created in the graph to fetch the actions taken on a given succesful path. This function takes a particular `node` and a `debug` indicator. The `debug` indicator serves to print out the full node or only the action taken."
   ]
  },
  {
   "cell_type": "code",
   "execution_count": 25,
   "metadata": {},
   "outputs": [],
   "source": [
    "def fetch_plan(node, debug=False):\n",
    "    plan_ = node['plan']\n",
    "    \n",
    "    if not debug:\n",
    "        return plan_\n",
    "    \n",
    "    j = -1\n",
    "    plan = [node['state']]\n",
    "    while node['previous'] is not None:\n",
    "        previous = node['previous']\n",
    "        plan.append(plan_[j])\n",
    "        plan.append(previous['state'])\n",
    "        node = previous\n",
    "        j -= 1\n",
    "    plan.reverse()\n",
    "    return plan"
   ]
  },
  {
   "cell_type": "markdown",
   "metadata": {},
   "source": [
    "### forward_planner( start_state, goal, actions)\n",
    "In order to implement the forward planner, we will use the pseudo-code provide in Module 1. We will then use a DFS approach to navigate the frontier (queue with LIFO). The difference between this implementation and simple state search is that the algorithm will implement state space while looking for possible successors, but is also another state space implemented while looking for possible actions to take. \n",
    "The implementation of the algorithm requires careful consideration of the data structures to be used. "
   ]
  },
  {
   "cell_type": "code",
   "execution_count": 26,
   "metadata": {},
   "outputs": [],
   "source": [
    "def forward_planner( start_state, goal, actions, debug=False):\n",
    "    start_state = [parse(predicate) for predicate in start_state]\n",
    "    goal = [parse(predicate) for predicate in goal]\n",
    "    actions = parse_actions(actions)\n",
    "    current_node = build_node(start_state, None, None)\n",
    "    if goal_satisfied(goal, current_node['state']):\n",
    "        return fetch_plan(current_node, debug)\n",
    "    frontier = [current_node]\n",
    "    reached = [set([\"(\"+\" \".join(s)+\")\" for s in start_state])]\n",
    "    while len(frontier) != 0:\n",
    "        current_node = frontier.pop(0)\n",
    "        for child in find_successors(current_node, actions):\n",
    "            state = child['state']\n",
    "            if goal_satisfied(goal, current_node['state']):\n",
    "                return fetch_plan(current_node, debug)\n",
    "            if set([\"(\"+\" \".join(s)+\")\" for s in state]) not in reached:\n",
    "                reached.append(set([\"(\"+\" \".join(s)+\")\" for s in state]))\n",
    "                frontier.append(child)\n",
    "    return None"
   ]
  },
  {
   "cell_type": "code",
   "execution_count": 27,
   "metadata": {},
   "outputs": [
    {
     "name": "stdout",
     "output_type": "stream",
     "text": [
      "['fly', '1973', 'SFO', 'ORD']\n",
      "['fly', '1211', 'SFO', 'JFK']\n",
      "['fuel', '2749']\n",
      "['fly', '2749', 'JFK', 'ORD']\n"
     ]
    }
   ],
   "source": [
    "# This corresponds to problem 3 in the self-check\n",
    "sample_actions = {'fly':{'action':\"(fly ?plane ?from ?to)\",\n",
    "                       'conditions':['(plane ?plane)','(airport ?to)','(airport ?from)',\n",
    "                                     '(at ?plane ?from)','(fueled ?plane)'],\n",
    "                       'add':['(at ?plane ?to)'],\n",
    "                       'delete':['(at ?plane ?from)']},\n",
    "                 'fuel':{'action':\"(fuel ?plane)\",\n",
    "                        'conditions':['(plane ?plane)','(unfueled ?plane)'],\n",
    "                        'add':['(fueled ?plane)'],\n",
    "                        'delete': ['(unfueled ?plane)']}}\n",
    "sample_state = ['(plane 1973)','(plane 2749)','(plane 97)','(plane 1211)',\n",
    "                '(airport SFO)','(airport JFK)','(airport ORD)',\n",
    "                '(at 1973 SFO)','(at 2749 JFK)','(at 97 ORD)','(at 1211 SFO)',\n",
    "                '(fueled 1973)','(unfueled 2749)','(unfueled 97)', '(fueled 1211)']\n",
    "\n",
    "sample_goal = ['(at 1973 ORD)',\n",
    "              '(at 1211 JFK)',\n",
    "              '(at 2749 ORD)']\n",
    "plan = forward_planner( sample_state, sample_goal, sample_actions, False)\n",
    "\n",
    "for el in plan:\n",
    "    print(el)"
   ]
  },
  {
   "cell_type": "code",
   "execution_count": 28,
   "metadata": {},
   "outputs": [
    {
     "name": "stdout",
     "output_type": "stream",
     "text": [
      "['drive', 'Me', 'Home', 'Store']\n",
      "['buy', 'Me', 'Store', 'Drill']\n",
      "['drive', 'Me', 'Store', 'Home']\n"
     ]
    }
   ],
   "source": [
    "plan = forward_planner(start_state, goal, actions, False)\n",
    "for el in plan:\n",
    "    print(el)"
   ]
  },
  {
   "cell_type": "markdown",
   "metadata": {},
   "source": [
    "## Before You Submit...\n",
    "\n",
    "1. Did you provide output exactly as requested?\n",
    "2. Did you re-execute the entire notebook? (\"Restart Kernel and Rull All Cells...\")\n",
    "3. If you did not complete the assignment or had difficulty please explain what gave you the most difficulty in the Markdown cell below.\n",
    "4. Did you change the name of the file to `jhed_id.ipynb`?\n",
    "\n",
    "Do not submit any other files."
   ]
  },
  {
   "cell_type": "markdown",
   "metadata": {},
   "source": []
  }
 ],
 "metadata": {
  "kernelspec": {
   "display_name": "Python 3 (ipykernel)",
   "language": "python",
   "name": "python3"
  },
  "language_info": {
   "codemirror_mode": {
    "name": "ipython",
    "version": 3
   },
   "file_extension": ".py",
   "mimetype": "text/x-python",
   "name": "python",
   "nbconvert_exporter": "python",
   "pygments_lexer": "ipython3",
   "version": "3.9.7"
  },
  "toc": {
   "colors": {
    "hover_highlight": "#DAA520",
    "navigate_num": "#000000",
    "navigate_text": "#333333",
    "running_highlight": "#FF0000",
    "selected_highlight": "#FFD700",
    "sidebar_border": "#EEEEEE",
    "wrapper_background": "#FFFFFF"
   },
   "moveMenuLeft": true,
   "nav_menu": {
    "height": "102px",
    "width": "252px"
   },
   "navigate_menu": true,
   "number_sections": true,
   "sideBar": true,
   "threshold": 4,
   "toc_cell": false,
   "toc_section_display": "block",
   "toc_window_display": false,
   "widenNotebook": false
  }
 },
 "nbformat": 4,
 "nbformat_minor": 4
}
