{
 "cells": [
  {
   "cell_type": "markdown",
   "metadata": {},
   "source": [
    "# Module 3 - Programming Assignment\n",
    "\n",
    "## Directions\n",
    "\n",
    "1. Change the name of this file to be your JHED id as in `jsmith299.ipynb`. Because sure you use your JHED ID (it's made out of your name and not your student id which is just letters and numbers).\n",
    "2. Make sure the notebook you submit is cleanly and fully executed. I do not grade unexecuted notebooks.\n",
    "3. Submit your notebook back in Blackboard where you downloaded this file.\n",
    "\n",
    "*Provide the output **exactly** as requested*"
   ]
  },
  {
   "cell_type": "markdown",
   "metadata": {},
   "source": [
    "## k Nearest Neighbors and Model Evaluation\n",
    "\n",
    "In this programming assignment you will use k Nearest Neighbors (kNN) to build a \"model\" that will estimate the compressive strength of various types of concrete. This assignment has several objectives:\n",
    "\n",
    "1. Implement the kNN algorithm with k=9. Remember...the data + distance function is the model in kNN. In addition to asserts that unit test your code, you should \"test drive\" the model, showing output that a non-technical person could interpret.\n",
    "\n",
    "2. You are going to compare the kNN model above against the baseline model described in the course notes (the mean of the training set's target variable). You should use 10 fold cross validation and Mean Squared Error (MSE):\n",
    "\n",
    "$$MSE = \\frac{1}{n}\\sum^n_i (y_i - \\hat{y}_i)^2$$\n",
    "\n",
    "as the evaluation metric (\"error\"). Refer to the course notes for the format your output should take. Don't forget a discussion of the results.\n",
    "\n",
    "3. use validation curves to tune a *hyperparameter* of the model. \n",
    "In this case, the hyperparameter is *k*, the number of neighbors. Don't forget a discussion of the results.\n",
    "\n",
    "4. evaluate the *generalization error* of the new model.\n",
    "Because you may have just created a new, better model, you need a sense of its generalization error, calculate that. Again, what would you like to see as output here? Refer to the course notes. Don't forget a discussion of the results. Did the new model do better than either model in Q2?\n",
    "\n",
    "5. pick one of the \"Choose Your Own Adventure\" options.\n",
    "\n",
    "Refer to the \"course notes\" for this module for most of this assignment.\n",
    "Anytime you just need test/train split, use fold index 0 for the test set and the remainder as the training set.\n",
    "Discuss any results."
   ]
  },
  {
   "cell_type": "markdown",
   "metadata": {},
   "source": [
    "## Load the Data\n",
    "\n",
    "The function `parse_data` loads the data from the specified file and returns a List of Lists. The outer List is the data set and each element (List) is a specific observation. Each value of an observation is for a particular measurement. This is what we mean by \"tidy\" data.\n",
    "\n",
    "The function also returns the *shuffled* data because the data might have been collected in a particular order that *might* bias training."
   ]
  },
  {
   "cell_type": "code",
   "execution_count": 1,
   "metadata": {},
   "outputs": [],
   "source": [
    "import random\n",
    "random.seed(10)\n",
    "import copy\n",
    "from typing import List, Dict, Tuple, Callable"
   ]
  },
  {
   "cell_type": "code",
   "execution_count": 2,
   "metadata": {},
   "outputs": [],
   "source": [
    "def parse_data(file_name: str) -> List[List]:\n",
    "    data = []\n",
    "    file = open(file_name, \"r\")\n",
    "    for line in file:\n",
    "        datum = [float(value) for value in line.rstrip().split(\",\")]\n",
    "        data.append(datum)\n",
    "    random.shuffle(data)\n",
    "    return data"
   ]
  },
  {
   "cell_type": "code",
   "execution_count": 3,
   "metadata": {},
   "outputs": [],
   "source": [
    "data = parse_data(\"concrete_compressive_strength.csv\")"
   ]
  },
  {
   "cell_type": "code",
   "execution_count": 4,
   "metadata": {
    "tags": []
   },
   "outputs": [
    {
     "data": {
      "text/plain": [
       "[425.0, 106.3, 0.0, 153.5, 16.5, 852.1, 887.1, 7.0, 49.2]"
      ]
     },
     "execution_count": 4,
     "metadata": {},
     "output_type": "execute_result"
    }
   ],
   "source": [
    "data[0]"
   ]
  },
  {
   "cell_type": "code",
   "execution_count": 5,
   "metadata": {},
   "outputs": [
    {
     "data": {
      "text/plain": [
       "1030"
      ]
     },
     "execution_count": 5,
     "metadata": {},
     "output_type": "execute_result"
    }
   ],
   "source": [
    "len(data)"
   ]
  },
  {
   "cell_type": "markdown",
   "metadata": {},
   "source": [
    "There are 1,030 observations and each observation has 8 measurements. The data dictionary for this data set tells us the definitions of the individual variables (columns/indices):\n",
    "\n",
    "| Index | Variable | Definition |\n",
    "|-------|----------|------------|\n",
    "| 0     | cement   | kg in a cubic meter mixture |\n",
    "| 1     | slag     | kg in a cubic meter mixture |\n",
    "| 2     | ash      | kg in a cubic meter mixture |\n",
    "| 3     | water    | kg in a cubic meter mixture |\n",
    "| 4     | superplasticizer | kg in a cubic meter mixture |\n",
    "| 5     | coarse aggregate | kg in a cubic meter mixture |\n",
    "| 6     | fine aggregate | kg in a cubic meter mixture |\n",
    "| 7     | age | days |\n",
    "| 8     | concrete compressive strength | MPa |\n",
    "\n",
    "The target (\"y\") variable is a Index 8, concrete compressive strength in (Mega?) [Pascals](https://en.wikipedia.org/wiki/Pascal_(unit))."
   ]
  },
  {
   "cell_type": "markdown",
   "metadata": {},
   "source": [
    "## Train/Test Splits - n folds\n",
    "\n",
    "With n fold cross validation, we divide our data set into n subgroups called \"folds\" and then use those folds for training and testing. You pick n based on the size of your data set. If you have a small data set--100 observations--and you used n=10, each fold would only have 10 observations. That's probably too small. You want at least 30. At the other extreme, we generally don't use n > 10.\n",
    "\n",
    "With 1,030 observations, n = 10 is fine so we will have 10 folds.\n",
    "`create_folds` will take a list (xs) and split it into `n` equal folds with each fold containing one-tenth of the observations."
   ]
  },
  {
   "cell_type": "code",
   "execution_count": 6,
   "metadata": {},
   "outputs": [],
   "source": [
    "def create_folds(xs: List, n: int) -> List[List[List]]:\n",
    "    k, m = divmod(len(xs), n)\n",
    "    # be careful of generators...\n",
    "    return list(xs[i * k + min(i, m):(i + 1) * k + min(i + 1, m)] for i in range(n))"
   ]
  },
  {
   "cell_type": "code",
   "execution_count": 7,
   "metadata": {},
   "outputs": [],
   "source": [
    "folds = create_folds(data, 10)"
   ]
  },
  {
   "cell_type": "code",
   "execution_count": 8,
   "metadata": {},
   "outputs": [
    {
     "data": {
      "text/plain": [
       "10"
      ]
     },
     "execution_count": 8,
     "metadata": {},
     "output_type": "execute_result"
    }
   ],
   "source": [
    "len(folds)"
   ]
  },
  {
   "cell_type": "markdown",
   "metadata": {},
   "source": [
    "We always use one of the n folds as a test set (and, sometimes, one of the folds as a *pruning* set but not for kNN), and the remaining folds as a training set.\n",
    "We need a function that'll take our n folds and return the train and test sets:"
   ]
  },
  {
   "cell_type": "code",
   "execution_count": 9,
   "metadata": {},
   "outputs": [],
   "source": [
    "def create_train_test(folds: List[List[List]], index: int) -> Tuple[List[List], List[List]]:\n",
    "    training = []\n",
    "    test = []\n",
    "    for i, fold in enumerate(folds):\n",
    "        if i == index:\n",
    "            test = fold\n",
    "        else:\n",
    "            training = training + fold\n",
    "    return training, test"
   ]
  },
  {
   "cell_type": "markdown",
   "metadata": {},
   "source": [
    "We can test the function to give us a train and test datasets where the test set is the fold at index 0:"
   ]
  },
  {
   "cell_type": "code",
   "execution_count": 10,
   "metadata": {},
   "outputs": [],
   "source": [
    "train, test = create_train_test(folds, 0)"
   ]
  },
  {
   "cell_type": "code",
   "execution_count": 11,
   "metadata": {},
   "outputs": [
    {
     "data": {
      "text/plain": [
       "927"
      ]
     },
     "execution_count": 11,
     "metadata": {},
     "output_type": "execute_result"
    }
   ],
   "source": [
    "len(train)"
   ]
  },
  {
   "cell_type": "code",
   "execution_count": 12,
   "metadata": {},
   "outputs": [
    {
     "data": {
      "text/plain": [
       "103"
      ]
     },
     "execution_count": 12,
     "metadata": {},
     "output_type": "execute_result"
    }
   ],
   "source": [
    "len(test)"
   ]
  },
  {
   "cell_type": "markdown",
   "metadata": {},
   "source": [
    "## Answers\n",
    "\n",
    "Answer the questions above in the space provided below, adding cells as you need to.\n",
    "Put everything in the helper functions and document them.\n",
    "Document everything (what you're doing and why).\n",
    "If you're not sure what format the output should take, refer to the course notes and what they do for that particular topic/algorithm."
   ]
  },
  {
   "cell_type": "markdown",
   "metadata": {},
   "source": [
    "## Problem 1: kNN\n",
    "\n",
    "Implement k Nearest Neighbors with k = 9."
   ]
  },
  {
   "cell_type": "markdown",
   "metadata": {},
   "source": [
    "In order to test for the computations below, I will use the example provided in the Self Check under problem 1 for this module. \n",
    "\n",
    "\n",
    "| # \t| x1   \t| x2   \t| y    \t| Euclidean Distance \t|\n",
    "|---\t|------\t|------\t|------\t|--------------------\t|\n",
    "| 1 \t| 0.23 \t| 0.81 \t| 0.18 \t| 0.24083            \t|\n",
    "| 2 \t| 0.42 \t| 0.78 \t| 0.33 \t| 0.15297            \t|\n",
    "| 3 \t| 0.64 \t| 0.23 \t| 0.14 \t| 0.4717             \t|\n",
    "| 4 \t| 0.87 \t| 0.19 \t| 0.17 \t| 0.65115            \t|\n",
    "| 5 \t| 0.76 \t| 0.43 \t| 0.32 \t| 0.42059            \t|\n",
    "| 6 \t| 0.39 \t| 0.63 \t|      \t|                    \t|\n",
    "\n",
    "### Computing the Euclidean Distance\n",
    "The formula for euclidean distance is:\n",
    "$$\n",
    "\\text{Euclidean Distance} = \\sqrt{\\sum_{i=1}^N (q_{i}-p_{i})^2}\n",
    "$$\n",
    "The function `euclidean_distance` below takes in two lists for which the euclidean distance is computed. It loops component wise while calculating and squaring the distances. Each distance is added to the distance variable. Finally the we compute the squared root of the aggregate distance and return this quantity. "
   ]
  },
  {
   "cell_type": "code",
   "execution_count": 13,
   "metadata": {},
   "outputs": [],
   "source": [
    "def euclidean_distance(x_1: list, x_2: list) ->float:\n",
    "    distance = 0\n",
    "    for i in list(zip(x_1, x_2)):\n",
    "        distance += (i[0] - i[1])**2\n",
    "    distance= distance ** 0.5\n",
    "    return distance        "
   ]
  },
  {
   "cell_type": "code",
   "execution_count": 14,
   "metadata": {},
   "outputs": [],
   "source": [
    "x1 = [[0.23,0.81],[0.42,0.78],[0.64,0.23],[0.87,0.19],[0.76,0.43]]\n",
    "x2 = [0.39,0.63]\n",
    "assert euclidean_distance(x1[0],x2) == 0.24083189157584595\n",
    "assert euclidean_distance(x1[1],x2) == 0.15297058540778355\n",
    "assert euclidean_distance(x1[2],x2) == 0.47169905660283024\n",
    "assert euclidean_distance(x1[3],x2) == 0.6511528238439882\n",
    "assert euclidean_distance(x1[4],x2) == 0.4205948168962618"
   ]
  },
  {
   "cell_type": "markdown",
   "metadata": {},
   "source": [
    "### Creating a distances list\n",
    "In order to implement k-Nearest Neighbor I will generate a sorted list of tuples. Each tuple in the list will contain:\n",
    "1. The euclidean distance against of the observation against the observation for which we want to predict the target variable\n",
    "2. The explanatory or features of the observation, that is variables 0,7 from the data.\n",
    "3. The target variable for the particular observation, that is the concrete compressive strength.\n",
    "We will build and sort this list as the calculations are computed. For this, I have created three functions.\n",
    "    1. `create_distance_list()` takes in the data along with the observation to be compared with as `x_1` and `x_2` respectively. The function returns a list of lists. Each list entry of the list has the following combination `[distance, x_1, y]` which represent the value of the euclidean distance, the features for that particular point, and finally the observed `y` value for that observation.\n",
    "    2. `add_distances_list()` creates or adds observations to a list of lists. Knowing that we will only need the closest $k$ observations, it makes a lot of sense to keep a sorted list by the euclidean distances. `add_distances_list()` populates a list in ascending distance order. That is, the closest points remain ahead in then list. This will ensure that we only need to consult this list once and will only need to get the first $k$ observations to generate our estimated predicted $\\hat{y}$ value."
   ]
  },
  {
   "cell_type": "code",
   "execution_count": 15,
   "metadata": {},
   "outputs": [],
   "source": [
    "def create_distance_list(x_1: list, x_2: list) -> list:\n",
    "    x_1 = x_1.copy()\n",
    "    x_2 = x_2.copy()\n",
    "    y = x_1.pop(-1)\n",
    "    distance = euclidean_distance(x_1, x_2)\n",
    "    distance_tuple = [distance, x_1, y]\n",
    "    return distance_tuple  "
   ]
  },
  {
   "cell_type": "code",
   "execution_count": 16,
   "metadata": {},
   "outputs": [],
   "source": [
    "x1 = [[0.23,0.81,0.18],[0.42,0.78,0.33],[0.64,0.23,0.14],[0.87,0.19,0.17],[0.76,0.43,0.32]]\n",
    "x2 = [0.39,0.63]\n",
    "# compute the distances in the format required above\n",
    "assert create_distance_list(x1[0], x2) == [0.24083189157584595, [0.23, 0.81], 0.18]\n",
    "assert create_distance_list(x1[1], x2) == [0.15297058540778355, [0.42, 0.78], 0.33]\n",
    "assert create_distance_list(x1[2], x2) == [0.47169905660283024, [0.64, 0.23], 0.14]\n",
    "assert create_distance_list(x1[3], x2) == [0.6511528238439882, [0.87, 0.19], 0.17]\n",
    "assert create_distance_list(x1[4], x2) == [0.4205948168962618, [0.76, 0.43], 0.32]"
   ]
  },
  {
   "cell_type": "code",
   "execution_count": 17,
   "metadata": {},
   "outputs": [],
   "source": [
    "def add_distances_list(distance_list: list, distances_list: list):\n",
    "    if len(distances_list)==0:\n",
    "        distances_list.append(distance_list)\n",
    "        return None\n",
    "    else:\n",
    "        for i in range(len(distances_list)):\n",
    "            if distance_list[0] < distances_list[i][0]:\n",
    "                distances_list.insert(i, distance_list)\n",
    "                return None\n",
    "    distances_list.append(distance_list)\n",
    "    return None  "
   ]
  },
  {
   "cell_type": "code",
   "execution_count": 18,
   "metadata": {},
   "outputs": [],
   "source": [
    "distances_list = []\n",
    "for i in range(len(x1)):\n",
    "    distance_list = create_distance_list(x1[i], x2)\n",
    "    add_distances_list(distance_list, distances_list)\n",
    "# take the distances computed above and should return an organized list by distances \n",
    "assert distances_list == [[0.15297058540778355, [0.42, 0.78], 0.33],\n",
    "                          [0.24083189157584595, [0.23, 0.81], 0.18],\n",
    "                          [0.4205948168962618, [0.76, 0.43], 0.32],\n",
    "                          [0.47169905660283024, [0.64, 0.23], 0.14],\n",
    "                          [0.6511528238439882, [0.87, 0.19], 0.17]]"
   ]
  },
  {
   "cell_type": "markdown",
   "metadata": {},
   "source": [
    "### k-nearest neightbors prediction\n",
    "At this point we have created a list sorted by euclidean distances. Now, in order to finish up the procedure we simply need to take an average of the target variable of closest $k$ observations. To that end, I have created two functions:\n",
    "1. `mean()` takes a list of floats and returns the average value for all observations.\n",
    "2. `knn_regression(x_1, x_2, k)` is a wrapper function of the functions generated up to now, that is: `distance_list()`,`add_distances_list()`, and `mean()`. It takes as parameters the features data `x_1`, the sample observation for which we will produce the predicted `y_hat` value, and the parameter `k` which corresponds to the number of neighbors to be considered. By using the aforementioned functions, `knn_regression(x_1, x_2, k)` produces the `k_closest` points in the whole sample data and computes the mean of the `y` values on those as the `y_hat` observation for that particular `x_2`."
   ]
  },
  {
   "cell_type": "code",
   "execution_count": 19,
   "metadata": {},
   "outputs": [],
   "source": [
    "def mean(list_: list) -> float:\n",
    "    list_ = list_.copy()\n",
    "    sum_ = 0\n",
    "    for i in list_:\n",
    "        sum_ += i\n",
    "    mean = sum_ / len(list_)\n",
    "    return mean"
   ]
  },
  {
   "cell_type": "code",
   "execution_count": 20,
   "metadata": {},
   "outputs": [],
   "source": [
    "assert mean([1,2,3,4,5]) == 3\n",
    "assert mean([0,1,0,1,0,1]) == 0.5"
   ]
  },
  {
   "cell_type": "code",
   "execution_count": 21,
   "metadata": {},
   "outputs": [],
   "source": [
    "def knn_regression(x_1, x_2, k):\n",
    "    distances_list = []\n",
    "    for i in range(len(x_1)):\n",
    "        distance_list = create_distance_list(x_1[i], x_2)\n",
    "        add_distances_list(distance_list, distances_list)\n",
    "    k_closest = [distance[-1] for distance in distances_list[:k]]\n",
    "    knn_prediction = mean(k_closest)\n",
    "    return knn_prediction"
   ]
  },
  {
   "cell_type": "code",
   "execution_count": 22,
   "metadata": {},
   "outputs": [],
   "source": [
    "# produce the knn_regression values as per the Self Check\n",
    "assert knn_regression(x1, x2, 1) == 0.33\n",
    "assert knn_regression(x1, x2, 2) == 0.255\n",
    "assert knn_regression(x1, x2, 3) == 0.27666666666666667"
   ]
  },
  {
   "cell_type": "markdown",
   "metadata": {},
   "source": [
    "### k-nearest neightbors prediction for $k=9$:\n",
    "Now that we have all of our functions, we can produce the k-nearest neighbor regression value for the first observation of the data. The predicted value is $39.72$ vs the actual $y$ value of  $49.2$."
   ]
  },
  {
   "cell_type": "code",
   "execution_count": 23,
   "metadata": {},
   "outputs": [
    {
     "data": {
      "text/plain": [
       "49.30777777777779"
      ]
     },
     "execution_count": 23,
     "metadata": {},
     "output_type": "execute_result"
    }
   ],
   "source": [
    "knn_data = copy.deepcopy(data)\n",
    "sample = knn_data.pop(0)\n",
    "knn_regression(knn_data, sample, 9)"
   ]
  },
  {
   "cell_type": "markdown",
   "metadata": {},
   "source": [
    "### Illustrating knn to a non-technical person\n",
    "\n",
    "K-nearest consists in trying to either classify or predict the value of a particular observation. I am going to use, once again, the data from the Self-Check to illustrate the behavior of the algorithm. \n",
    "\n",
    "Suppose you have the points below in a three dimensional plane. We would like to find out a reasonable value of the y coordinate on the 6th observation, as we are not provided with one. In order to do so, we will consider those points which are most similar to 6 from the other 5 points. That is, we would like to come up with a reasonable y coordinate for 6, given that we have information on 5 other points and some of which are similar to 6. We will use those similar points to infer the y coordinate of 6.\n",
    "\n",
    "| # \t| x1   \t| x2   \t| y    \t| \n",
    "|---\t|------\t|------\t|------\t|\n",
    "| 1 \t| 0.23 \t| 0.81 \t| 0.18 \t| \n",
    "| 2 \t| 0.42 \t| 0.78 \t| 0.33 \t| \n",
    "| 3 \t| 0.64 \t| 0.23 \t| 0.14 \t| \n",
    "| 4 \t| 0.87 \t| 0.19 \t| 0.17 \t| \n",
    "| 5 \t| 0.76 \t| 0.43 \t| 0.32 \t| \n",
    "| 6 \t| 0.39 \t| 0.63 \t| ?    \t| \n",
    "\n",
    "Let's look at how similar these points are in the $x_1$-$x_2$ plane:"
   ]
  },
  {
   "cell_type": "code",
   "execution_count": 24,
   "metadata": {},
   "outputs": [
    {
     "data": {
      "image/png": "[encoded data removed]",
      "text/plain": [
       "<Figure size 432x288 with 1 Axes>"
      ]
     },
     "metadata": {
      "needs_background": "light"
     },
     "output_type": "display_data"
    }
   ],
   "source": [
    "import matplotlib.pyplot as plt\n",
    "points = [[0.23,0.81],[0.42,0.78],[0.64,0.23],[0.87,0.19],[0.76,0.43],[0.39,0.63]]\n",
    "for i in points[:5]:    \n",
    "    plt.scatter(i[0],i[1], c='black')\n",
    "plt.scatter(points[5][0],points[5][1], c='red')\n",
    "plt.xlabel(\"$x_1$\")\n",
    "plt.ylabel(\"$x_2$\")\n",
    "plt.show()"
   ]
  },
  {
   "cell_type": "markdown",
   "metadata": {},
   "source": [
    "Above we have plotted the $x_1$ and $x_2$ coordinates, the red dot corresponds to the observation for which we would like to predict a $y$ coordinate value. From this picture we can see that the points that are most similar (or closest) could be the ones at the top left corner of the graph. In fact, there is a point which is in particular closest. With k-nearest neighbor, we will select the $y$ values for those $k$ points which are the most similar (closest), and use them to predict a value for the $y$ coordinate on the red dot. \n",
    "\n",
    "In order to determine similarity we will use a metric called Euclidean Distance. The mathematics of Euclidean Distance are not particularly complex but what is really important to understand is that Euclidean Distance gives us a numeric value for how close the coordinates on each direction (axis) are as a whole. \n",
    "\n",
    "Now, imagine that we would like to select the $k=3$ closest neighbors among the 5 provided. Euclidean Distance provides us with the closest dots, in the graph below I have marked the three closest dots with a blue color"
   ]
  },
  {
   "cell_type": "code",
   "execution_count": 25,
   "metadata": {},
   "outputs": [
    {
     "data": {
      "image/png": "[encoded data removed]",
      "text/plain": [
       "<Figure size 432x288 with 1 Axes>"
      ]
     },
     "metadata": {
      "needs_background": "light"
     },
     "output_type": "display_data"
    }
   ],
   "source": [
    "plt.scatter(points[0][0],points[0][1], c='blue')\n",
    "plt.scatter(points[1][0],points[1][1], c='blue')\n",
    "plt.scatter(points[2][0],points[2][1], c='black')\n",
    "plt.scatter(points[3][0],points[3][1], c='black')\n",
    "plt.scatter(points[4][0],points[4][1], c='blue')\n",
    "plt.scatter(points[5][0],points[5][1], c='red')\n",
    "plt.xlabel(\"$x_1$\")\n",
    "plt.ylabel(\"$x_2$\")\n",
    "plt.show()"
   ]
  },
  {
   "cell_type": "markdown",
   "metadata": {},
   "source": [
    "The points in blue above are the closest by Euclidean Distance, the k-nearest neighbor prediction will be generated by taking the average value of their corresponding $y$ coordinate values. The coordinates for those three points are $\\{0.23,0.81,0.18\\}$, $\\{0.42,0.78,0.33\\}$, and $\\{0.76,0.46,0.32\\}$, where the coordinates are mapped as $\\{x_1,x_2,y\\}$. The average $y$ for these three \"selected\" points is $0.2766$. This average value will be our estimated $y$ coordinate for point 6. Therefore, our table becomes\n",
    "\n",
    "| # \t| x1   \t| x2   \t| y    \t| \n",
    "|---\t|------\t|------\t|------\t|\n",
    "| 1 \t| 0.23 \t| 0.81 \t| 0.18 \t| \n",
    "| 2 \t| 0.42 \t| 0.78 \t| 0.33 \t| \n",
    "| 3 \t| 0.64 \t| 0.23 \t| 0.14 \t| \n",
    "| 4 \t| 0.87 \t| 0.19 \t| 0.17 \t| \n",
    "| 5 \t| 0.76 \t| 0.43 \t| 0.32 \t| \n",
    "| 6 \t| 0.39 \t| 0.63 \t| **0.276**\t| \n",
    "\n",
    "Plotting this into a three dimmension plot, we get"
   ]
  },
  {
   "cell_type": "code",
   "execution_count": 26,
   "metadata": {},
   "outputs": [
    {
     "data": {
      "image/png": "[encoded data removed]",
      "text/plain": [
       "<Figure size 720x504 with 1 Axes>"
      ]
     },
     "metadata": {
      "needs_background": "light"
     },
     "output_type": "display_data"
    }
   ],
   "source": [
    "fig = plt.figure(figsize = (10, 7))\n",
    "ax = plt.axes(projection =\"3d\")\n",
    "ax.scatter3D(0.23, 0.81, 0.18, color = \"blue\")\n",
    "ax.scatter3D(0.42, 0.78, 0.33, color = \"blue\")\n",
    "ax.scatter3D(0.64, 0.23, 0.14, color = \"black\")\n",
    "ax.scatter3D(0.87, 0.19, 0.17, color = \"black\")\n",
    "ax.scatter3D(0.76, 0.43, 0.32, color = \"blue\")\n",
    "ax.scatter3D(0.39, 0.63, 0.276, color = \"red\")\n",
    "ax.set_xlabel('$x_1$', fontweight ='bold')\n",
    "ax.set_ylabel('$x_2$', fontweight ='bold')\n",
    "ax.set_zlabel('$y$', fontweight ='bold')\n",
    "plt.show()"
   ]
  },
  {
   "cell_type": "markdown",
   "metadata": {},
   "source": [
    "From the plot above we have illustrated how k-nearest neighbor has allowed us to generate an estimate value for the $y$ coordinate of point 6. Below we test drive the functions we have generated in this section to check that all the computations follow this logic."
   ]
  },
  {
   "cell_type": "code",
   "execution_count": 27,
   "metadata": {},
   "outputs": [
    {
     "data": {
      "text/plain": [
       "0.27666666666666667"
      ]
     },
     "execution_count": 27,
     "metadata": {},
     "output_type": "execute_result"
    }
   ],
   "source": [
    "x1 = [[0.23,0.81,0.18],[0.42,0.78,0.33],[0.64,0.23,0.14],[0.87,0.19,0.17],[0.76,0.43,0.32]]\n",
    "x2 = [0.39,0.63]\n",
    "knn_regression(x1, x2, 3)"
   ]
  },
  {
   "cell_type": "markdown",
   "metadata": {},
   "source": [
    "## Problem 2: Evaluation vs. The Mean\n",
    "\n",
    "Using Mean Squared Error (MSE) as your evaluation metric, evaluate your implement above and the Null model, the mean."
   ]
  },
  {
   "cell_type": "markdown",
   "metadata": {},
   "source": [
    "### Mean Squared Error\n",
    "First we need to define the Mean Squared Error (MSE) function. The MSE function is defined as \n",
    "$$\n",
    "\\text{MSE} = \\frac{1}{n} \\sum_{i=1}^n (\\hat{y}_i-y_i)^2\n",
    "$$\n",
    "The function `mean_squared_error()` takes as parameters two lists and produces the MSE for the two lists, computing element wise differences, squaring them, and then taking their mean. The mean is computed using the `mean()` function defined previously."
   ]
  },
  {
   "cell_type": "code",
   "execution_count": 28,
   "metadata": {},
   "outputs": [],
   "source": [
    "def mean_squared_error(y, y_hat):\n",
    "    squared_error = []\n",
    "    for y_i, y_hat_i in list(zip(y, y_hat)):\n",
    "        squared_error.append((y_hat_i - y_i)**2)\n",
    "    mean_squared_error = mean(squared_error)        \n",
    "    return mean_squared_error"
   ]
  },
  {
   "cell_type": "code",
   "execution_count": 29,
   "metadata": {},
   "outputs": [],
   "source": [
    "y = [0,1,2,3,4,5,6]\n",
    "y_hat = [6,5,4,3,2,1,0]\n",
    "assert mean_squared_error(y, y_hat) == 16\n",
    "\n",
    "y = [0,1,0,1,0,1]\n",
    "y_hat = [1,0,1,0,1]\n",
    "assert mean_squared_error(y, y_hat) == 1"
   ]
  },
  {
   "cell_type": "markdown",
   "metadata": {},
   "source": [
    "### Computing the baseline model\n",
    "In order to compare the KNN model specified in part 2, or the case when $k=9$. We will use the mean of the training set's target variable as comparison and baseline. We will also implement 10 fold cross validation and Mean Squared Error (MSE) as specified in `create_train_test()` and `mean_squared_error(y, y_hat)`.\n",
    "In order to achieve this, we will loop through each fold. For each fold we will:\n",
    "1. Compute the baseline model prediction by computing the mean y value of the training set.\n",
    "2. Compute the MSE of the baseline prediction against the actual test set y values.\n",
    "3. Compute the actual knn (k=9) predicted value. It is important to note that we are using the training data for sampling and producing the y-hats but the actual observations we are regressing are those in the test set. \n",
    "4. We compute the MSE for each cross validation fold.\n",
    "5. Finally we print the results in a table and also provide the mean value of the cross validations' Mean Squared Errors for both the baseline model and the knn(k=9) model."
   ]
  },
  {
   "cell_type": "code",
   "execution_count": 30,
   "metadata": {},
   "outputs": [
    {
     "name": "stdout",
     "output_type": "stream",
     "text": [
      "Fold     KNN MSE      Base MSE\n",
      "1       101.2509      262.3220\n",
      "2        65.5449      278.5835\n",
      "3        87.4633      253.5430\n",
      "4       105.2789      283.3392\n",
      "5        98.1099      272.0312\n",
      "6        95.5514      292.8178\n",
      "7        84.7436      302.5182\n",
      "8        73.5014      235.8173\n",
      "9        84.4274      294.7390\n",
      "10      117.2592      318.8422\n",
      "Mean     91.3131      279.4553\n"
     ]
    }
   ],
   "source": [
    "mse_base_list = []\n",
    "mse_knn_list = []\n",
    "folds = create_folds(data, 10)\n",
    "fold_label = 'Fold'\n",
    "knn_mse_label = 'KNN MSE'\n",
    "base_mse_label = 'Base MSE'\n",
    "mean_label = \"Mean\"\n",
    "print(f\"\"\"{fold_label : <5}{knn_mse_label : ^15}{base_mse_label : >10}\"\"\")\n",
    "for i in range(len(folds)):\n",
    "    train, test = create_train_test(folds, i)    \n",
    "    y = [sample[-1] for sample in test]       \n",
    "    \n",
    "    base_y_hat = [sample[-1] for sample in train]\n",
    "    base_y_hat = mean(base_y_hat)    \n",
    "    mse_base = mean_squared_error([base_y_hat]*len(y), y)\n",
    "    mse_base_list.append(mse_base)\n",
    "    \n",
    "    knn_y_hat = [knn_regression(train, test[i], 9) for i in range(len(test)-1)]\n",
    "    mse_knn = mean_squared_error(knn_y_hat, y)\n",
    "    mse_knn_list.append(mse_knn)\n",
    "    print(f\"\"\"{i+1 : <5}{mse_knn : ^15.4f}{mse_base : >10.4f}\"\"\")\n",
    "\n",
    "print(f\"\"\"{mean_label : <5}{mean(mse_knn_list) : ^15.4f}\\\n",
    "{mean(mse_base_list) : >10.4f}\"\"\")"
   ]
  },
  {
   "cell_type": "code",
   "execution_count": 31,
   "metadata": {},
   "outputs": [
    {
     "data": {
      "image/png": "[encoded data removed]",
      "text/plain": [
       "<Figure size 720x504 with 1 Axes>"
      ]
     },
     "metadata": {
      "needs_background": "light"
     },
     "output_type": "display_data"
    }
   ],
   "source": [
    "fig = plt.figure(figsize=(10, 7))\n",
    "plt.plot(range(1,11),mse_knn_list, label='KNN MSE')\n",
    "plt.plot(range(1,11),mse_base_list, label = 'Base MSE')\n",
    "plt.xlabel(\"Fold\")\n",
    "plt.legend(fontsize=12)\n",
    "plt.title('KNN MSE vs. Base MSE')\n",
    "plt.show()"
   ]
  },
  {
   "cell_type": "markdown",
   "metadata": {},
   "source": [
    "### Interpretation of results\n",
    "Our KNN model shows significant MSE improvement over the baseline model. This happens both in each individual fold as well as the mean MSE results. The graph above provides a clear depiction of the improvement generated from using the knn(k=9) model versus the baseline model. It is important to denote moving forward that we prefer a lower MSE, that means that when reading the graphs, a lower MSE value is better than a higher MSE value."
   ]
  },
  {
   "cell_type": "markdown",
   "metadata": {},
   "source": [
    "## Problem 3: Hyperparameter Tuning\n",
    "\n",
    "Tune the value of k."
   ]
  },
  {
   "cell_type": "markdown",
   "metadata": {},
   "source": [
    "### `evaluate()` function\n",
    "In keeping with the course notes, we will follow the pseudo-code provided in order to generate validation curves. To that end I have implemented the `evaluate()` function. `evaluate()` takes in the `model` which corresponds to the knn regression; `evalutation` corresponds to the cost function which is in this case MSE; `train` is the training set; `test` when appropriate is the test set; and finally the `hyperparameter` to test.\n",
    "I will use this function to loop through different $k$ hyperparameter values to test and will compute MSE statistics both on the training set, as well as the test set using the training set for prediction."
   ]
  },
  {
   "cell_type": "code",
   "execution_count": 32,
   "metadata": {},
   "outputs": [],
   "source": [
    "def evaluate(model: callable, evaluation: callable, train: list, test: list, hyperparameter: int):\n",
    "    y_hat = []\n",
    "    y = []\n",
    "    if test is None:\n",
    "        for i in range(len(train)):\n",
    "            data_copy = train.copy()\n",
    "            sample = data_copy.pop(i)\n",
    "            y_hat.append(model(data_copy, sample, hyperparameter))\n",
    "            y.append(sample[-1])\n",
    "        evaluation_value = evaluation(y_hat, y)\n",
    "    else:\n",
    "        for i in range(len(test)):\n",
    "            data_copy = train.copy()\n",
    "            sample = test[i]\n",
    "            y_hat.append(model(data_copy, sample, hyperparameter))\n",
    "            y.append(sample[-1])\n",
    "        evaluation_value = evaluation(y_hat, y) \n",
    "    return evaluation_value"
   ]
  },
  {
   "cell_type": "code",
   "execution_count": 33,
   "metadata": {},
   "outputs": [],
   "source": [
    "# using the Self Check data we can check the MSE produced\n",
    "assert evaluate(knn_regression,mean_squared_error,x1,None,3) == 0.011684444444444445"
   ]
  },
  {
   "cell_type": "code",
   "execution_count": 34,
   "metadata": {},
   "outputs": [
    {
     "name": "stdout",
     "output_type": "stream",
     "text": [
      "K     Training MSE    Test MSE\n",
      "1        77.6845       68.8143\n",
      "2        79.6484       68.2664\n",
      "3        76.0530       71.3869\n",
      "4        77.9005       71.0259\n",
      "5        81.2431       72.7645\n",
      "6        81.9068       78.6297\n",
      "7        84.9855       84.1299\n",
      "8        86.0835       92.1410\n",
      "9        87.0801      100.2702\n",
      "10       89.2377      102.3496\n",
      "11       91.3533      103.4688\n",
      "12       93.9367      106.7680\n",
      "13       94.9467      106.5150\n",
      "14       96.1221      103.9755\n",
      "15       97.7528      105.7791\n",
      "16       98.8605      108.0895\n",
      "17      101.1772      110.2578\n",
      "18      104.0471      115.1665\n",
      "19      105.8599      119.2254\n",
      "20      108.1113      124.9322\n",
      "21      109.5508      125.9410\n",
      "22      112.0052      128.8800\n",
      "23      113.6571      131.3421\n",
      "24      114.6750      131.8376\n",
      "Mean     94.3283      101.3315\n"
     ]
    }
   ],
   "source": [
    "train_mse_list = []\n",
    "test_mse_list = []\n",
    "k_range = range(1,25)\n",
    "k_label = 'K'\n",
    "training_label = 'Training MSE'\n",
    "test_label = 'Test MSE'\n",
    "mean_label = \"Mean\"\n",
    "print(f\"\"\"{k_label : <5}{training_label : ^15}{test_label : >10}\"\"\")\n",
    "for k in k_range:\n",
    "    train, test = create_train_test(folds, 0)\n",
    "    \n",
    "    # compute training knn\n",
    "    train_mse = evaluate(knn_regression,mean_squared_error,train,None,k)\n",
    "    train_mse_list.append(train_mse)\n",
    "    \n",
    "    # compute training knn\n",
    "    test_mse = evaluate(knn_regression,mean_squared_error,train,test,k)\n",
    "    test_mse_list.append(test_mse)\n",
    "    \n",
    "    print(f\"\"\"{k : <5}{train_mse : ^15.4f}{test_mse : >10.4f}\"\"\")\n",
    "    \n",
    "print(f\"\"\"{mean_label : <5}{mean(train_mse_list) : ^15.4f}\\\n",
    "{mean(test_mse_list) : >10.4f}\"\"\")"
   ]
  },
  {
   "cell_type": "code",
   "execution_count": 35,
   "metadata": {},
   "outputs": [
    {
     "data": {
      "image/png": "[encoded data removed]",
      "text/plain": [
       "<Figure size 720x504 with 1 Axes>"
      ]
     },
     "metadata": {
      "needs_background": "light"
     },
     "output_type": "display_data"
    }
   ],
   "source": [
    "fig = plt.figure(figsize=(10, 7))\n",
    "plt.plot(k_range,train_mse_list, c='blue', label='Train')\n",
    "plt.plot(k_range,test_mse_list, c='red', label='Test')\n",
    "plt.xlabel(\"K\")\n",
    "plt.xticks(k_range)\n",
    "plt.ylabel(\"Mean Squared Error\")\n",
    "plt.legend(fontsize=12)\n",
    "plt.title('Validation Curves')\n",
    "plt.show()"
   ]
  },
  {
   "cell_type": "markdown",
   "metadata": {},
   "source": [
    "### Interpreting the validation curves\n",
    "I have previously mentioned that we would prefer lower MSE values. It is important also to understand the mechanics of knn by virtue of its definition. As $k$ increases, the number of observations used to derive a particular predicted value increases. This means that the algorithm is looking outward into observations further out (or less similar) to those closest. Because of this, it is no surprise that MSE increases as $k$ increases. For this data, it seems as though the gap between the test and training data stabilizes for higher $k$. Because of this particular characteristic, I would prefer to stay within $k<10$.\n",
    "\n",
    "In the course notes it is indicated that in general we should pick the value of the hyperparameter where the test validation curve has a minimum. In this case that happens at $k=2$. It is also among the lower values for the training set. Therefore we will choose $k=2$ moving forward as our $k$ of choice."
   ]
  },
  {
   "cell_type": "markdown",
   "metadata": {},
   "source": [
    "## Problem 4: Generalization Error\n",
    "\n",
    "Analyze and discuss the generalization error of your model with the value of k from Problem 3."
   ]
  },
  {
   "cell_type": "markdown",
   "metadata": {},
   "source": [
    "### Generalization for $k=2$\n",
    "Below I implement the same code we did for problem 2, this time using $k=2$. We want to compare is using this hyperparameter will serve to improve the MSE scores for the cross-validation across 10 folds."
   ]
  },
  {
   "cell_type": "code",
   "execution_count": 36,
   "metadata": {},
   "outputs": [
    {
     "name": "stdout",
     "output_type": "stream",
     "text": [
      "Fold     KNN MSE      Base MSE\n",
      "1        68.8999      262.3220\n",
      "2        71.5046      278.5835\n",
      "3       102.7091      253.5430\n",
      "4        86.5475      283.3392\n",
      "5        67.7506      272.0312\n",
      "6       101.6776      292.8178\n",
      "7        88.4393      302.5182\n",
      "8        75.1224      235.8173\n",
      "9        60.9490      294.7390\n",
      "10       70.6211      318.8422\n",
      "Mean     79.4221      279.4553\n"
     ]
    }
   ],
   "source": [
    "mse_base_list = []\n",
    "mse_knn_list = []\n",
    "folds = create_folds(data, 10)\n",
    "fold_label = 'Fold'\n",
    "knn_mse_label = 'KNN MSE'\n",
    "base_mse_label = 'Base MSE'\n",
    "mean_label = \"Mean\"\n",
    "print(f\"\"\"{fold_label : <5}{knn_mse_label : ^15}{base_mse_label : >10}\"\"\")\n",
    "for i in range(len(folds)):\n",
    "    train, test = create_train_test(folds, i)    \n",
    "    y = [sample[-1] for sample in test]       \n",
    "    \n",
    "    base_y_hat = [sample[-1] for sample in train]\n",
    "    base_y_hat = mean(base_y_hat)    \n",
    "    mse_base = mean_squared_error([base_y_hat]*len(y), y)\n",
    "    mse_base_list.append(mse_base)\n",
    "    \n",
    "    knn_y_hat = [knn_regression(train, test[i], 2) for i in range(len(test)-1)]\n",
    "    mse_knn = mean_squared_error(knn_y_hat, y)\n",
    "    mse_knn_list.append(mse_knn)\n",
    "    print(f\"\"\"{i+1 : <5}{mse_knn : ^15.4f}{mse_base : >10.4f}\"\"\")\n",
    "\n",
    "print(f\"\"\"{mean_label : <5}{mean(mse_knn_list) : ^15.4f}\\\n",
    "{mean(mse_base_list) : >10.4f}\"\"\")"
   ]
  },
  {
   "cell_type": "code",
   "execution_count": 37,
   "metadata": {},
   "outputs": [
    {
     "data": {
      "image/png": "[encoded data removed]",
      "text/plain": [
       "<Figure size 720x504 with 1 Axes>"
      ]
     },
     "metadata": {
      "needs_background": "light"
     },
     "output_type": "display_data"
    }
   ],
   "source": [
    "fig = plt.figure(figsize=(10, 7))\n",
    "plt.plot(range(1,11),mse_knn_list, label='KNN MSE')\n",
    "plt.plot(range(1,11),mse_base_list, label = 'Base MSE')\n",
    "plt.xlabel(\"Fold\")\n",
    "plt.legend(fontsize=12)\n",
    "plt.title('KNN MSE vs. Base MSE')\n",
    "plt.show()"
   ]
  },
  {
   "cell_type": "markdown",
   "metadata": {},
   "source": [
    "### Interpretation\n",
    "Recall that in part 2 we indicated that Knn outperformed significantly the baseline model. It is also the case that the $k=2$ model outperforms the $k=9$ model. The mean MSE score for $k=2$ is $79.4221$, compared to $91.3131$ in the case of $k=9$. This is a significant improvement that is consistent across the different folds. "
   ]
  },
  {
   "cell_type": "markdown",
   "metadata": {},
   "source": [
    "## Q5: Choose your own adventure\n",
    "\n",
    "You have three options for the next part:\n",
    "\n",
    "1. You can implement mean normalization (also called \"z-score standardization\") of the *features*; do not normalize the target, y. See if this improves the generalization error of your model (middle).\n",
    "\n",
    "2. You can implement *learning curves* to see if more data would likely improve your model (easiest).\n",
    "\n",
    "3. You can implement *weighted* kNN and use the real valued GA to choose the weights. weighted kNN assigns a weight to each item in the Euclidean distance calculation. For two points, j and k:\n",
    "$$\\sqrt{\\sum w_i (x^k_i - x^j_i)^2}$$\n",
    "\n",
    "You can think of normal Euclidean distance as the case where $w_i = 1$ for all features  (ambitious, but fun...you need to start EARLY because it takes a really long time to run).\n",
    "\n",
    "The easier the adventure the more correct it must be..."
   ]
  },
  {
   "cell_type": "markdown",
   "metadata": {},
   "source": [
    "### Choosing path 2\n",
    "I have chosen path 2, this involves normalizing all of the features on the trainings and test data in order to produce a better prediction. \n",
    "Normalization, at least as described in the problem requires z-score normalization. z-score normalization is denoted by the following formula:\n",
    "$$\n",
    "Z = \\frac{X - \\bar{x}}{\\sigma}\n",
    "$$\n",
    "Where $X$ corresponds to a vector (column) of data, $\\bar{x}$ corresponds to the mean value of the vector as previously implemented, and $\\sigma$ corresponds to the standard deviation of the column. $\\sigma$ for a sample is given by\n",
    "$$\n",
    "\\sigma = \\sqrt{\\frac{\\sum_{i=1}^n (x_i - \\bar{x})^2}{n-1}}\n",
    "$$\n",
    "\n",
    "To this end, I have implemented the following functions:\n",
    "1. `means()` takes the training data and returns the data in column form as well as a list of the mean values per column (feature). \n",
    "2. `standard_deviations(column_data, mean_values)` takes in the data formated in columns from the previous function as well as the mean values and returns a list of the column standard deviations.\n",
    "3. `z_score_normalization(data, mean_values, sds)` takes in the `data` that we want to normalize along with the `mean_values` and `sds` (standard deviation) lists. The function only transforms the features and does not transform the target values. This function returns normalized features on the data.\n",
    "\n"
   ]
  },
  {
   "cell_type": "code",
   "execution_count": 38,
   "metadata": {},
   "outputs": [],
   "source": [
    "def means(data):\n",
    "    data_copy = copy.deepcopy(data)\n",
    "    columns = [[] for i in range(len(data_copy[0]))]\n",
    "    for row in range(len(data_copy)):\n",
    "        for col in range(len(data_copy[row])):\n",
    "            columns[col].append(data_copy[row][col])\n",
    "    mean_values = [mean(columns[col]) for col in range(len(columns))]\n",
    "    return columns, mean_values"
   ]
  },
  {
   "cell_type": "code",
   "execution_count": 39,
   "metadata": {},
   "outputs": [],
   "source": [
    "# using the x_1 data from the self check to validate the means\n",
    "columns, mean_values = means(x1)\n",
    "assert mean_values == [0.584, 0.4880000000000001, 0.22800000000000004]"
   ]
  },
  {
   "cell_type": "code",
   "execution_count": 40,
   "metadata": {},
   "outputs": [],
   "source": [
    "def standard_deviations(column_data, mean_values):\n",
    "    sds = []\n",
    "    for col in range(len(column_data)):\n",
    "        column = column_data[col]\n",
    "        sd = 0\n",
    "        n = 0\n",
    "        for row in range(len(column)):\n",
    "            sd += (column[row] - mean_values[col])**2\n",
    "            n += 1\n",
    "        sd = (sd / (n-1))**0.5\n",
    "        sds.append(sd)\n",
    "    return sds"
   ]
  },
  {
   "cell_type": "code",
   "execution_count": 41,
   "metadata": {},
   "outputs": [],
   "source": [
    "sds = standard_deviations(columns, mean_values)\n",
    "assert sds == [0.25890152568109753, 0.29482198018465317, 0.08983317872590282]"
   ]
  },
  {
   "cell_type": "code",
   "execution_count": 42,
   "metadata": {},
   "outputs": [],
   "source": [
    "def z_score_normalization(data, mean_values, sds):    \n",
    "    data_copy = copy.deepcopy(data)\n",
    "    targets = []\n",
    "    for row in range(len(data_copy)):\n",
    "        target = data_copy[row].pop(-1)\n",
    "        for col in range(len(data_copy[row])):\n",
    "            data_copy[row][col] = (data_copy[row][col] - mean_values[col]) / sds[col]\n",
    "        data_copy[row].append(target)\n",
    "    return data_copy       "
   ]
  },
  {
   "cell_type": "code",
   "execution_count": 43,
   "metadata": {},
   "outputs": [],
   "source": [
    "# normalize the data, notice that each feature column has a mean of 0 and standard deviation of 1.\n",
    "# also notice that the target variable has not been modified\n",
    "assert z_score_normalization(x1, mean_values, sds) == [[-1.3673152333448981, 1.0921845101180199, 0.18],\n",
    "                                                       [-0.6334454753349245, 0.9904281892995707, 0.33],\n",
    "                                                       [0.21629845499241346, -0.8751043590386623, 0.14],\n",
    "                                                       [1.1046671094255394, -1.010779453463261, 0.17],\n",
    "                                                       [0.6797951442618704, -0.19672888691566856, 0.32]]"
   ]
  },
  {
   "cell_type": "markdown",
   "metadata": {},
   "source": [
    "### Implementing standard normalization on the training and test data\n",
    "Below I use code very similar to that in step 2. The difference this time is that I am normalizing the training and test data. It is important to indicate that I only normalize the test data using statistics generated from the training dataset. This is because I do not want to introduce look-ahead bias into the data. That is, the test data should only be normalized with estimates generated from the training set. "
   ]
  },
  {
   "cell_type": "code",
   "execution_count": 44,
   "metadata": {},
   "outputs": [
    {
     "name": "stdout",
     "output_type": "stream",
     "text": [
      "Fold     KNN MSE      Base MSE\n",
      "1        70.7367      262.3220\n",
      "2        71.7908      278.5835\n",
      "3       105.5525      253.5430\n",
      "4        96.3665      283.3392\n",
      "5        68.4574      272.0312\n",
      "6       108.6189      292.8178\n",
      "7        80.2937      302.5182\n",
      "8        72.5052      235.8173\n",
      "9        55.3371      294.7390\n",
      "10       63.7184      318.8422\n",
      "Mean     79.3377      279.4553\n"
     ]
    }
   ],
   "source": [
    "mse_base_list = []\n",
    "mse_knn_list = []\n",
    "folds = create_folds(data, 10)\n",
    "fold_label = 'Fold'\n",
    "knn_mse_label = 'KNN MSE'\n",
    "base_mse_label = 'Base MSE'\n",
    "mean_label = \"Mean\"\n",
    "print(f\"\"\"{fold_label : <5}{knn_mse_label : ^15}{base_mse_label : >10}\"\"\")\n",
    "for i in range(len(folds)):\n",
    "    \n",
    "    train, test = create_train_test(folds, i)\n",
    "    \n",
    "    columns, mean_values = means(train)    \n",
    "    sds = standard_deviations(columns, mean_values)\n",
    "    normalized_train = z_score_normalization(train, mean_values, sds)\n",
    "    normalized_test = z_score_normalization(test, mean_values, sds)\n",
    "    \n",
    "    \n",
    "    y = [sample[-1] for sample in test]       \n",
    "    \n",
    "    base_y_hat = [sample[-1] for sample in normalized_train]\n",
    "    base_y_hat = mean(base_y_hat)    \n",
    "    mse_base = mean_squared_error([base_y_hat]*len(y), y)\n",
    "    mse_base_list.append(mse_base)\n",
    "    \n",
    "    knn_y_hat = [knn_regression(normalized_train, normalized_test[i], 2) for i in range(len(normalized_test))]\n",
    "    mse_knn = mean_squared_error(knn_y_hat, y)\n",
    "    mse_knn_list.append(mse_knn)\n",
    "    print(f\"\"\"{i+1 : <5}{mse_knn : ^15.4f}{mse_base : >10.4f}\"\"\")\n",
    "\n",
    "print(f\"\"\"{mean_label : <5}{mean(mse_knn_list) : ^15.4f}\\\n",
    "{mean(mse_base_list) : >10.4f}\"\"\")"
   ]
  },
  {
   "cell_type": "code",
   "execution_count": 45,
   "metadata": {},
   "outputs": [
    {
     "data": {
      "image/png": "[encoded data removed]",
      "text/plain": [
       "<Figure size 720x504 with 1 Axes>"
      ]
     },
     "metadata": {
      "needs_background": "light"
     },
     "output_type": "display_data"
    }
   ],
   "source": [
    "fig = plt.figure(figsize=(10, 7))\n",
    "plt.plot(range(1,11),mse_knn_list, label='KNN MSE')\n",
    "plt.plot(range(1,11),mse_base_list, label = 'Base MSE')\n",
    "plt.xlabel(\"Fold\")\n",
    "plt.legend(fontsize=12)\n",
    "plt.title('KNN MSE vs. Base MSE')\n",
    "plt.show()"
   ]
  },
  {
   "cell_type": "markdown",
   "metadata": {},
   "source": [
    "### Interpreting the results\n",
    "I think it is important to step back before looking at any particular metrics and see what we have achieved by normalizing data. In general, normalizationis used in an effort to have the training data in a similar scale. It should also serve to improve the stability of the training model. However, knn should not particularly benefit from this transformation. The reason being that we are simply scaling the features but not necessarily choose a different set of $k$ neares neighbors as a result. Should  the neighbors change dramatically by normalizing, then the prediction value would significantly change. Yet, they do not. Therefore I do not expect a dramatic improvement from implementing these changes.\n",
    "\n",
    "This is lack of dramatic improvement is shown in the average MSE exposed in the model. Using standard normalization, the $k=2$ model achieved an average MSE of $79.3377$ versus $79.4221$ without normalization. Although there is some improvement, I would say that it is somewhat negligible. Notice also that the Baseline MSE are unchanged, this is because the target variables are untouched and not normalized. "
   ]
  },
  {
   "cell_type": "markdown",
   "metadata": {},
   "source": [
    "## Before You Submit...\n",
    "\n",
    "1. Did you provide output exactly as requested?\n",
    "2. Did you re-execute the entire notebook? (\"Restart Kernel and Rull All Cells...\")\n",
    "3. If you did not complete the assignment or had difficulty please explain what gave you the most difficulty in the Markdown cell below.\n",
    "4. Did you change the name of the file to `jhed_id.ipynb`?\n",
    "\n",
    "Do not submit any other files."
   ]
  }
 ],
 "metadata": {
  "kernelspec": {
   "display_name": "Python 3 (ipykernel)",
   "language": "python",
   "name": "python3"
  },
  "language_info": {
   "codemirror_mode": {
    "name": "ipython",
    "version": 3
   },
   "file_extension": ".py",
   "mimetype": "text/x-python",
   "name": "python",
   "nbconvert_exporter": "python",
   "pygments_lexer": "ipython3",
   "version": "3.9.7"
  },
  "toc": {
   "colors": {
    "hover_highlight": "#DAA520",
    "navigate_num": "#000000",
    "navigate_text": "#333333",
    "running_highlight": "#FF0000",
    "selected_highlight": "#FFD700",
    "sidebar_border": "#EEEEEE",
    "wrapper_background": "#FFFFFF"
   },
   "moveMenuLeft": true,
   "nav_menu": {
    "height": "117px",
    "width": "252px"
   },
   "navigate_menu": true,
   "number_sections": true,
   "sideBar": true,
   "threshold": 4,
   "toc_cell": false,
   "toc_section_display": "block",
   "toc_window_display": false,
   "widenNotebook": false
  }
 },
 "nbformat": 4,
 "nbformat_minor": 4
}
