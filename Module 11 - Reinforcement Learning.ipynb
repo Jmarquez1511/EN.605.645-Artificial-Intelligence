{
 "cells": [
  {
   "cell_type": "markdown",
   "metadata": {},
   "source": [
    "# Module 11 - Programming Assignment\n",
    "\n",
    "## Directions\n",
    "\n",
    "1. Change the name of this file to be your JHED id as in `jsmith299.ipynb`. Because sure you use your JHED ID (it's made out of your name and not your student id which is just letters and numbers).\n",
    "2. Make sure the notebook you submit is cleanly and fully executed. I do not grade unexecuted notebooks.\n",
    "3. Submit your notebook back in Blackboard where you downloaded this file.\n",
    "\n",
    "*Provide the output **exactly** as requested*"
   ]
  },
  {
   "cell_type": "markdown",
   "metadata": {},
   "source": [
    "## Reinforcement Learning with Value Iteration\n",
    "\n",
    "These are the same maps from Module 1 but the \"physics\" of the world have changed. In Module 1, the world was deterministic. When the agent moved \"south\", it went \"south\". When it moved \"east\", it went \"east\". Now, the agent only succeeds in going where it wants to go *sometimes*. There is a probability distribution over the possible states so that when the agent moves \"south\", there is a small probability that it will go \"east\", \"north\", or \"west\" instead and have to move from there.\n",
    "\n",
    "There are a variety of ways to handle this problem. For example, if using A\\* search, if the agent finds itself off the solution, you can simply calculate a new solution from where the agent ended up. Although this sounds like a really bad idea, it has actually been shown to work really well in video games that use formal planning algorithms (which we will cover later). When these algorithms were first designed, this was unthinkable. Thank you, Moore's Law!\n",
    "\n",
    "Another approach is to use Reinforcement Learning which covers problems where there is some kind of general uncertainty in the actions. We're going to model that uncertainty a bit unrealistically here but it'll show you how the algorithm works.\n",
    "\n",
    "As far as RL is concerned, there are a variety of options there: model-based and model-free, Value Iteration, Q-Learning and SARSA. You are going to use Value Iteration."
   ]
  },
  {
   "cell_type": "markdown",
   "metadata": {},
   "source": [
    "## The World Representation\n",
    "\n",
    "As before, we're going to simplify the problem by working in a grid world. The symbols that form the grid have a special meaning as they specify the type of the terrain and the cost to enter a grid cell with that type of terrain:\n",
    "\n",
    "```\n",
    "token   terrain    cost \n",
    ".       plains     1\n",
    "*       forest     3\n",
    "^       hills      5\n",
    "~       swamp      7\n",
    "x       mountains  impassible\n",
    "```\n",
    "\n",
    "When you go from a plains node to a forest node it costs 3. When you go from a forest node to a plains node, it costs 1. You can think of the grid as a big graph. Each grid cell (terrain symbol) is a node and there are edges to the north, south, east and west (except at the edges).\n",
    "\n",
    "There are quite a few differences between A\\* Search and Reinforcement Learning but one of the most salient is that A\\* Search returns a plan of N steps that gets us from A to Z, for example, A->C->E->G.... Reinforcement Learning, on the other hand, returns  a *policy* that tells us the best thing to do in **every state.**\n",
    "\n",
    "For example, the policy might say that the best thing to do in A is go to C. However, we might find ourselves in D instead. But the policy covers this possibility, it might say, D->E. Trying this action might land us in C and the policy will say, C->E, etc. At least with offline learning, everything will be learned in advance (in online learning, you can only learn by doing and so you may act according to a known but suboptimal policy).\n",
    "\n",
    "Nevertheless, if you were asked for a \"best case\" plan from (0, 0) to (n-1, n-1), you could (and will) be able to read it off the policy because there is a best action for every state. You will be asked to provide this in your assignment."
   ]
  },
  {
   "cell_type": "markdown",
   "metadata": {},
   "source": [
    "We have the same costs as before. Note that we've negated them this time because RL requires negative costs and positive rewards:"
   ]
  },
  {
   "cell_type": "code",
   "execution_count": 1,
   "metadata": {},
   "outputs": [
    {
     "data": {
      "text/plain": [
       "{'.': -1, '*': -3, '^': -5, '~': -7}"
      ]
     },
     "execution_count": 1,
     "metadata": {},
     "output_type": "execute_result"
    }
   ],
   "source": [
    "costs = { '.': -1, '*': -3, '^': -5, '~': -7}\n",
    "costs"
   ]
  },
  {
   "cell_type": "markdown",
   "metadata": {},
   "source": [
    "and a list of offsets for `cardinal_moves`. You'll need to work this into your **actions**, A, parameter."
   ]
  },
  {
   "cell_type": "code",
   "execution_count": 2,
   "metadata": {},
   "outputs": [],
   "source": [
    "cardinal_moves = [(0,-1), (1,0), (0,1), (-1,0)]"
   ]
  },
  {
   "cell_type": "markdown",
   "metadata": {},
   "source": [
    "For Value Iteration, we require knowledge of the *transition* function, as a probability distribution.\n",
    "\n",
    "The transition function, T, for this problem is 0.70 for the desired direction, and 0.10 each for the other possible directions. That is, if the agent selects \"north\" then 70% of the time, it will go \"north\" but 10% of the time it will go \"east\", 10% of the time it will go \"west\", and 10% of the time it will go \"south\". If agent is at the edge of the map, it simply bounces back to the current state.\n",
    "\n",
    "You need to implement `value_iteration()` with the following parameters:\n",
    "\n",
    "+ world: a `List` of `List`s of terrain (this is S from S, A, T, gamma, R)\n",
    "+ costs: a `Dict` of costs by terrain (this is part of R)\n",
    "+ goal: A `Tuple` of (x, y) stating the goal state.\n",
    "+ reward: The reward for achieving the goal state.\n",
    "+ actions: a `List` of possible actions, A, as offsets.\n",
    "+ gamma: the discount rate\n",
    "\n",
    "you will return a policy: \n",
    "\n",
    "`{(x1, y1): action1, (x2, y2): action2, ...}`\n",
    "\n",
    "Remember...a policy is what to do in any state for all the states. Notice how this is different than A\\* search which only returns actions to take from the start to the goal. This also explains why reinforcement learning doesn't take a `start` state.\n",
    "\n",
    "You should also define a function `pretty_print_policy( cols, rows, policy)` that takes a policy and prints it out as a grid using \"^\" for up, \"<\" for left, \"v\" for down and \">\" for right. Use \"x\" for any mountain or other impassable square. Note that it doesn't need the `world` because the policy has a move for every state. However, you do need to know how big the grid is so you can pull the values out of the `Dict` that is returned.\n",
    "\n",
    "```\n",
    "vvvvvvv\n",
    "vvvvvvv\n",
    "vvvvvvv\n",
    ">>>>>>v\n",
    "^^^>>>v\n",
    "^^^>>>v\n",
    "^^^>>>G\n",
    "```\n",
    "\n",
    "(Note that that policy is completely made up and only illustrative of the desired output). Please print it out exactly as requested: **NO EXTRA SPACES OR LINES**.\n",
    "\n",
    "* If everything is otherwise the same, do you think that the path from (0,0) to the goal would be the same for both A\\* Search and Q-Learning?\n",
    "* What do you think if you have a map that looks like:\n",
    "\n",
    "```\n",
    "><>>^\n",
    ">>>>v\n",
    ">>>>v\n",
    ">>>>v\n",
    ">>>>G\n",
    "```\n",
    "\n",
    "has this converged? Is this a \"correct\" policy? What are the problems with this policy as it is?\n"
   ]
  },
  {
   "cell_type": "code",
   "execution_count": 3,
   "metadata": {},
   "outputs": [],
   "source": [
    "def read_world(filename):\n",
    "    result = []\n",
    "    with open(filename) as f:\n",
    "        for line in f.readlines():\n",
    "            if len(line) > 0:\n",
    "                result.append(list(line.strip()))\n",
    "    return result"
   ]
  },
  {
   "cell_type": "markdown",
   "metadata": {},
   "source": [
    "---"
   ]
  },
  {
   "cell_type": "code",
   "execution_count": 4,
   "metadata": {},
   "outputs": [],
   "source": [
    "small_world = read_world('small.txt')"
   ]
  },
  {
   "cell_type": "code",
   "execution_count": 5,
   "metadata": {},
   "outputs": [
    {
     "data": {
      "text/plain": [
       "[['.', '.', '.', '.', '.', '.'],\n",
       " ['.', '*', '*', '*', '*', '.'],\n",
       " ['.', '*', '*', '*', '*', '.'],\n",
       " ['.', '*', '*', 'x', '*', '.'],\n",
       " ['.', '*', '*', '*', '*', '.'],\n",
       " ['.', '.', '.', '.', '.', '.'],\n",
       " ['.', '.', '.', '.', '.', '.']]"
      ]
     },
     "execution_count": 5,
     "metadata": {},
     "output_type": "execute_result"
    }
   ],
   "source": [
    "small_world"
   ]
  },
  {
   "cell_type": "markdown",
   "metadata": {},
   "source": [
    "### Necessary Components for the Value Iteration Procedure\n",
    "#### `reward(world:list, state:tuple, costs:dict)`\n",
    "`reward(world:list, state:tuple, costs:dict)` provides the $R$ element in the Value Iteration procedure. It simply provides the reward of a `state` given the `costs` and the `world` provided. In the case that the state is out of bounds or the state is impassible (mountains), we pass 10 times the value of the worst reward (considering they are negative). "
   ]
  },
  {
   "cell_type": "code",
   "execution_count": 6,
   "metadata": {},
   "outputs": [],
   "source": [
    "def get_reward(world:list, state:tuple, costs:dict) -> int:\n",
    "    max_width = len(world[0])\n",
    "    max_height = len(world)\n",
    "    if state[0] not in range(max_width) or state[1] not in range(max_height) or world[state[1]][state[0]] == 'x':\n",
    "        return min(costs.values()) * 10\n",
    "    else:\n",
    "        return costs[world[state[1]][state[0]]]"
   ]
  },
  {
   "cell_type": "code",
   "execution_count": 7,
   "metadata": {},
   "outputs": [],
   "source": [
    "# at the beginning, \n",
    "assert get_reward(small_world, (0,0), costs) == -1\n",
    "# The following yields * which should have a reward of -3\n",
    "# edge case when out of bounds at state (3,10), in this case we give the worst reward\n",
    "assert get_reward(small_world, (3,10), costs) == -70\n",
    "# case when we meet a mountain 'x', it should yield the worst case of -7*10\n",
    "assert get_reward(small_world, (3,3), costs) == -70"
   ]
  },
  {
   "cell_type": "markdown",
   "metadata": {},
   "source": [
    "#### transition(state:tuple, action:tuple, actions:tuple, desired_prob:float) -> list\n",
    "The function `transition()` corresponds to the implementation of $T$ above in the problem statement. It will return a list of all the available `actions`. The desired `action` will receive the desired probability (`desired_prob`) while the other actions will receive an equal division of the residual probability (1-`desired_prob` / number of actions), once we have the probabilities and actions, we will implement them to the `state`. Notice that whenever the action results out of bounds, then we do not change the position of the agent. Instead we leave the agent where it originally started. This corresponds to my implementation of the 'bounce back' direction from the problem statement."
   ]
  },
  {
   "cell_type": "code",
   "execution_count": 8,
   "metadata": {},
   "outputs": [],
   "source": [
    "def transition(state:tuple, action:tuple, actions:tuple, desired_prob:float, world:list) -> list:\n",
    "    unplanned_actions = [unplanned for unplanned in actions if unplanned != action]\n",
    "    undesired_prob = (1-desired_prob) / len(unplanned_actions)\n",
    "    t = [(desired_prob, action)]\n",
    "    unplanned_actions = [(undesired_prob, undesired) for undesired in unplanned_actions]\n",
    "    t += unplanned_actions\n",
    "    imp_t = []\n",
    "    for t_i in t:\n",
    "        new_position = (t_i[1][0]+state[0],t_i[1][1]+state[1])\n",
    "        if new_position[0] in range(len(world[0])) and new_position[1] in range(len(world)):\n",
    "            imp_t.append((t_i[0],new_position))\n",
    "        else:\n",
    "            imp_t.append((t_i[0],state))\n",
    "    return imp_t"
   ]
  },
  {
   "cell_type": "code",
   "execution_count": 9,
   "metadata": {},
   "outputs": [],
   "source": [
    "# from the initial point (0,0) if the desired action is to go down, then (0,1) should receive 0.7 probability and the rest\n",
    "# about 0.1\n",
    "assert transition((0,0), (0,1), cardinal_moves, 0.7, small_world) == [(0.7, (0, 1)),\n",
    "                                                                      (0.10000000000000002, (0, 0)),\n",
    "                                                                      (0.10000000000000002, (1, 0)),\n",
    "                                                                      (0.10000000000000002, (0, 0))]\n",
    "# similarly, starting at (5,5) with a desired action of going left one (-1,0) then (4,5) should receive 0.7 probability\n",
    "# while the others receive ~0.1\n",
    "assert transition((5,5), (-1,0), cardinal_moves, 0.7, small_world) == [(0.7, (4, 5)),\n",
    "                                                                       (0.10000000000000002, (5, 4)),\n",
    "                                                                       (0.10000000000000002, (5, 5)),\n",
    "                                                                       (0.10000000000000002, (5, 6))]"
   ]
  },
  {
   "cell_type": "markdown",
   "metadata": {},
   "source": [
    "#### Helper Functions\n",
    "##### `arg_max(sequence, function, world)`\n",
    "`arg_max()` loops through the given values of a `function` and stores the best_score of such `function` along with the argument or variable that generates such best score. This function is used below when trying to find the max argument of a state in a given policy\n",
    "##### `expected_utility(a, actions, state, U, desired_prob, world)`\n",
    "`expected_utility()` computes the utility of a given transition (as computed in `transition()`) in a particular state. This function is used to find the best policy.\n",
    "##### `best_policy(states, U, actions, desired_prob, world)`\n",
    "`best_policy()` uses `arg_max()` and `expected_utility()` to find the action within `actions` which provides the highest policy value or utility in a given state given the policy `U`."
   ]
  },
  {
   "cell_type": "code",
   "execution_count": 10,
   "metadata": {},
   "outputs": [],
   "source": [
    "def best_policy(states, U, actions, desired_prob, world):\n",
    "    pi = {}\n",
    "    for state in states:\n",
    "        pi[state] = arg_max(actions, lambda a: expected_utility(a, actions, state, U, desired_prob, world), world)\n",
    "    return pi"
   ]
  },
  {
   "cell_type": "code",
   "execution_count": 11,
   "metadata": {},
   "outputs": [],
   "source": [
    "def arg_max(sequence, function, world):\n",
    "    best = sequence[0]\n",
    "    best_score = function(best)\n",
    "    for i in sequence:\n",
    "        if i[0] in range(len(world[0])) and i[1] in range(len(world)):\n",
    "            i_score = function(i)\n",
    "            if i_score > best_score:            \n",
    "                best, best_score = i, i_score                        \n",
    "    return best"
   ]
  },
  {
   "cell_type": "code",
   "execution_count": 12,
   "metadata": {},
   "outputs": [],
   "source": [
    "def expected_utility(a, actions, state, U, desired_prob, world):\n",
    "    return sum([p * U[s1] for (p, s1) in transition(state, a, actions, desired_prob, world)])"
   ]
  },
  {
   "cell_type": "markdown",
   "metadata": {},
   "source": [
    "### `value_iteration(world, costs, goal, reward, actions, gamma, desired_prob, epsilon)`\n",
    "`value_iteration()` implements the pseudo-code provided in the book in Figure 17.6 (page 573). Some of the differences with the pseudo-code are related to the instructions provided in the problem statement and implemented in `reward()` and in `transition()`. "
   ]
  },
  {
   "cell_type": "code",
   "execution_count": 13,
   "metadata": {},
   "outputs": [],
   "source": [
    "def value_iteration(world, costs, goal, reward, actions, gamma, desired_prob, epsilon):\n",
    "    width= len(world[0])\n",
    "    height= len(world)\n",
    "    states = [(x,y) for x in range(width) for y in range(height)]\n",
    "    U_1 = dict([(s,0) for s in states])\n",
    "    while True:\n",
    "        U = U_1.copy()\n",
    "        \n",
    "        delta = 0\n",
    "        for state in states:\n",
    "            if state == goal:\n",
    "                R = reward\n",
    "            else:\n",
    "                R = get_reward(world, state, costs)\n",
    "            U_1[state] = R + gamma * max([sum([p * U[s1] for (p, s1) in transition(state, a, actions, desired_prob, world)\n",
    "                                               if s1 in U]) \n",
    "                                          for a in actions])\n",
    "            delta = max(delta, abs(U_1[state] - U[state]))\n",
    "\n",
    "        if delta < epsilon:\n",
    "            break\n",
    "    return best_policy(states, U, actions, desired_prob, world)"
   ]
  },
  {
   "cell_type": "code",
   "execution_count": 14,
   "metadata": {},
   "outputs": [],
   "source": [
    "pi = value_iteration(small_world, costs, (5,6), 10, cardinal_moves, 0.9, 0.7, 0.001)"
   ]
  },
  {
   "cell_type": "markdown",
   "metadata": {},
   "source": [
    "### `pretty_print_policy(cols, rows, policy,goal)`\n",
    "`pretty_print_policy()` is implemented as instructed. It takes the `cols` and `rows` of a world and given the resulting `policy` it maps its movements to actions. Those actions are then stored in a dictionary and later printed as concatenated strings. The position of the `goal` is used to identify and label it as 'G'."
   ]
  },
  {
   "cell_type": "code",
   "execution_count": 15,
   "metadata": {},
   "outputs": [],
   "source": [
    "from copy import deepcopy\n",
    "def pretty_print_policy(cols, rows, policy,goal):\n",
    "    action_map = {(0, -1):'^', (1, 0):'>', (0, 1):'v', (-1, 0):'<'}\n",
    "    arrows = {state:action_map[policy[state]] for state in policy}   \n",
    "    arrow_world = [[0 for i in range(cols)] for j in range(rows)]\n",
    "    for k in arrows:\n",
    "        if k[0]==goal[0] and k[1]==goal[1]:\n",
    "            arrow_world[k[1]][k[0]] = 'G'            \n",
    "        else:\n",
    "            arrow_world[k[1]][k[0]] = arrows[k]\n",
    "    for row in arrow_world:\n",
    "        print(''.join(row))"
   ]
  },
  {
   "cell_type": "code",
   "execution_count": 16,
   "metadata": {},
   "outputs": [
    {
     "name": "stdout",
     "output_type": "stream",
     "text": [
      "v>>>>v\n",
      "vv>>>v\n",
      "vvv>>v\n",
      "vvvv>v\n",
      "vvvvvv\n",
      ">>>>vv\n",
      ">>>>>G\n"
     ]
    }
   ],
   "source": [
    "cols = len(small_world[0])\n",
    "rows = len(small_world)\n",
    "pretty_print_policy(cols, rows, pi,(5,6))"
   ]
  },
  {
   "cell_type": "markdown",
   "metadata": {},
   "source": [
    "## Value Iteration\n",
    "\n",
    "### Small World"
   ]
  },
  {
   "cell_type": "code",
   "execution_count": 17,
   "metadata": {},
   "outputs": [],
   "source": [
    "small_world = read_world( \"small.txt\")"
   ]
  },
  {
   "cell_type": "code",
   "execution_count": 18,
   "metadata": {},
   "outputs": [],
   "source": [
    "goal = (len(small_world[0])-1, len(small_world)-1)\n",
    "gamma = 0.9\n",
    "\n",
    "small_policy = value_iteration(small_world, costs, goal, 10, cardinal_moves, gamma, 0.7, 0.001)"
   ]
  },
  {
   "cell_type": "code",
   "execution_count": 19,
   "metadata": {},
   "outputs": [
    {
     "name": "stdout",
     "output_type": "stream",
     "text": [
      "v>>>>v\n",
      "vv>>>v\n",
      "vvv>>v\n",
      "vvvv>v\n",
      "vvvvvv\n",
      ">>>>vv\n",
      ">>>>>G\n"
     ]
    }
   ],
   "source": [
    "cols = len(small_world[0])\n",
    "rows = len(small_world)\n",
    "\n",
    "pretty_print_policy(cols, rows, small_policy, goal)"
   ]
  },
  {
   "cell_type": "markdown",
   "metadata": {},
   "source": [
    "### Large World"
   ]
  },
  {
   "cell_type": "code",
   "execution_count": 20,
   "metadata": {},
   "outputs": [],
   "source": [
    "large_world = read_world( \"large.txt\")"
   ]
  },
  {
   "cell_type": "code",
   "execution_count": 21,
   "metadata": {},
   "outputs": [],
   "source": [
    "goal = (len(large_world[0])-1, len(large_world)-1) # Lower Right Corner FILL ME IN\n",
    "gamma = 0.9\n",
    "\n",
    "large_policy = value_iteration(large_world, costs, goal, 100000, cardinal_moves, gamma, 0.7, 0.00001)"
   ]
  },
  {
   "cell_type": "code",
   "execution_count": 22,
   "metadata": {},
   "outputs": [
    {
     "name": "stdout",
     "output_type": "stream",
     "text": [
      "v>>>>>>>>>>>>>>>>>>>>vvvvvv\n",
      "vv>>>>>>>>>>>>>>vvvvvvvvvvv\n",
      "vvvv>>>>>>>>>>>vvvvvvvvvvvv\n",
      "vvvvv>>>>>>>>>>>vvvvvvvvvvv\n",
      "vvvvv>>vv>>>>>>>>vvvvvvvvvv\n",
      "vvvvvvvvv>>>>>>>>>vvvvvvvvv\n",
      "vvvvvv>vvvvvvv>>>>vvvvvvvvv\n",
      "vvvvv>vvv>>>vv>>vvvvvvvvvvv\n",
      "vvv>>>vvv>>>>vvvvvvvvvvvvvv\n",
      "vvv>>>vvvvvvvvvvvvvvvvvvvvv\n",
      "vvv>>vvvvvvvvv>>>>vvvvvvvvv\n",
      "vv>>>vvvvv>v>>>>>>vvvvvvvvv\n",
      "vv>>>>vvvvvvvv>>>>>vvvvvvvv\n",
      "vv>>>>vvvvvv>>>v>>>vvvvvvvv\n",
      "vv>>>>>>vvvv>>>>>v>vvvvvvvv\n",
      "vvv>v>>>vvvvvv>>>>v>vvvvvvv\n",
      "vvv>>>>>>>vvvvvv>>vvvvvvvvv\n",
      "vvv>>>>>>>>>vvvvvvvvvvvvvvv\n",
      "vvvv>>>>>>>>>>>vvvvvvvvvvvv\n",
      "vvvvv>>>>>>>>>>>>>vv>vvvvvv\n",
      "vv>>>>>>>>>>>>>>>>>vvvvvvvv\n",
      "v>>>>>>>>>>>>>>>>>>>>vvvvvv\n",
      ">>>>>>>>>>>>>>>>>>>>>>>vvvv\n",
      ">>>>>>>>>>>>>>>>>>>>>>>>vvv\n",
      ">>>>>>>>>>>>>>>>>>>>>>>>vvv\n",
      ">>>>>>>>>>>>>>>>>>>>>>>>>vv\n",
      ">>>>>>>>>>>>>>>>>>>>>>>>>>G\n"
     ]
    }
   ],
   "source": [
    "cols = len(large_world[0])\n",
    "rows = len(large_world)\n",
    "\n",
    "pretty_print_policy( cols, rows, large_policy, goal)"
   ]
  },
  {
   "cell_type": "markdown",
   "metadata": {},
   "source": [
    "## Before You Submit...\n",
    "\n",
    "1. Did you provide output exactly as requested?\n",
    "2. Did you re-execute the entire notebook? (\"Restart Kernel and Rull All Cells...\")\n",
    "3. If you did not complete the assignment or had difficulty please explain what gave you the most difficulty in the Markdown cell below.\n",
    "4. Did you change the name of the file to `jhed_id.ipynb`?\n",
    "\n",
    "Do not submit any other files."
   ]
  },
  {
   "cell_type": "markdown",
   "metadata": {},
   "source": []
  }
 ],
 "metadata": {
  "kernelspec": {
   "display_name": "Python 3 (ipykernel)",
   "language": "python",
   "name": "python3"
  },
  "language_info": {
   "codemirror_mode": {
    "name": "ipython",
    "version": 3
   },
   "file_extension": ".py",
   "mimetype": "text/x-python",
   "name": "python",
   "nbconvert_exporter": "python",
   "pygments_lexer": "ipython3",
   "version": "3.9.7"
  },
  "toc": {
   "colors": {
    "hover_highlight": "#DAA520",
    "navigate_num": "#000000",
    "navigate_text": "#333333",
    "running_highlight": "#FF0000",
    "selected_highlight": "#FFD700",
    "sidebar_border": "#EEEEEE",
    "wrapper_background": "#FFFFFF"
   },
   "moveMenuLeft": true,
   "nav_menu": {
    "height": "171px",
    "width": "252px"
   },
   "navigate_menu": true,
   "number_sections": true,
   "sideBar": true,
   "threshold": 4,
   "toc_cell": false,
   "toc_section_display": "block",
   "toc_window_display": false,
   "widenNotebook": false
  }
 },
 "nbformat": 4,
 "nbformat_minor": 4
}
